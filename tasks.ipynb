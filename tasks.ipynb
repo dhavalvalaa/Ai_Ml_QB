{
 "cells": [
  {
   "cell_type": "code",
   "execution_count": 64,
   "id": "8a750fdc",
   "metadata": {},
   "outputs": [],
   "source": [
    "# Task 1: Pandas\n",
    "# Import the dataframe\n",
    "# Find data types of the columns using inbuilt function\n",
    "# List all the unique values in the “Department” column and clean the mistake\n",
    "# Drop missing data/NA data from the column 'Score'\n",
    "# Rename columns “Date Joined” → “JoinedDate” and “Score” → “PerformanceScore”\n",
    "# Drop duplicate rows based on the “ID” column, keeping only the first occurrence\n",
    "# 'Departments' may have extra spaces or inconsistent casing, strip whitespace and capitalize each department name\n",
    "# Save the new dataframe to csv\n",
    "\n",
    "# Task 2: Numpy\n",
    "# Make 1D array of numpy with numbers 10 to 20 (inclusive)\n",
    "# Make the above array to new array of size (5,2)\n",
    "# Make new array of shape (5,5) with all elements randomly intialized\n",
    "# Make a new array of all 1's of size 10"
   ]
  },
  {
   "cell_type": "code",
   "execution_count": 65,
   "id": "8139b4c9",
   "metadata": {},
   "outputs": [],
   "source": [
    "import numpy as np\n",
    "import pandas as pd"
   ]
  },
  {
   "cell_type": "code",
   "execution_count": 66,
   "id": "257fb5a7",
   "metadata": {},
   "outputs": [],
   "source": [
    "# Import the dataframe\n",
    "df = pd.read_csv('C:/Users/User 1/Desktop/Ai_Ml_QB/messy_data.csv')"
   ]
  },
  {
   "cell_type": "code",
   "execution_count": 67,
   "id": "d075e8a0",
   "metadata": {},
   "outputs": [
    {
     "name": "stdout",
     "output_type": "stream",
     "text": [
      "<class 'pandas.core.frame.DataFrame'>\n",
      "RangeIndex: 6 entries, 0 to 5\n",
      "Data columns (total 6 columns):\n",
      " #   Column       Non-Null Count  Dtype  \n",
      "---  ------       --------------  -----  \n",
      " 0   ID           5 non-null      float64\n",
      " 1   Name         5 non-null      object \n",
      " 2   Age          5 non-null      object \n",
      " 3   Date Joined  6 non-null      object \n",
      " 4   Score        4 non-null      float64\n",
      " 5   Department   6 non-null      object \n",
      "dtypes: float64(2), object(4)\n",
      "memory usage: 420.0+ bytes\n"
     ]
    }
   ],
   "source": [
    "# Find data types of the columns using inbuilt function\n",
    "df.info()"
   ]
  },
  {
   "cell_type": "code",
   "execution_count": 68,
   "id": "59916147",
   "metadata": {},
   "outputs": [
    {
     "data": {
      "text/plain": [
       "0      Sales\n",
       "1      sales\n",
       "2         HR\n",
       "3        HR \n",
       "4    finance\n",
       "5    Finance\n",
       "Name: Department, dtype: object"
      ]
     },
     "execution_count": 68,
     "metadata": {},
     "output_type": "execute_result"
    }
   ],
   "source": [
    "# List all the unique values in the “Department” column and clean the mistake\n",
    "df.Department"
   ]
  },
  {
   "cell_type": "code",
   "execution_count": 69,
   "id": "526a8cd8",
   "metadata": {},
   "outputs": [
    {
     "data": {
      "text/html": [
       "<div>\n",
       "<style scoped>\n",
       "    .dataframe tbody tr th:only-of-type {\n",
       "        vertical-align: middle;\n",
       "    }\n",
       "\n",
       "    .dataframe tbody tr th {\n",
       "        vertical-align: top;\n",
       "    }\n",
       "\n",
       "    .dataframe thead th {\n",
       "        text-align: right;\n",
       "    }\n",
       "</style>\n",
       "<table border=\"1\" class=\"dataframe\">\n",
       "  <thead>\n",
       "    <tr style=\"text-align: right;\">\n",
       "      <th></th>\n",
       "      <th>ID</th>\n",
       "      <th>Name</th>\n",
       "      <th>Age</th>\n",
       "      <th>Date Joined</th>\n",
       "      <th>Score</th>\n",
       "      <th>Department</th>\n",
       "    </tr>\n",
       "  </thead>\n",
       "  <tbody>\n",
       "    <tr>\n",
       "      <th>0</th>\n",
       "      <td>1.0</td>\n",
       "      <td>Alice</td>\n",
       "      <td>TRUE</td>\n",
       "      <td>2021-01-15</td>\n",
       "      <td>88.5</td>\n",
       "      <td>Sales</td>\n",
       "    </tr>\n",
       "    <tr>\n",
       "      <th>1</th>\n",
       "      <td>2.0</td>\n",
       "      <td>Bob</td>\n",
       "      <td>FALSE</td>\n",
       "      <td>15/02/2021</td>\n",
       "      <td>92.0</td>\n",
       "      <td>sales</td>\n",
       "    </tr>\n",
       "    <tr>\n",
       "      <th>2</th>\n",
       "      <td>2.0</td>\n",
       "      <td>Charlie</td>\n",
       "      <td>40</td>\n",
       "      <td>2021-03-05</td>\n",
       "      <td>NaN</td>\n",
       "      <td>HR</td>\n",
       "    </tr>\n",
       "    <tr>\n",
       "      <th>3</th>\n",
       "      <td>NaN</td>\n",
       "      <td>Dave</td>\n",
       "      <td>35</td>\n",
       "      <td>April 10, 2021</td>\n",
       "      <td>85.0</td>\n",
       "      <td>HR</td>\n",
       "    </tr>\n",
       "    <tr>\n",
       "      <th>4</th>\n",
       "      <td>5.0</td>\n",
       "      <td>NaN</td>\n",
       "      <td>NaN</td>\n",
       "      <td>2021.05.01</td>\n",
       "      <td>90.0</td>\n",
       "      <td>finance</td>\n",
       "    </tr>\n",
       "  </tbody>\n",
       "</table>\n",
       "</div>"
      ],
      "text/plain": [
       "    ID     Name    Age     Date Joined  Score Department\n",
       "0  1.0    Alice   TRUE      2021-01-15   88.5      Sales\n",
       "1  2.0     Bob   FALSE      15/02/2021   92.0      sales\n",
       "2  2.0  Charlie     40      2021-03-05    NaN         HR\n",
       "3  NaN     Dave     35  April 10, 2021   85.0        HR \n",
       "4  5.0      NaN    NaN      2021.05.01   90.0    finance"
      ]
     },
     "metadata": {},
     "output_type": "display_data"
    },
    {
     "name": "stdout",
     "output_type": "stream",
     "text": [
      "    ID     Name    Age     Date Joined  Score Department\n",
      "0  1.0    Alice   TRUE      2021-01-15   88.5      Sales\n",
      "1  2.0     Bob   FALSE      15/02/2021   92.0      sales\n",
      "2  2.0  Charlie     40      2021-03-05    NaN         HR\n",
      "3  NaN     Dave     35  April 10, 2021   85.0        HR \n",
      "4  5.0      NaN    NaN      2021.05.01   90.0    finance\n",
      "5  6.0      Eve     28      2021-06-01    NaN    Finance\n"
     ]
    }
   ],
   "source": [
    "display(df.head())\n",
    "print(df.to_string())"
   ]
  },
  {
   "cell_type": "code",
   "execution_count": 70,
   "id": "6d59e80c",
   "metadata": {},
   "outputs": [
    {
     "data": {
      "text/plain": [
       "Department\n",
       "Sales      1\n",
       "sales      1\n",
       "HR         1\n",
       "HR         1\n",
       "finance    1\n",
       "Finance    1\n",
       "Name: count, dtype: int64"
      ]
     },
     "execution_count": 70,
     "metadata": {},
     "output_type": "execute_result"
    }
   ],
   "source": [
    "df[\"Department\"].value_counts()"
   ]
  },
  {
   "cell_type": "code",
   "execution_count": 71,
   "id": "3b1ada24",
   "metadata": {},
   "outputs": [
    {
     "data": {
      "text/plain": [
       "Department\n",
       "sales      2\n",
       "hr         2\n",
       "finance    2\n",
       "Name: count, dtype: int64"
      ]
     },
     "execution_count": 71,
     "metadata": {},
     "output_type": "execute_result"
    }
   ],
   "source": [
    "df[\"Department\"] = df[\"Department\"].apply(lambda x: x.lower())\n",
    "df[\"Department\"] = df[\"Department\"].apply(lambda x: x.strip())\n",
    "df[\"Department\"].value_counts()"
   ]
  },
  {
   "cell_type": "code",
   "execution_count": 72,
   "id": "c07a0533",
   "metadata": {},
   "outputs": [
    {
     "data": {
      "text/plain": [
       "0    88.5\n",
       "1    92.0\n",
       "2     NaN\n",
       "3    85.0\n",
       "4    90.0\n",
       "5     NaN\n",
       "Name: Score, dtype: float64"
      ]
     },
     "execution_count": 72,
     "metadata": {},
     "output_type": "execute_result"
    }
   ],
   "source": [
    "# Drop missing data/NA data from the column 'Score'\n",
    "df.Score"
   ]
  },
  {
   "cell_type": "code",
   "execution_count": 73,
   "id": "97b69c5c",
   "metadata": {},
   "outputs": [
    {
     "data": {
      "text/plain": [
       "0    88.5\n",
       "1    92.0\n",
       "3    85.0\n",
       "4    90.0\n",
       "Name: Score, dtype: float64"
      ]
     },
     "execution_count": 73,
     "metadata": {},
     "output_type": "execute_result"
    }
   ],
   "source": [
    "df.dropna(subset=\"Score\", inplace=True)\n",
    "df.Score"
   ]
  },
  {
   "cell_type": "code",
   "execution_count": 74,
   "id": "81586434",
   "metadata": {},
   "outputs": [
    {
     "name": "stdout",
     "output_type": "stream",
     "text": [
      "    ID    Name    Age      JoinedDate  PerformanceScore Department\n",
      "0  1.0   Alice   TRUE      2021-01-15              88.5      sales\n",
      "1  2.0    Bob   FALSE      15/02/2021              92.0      sales\n",
      "3  NaN    Dave     35  April 10, 2021              85.0         hr\n",
      "4  5.0     NaN    NaN      2021.05.01              90.0    finance\n"
     ]
    }
   ],
   "source": [
    "# Rename columns “Date Joined” → “JoinedDate” and “Score” → “PerformanceScore”\n",
    "df.rename(columns={\"Date Joined\": \"JoinedDate\", \"Score\": \"PerformanceScore\"}, inplace=True)\n",
    "print(df.to_string())"
   ]
  },
  {
   "cell_type": "code",
   "execution_count": 75,
   "id": "46abc507",
   "metadata": {},
   "outputs": [
    {
     "name": "stdout",
     "output_type": "stream",
     "text": [
      "    ID    Name    Age      JoinedDate  PerformanceScore Department\n",
      "0  1.0   Alice   TRUE      2021-01-15              88.5      sales\n",
      "1  2.0    Bob   FALSE      15/02/2021              92.0      sales\n",
      "3  NaN    Dave     35  April 10, 2021              85.0         hr\n",
      "4  5.0     NaN    NaN      2021.05.01              90.0    finance\n"
     ]
    }
   ],
   "source": [
    "# Drop duplicate rows based on the “ID” column, keeping only the first occurrence\n",
    "print(df.to_string())"
   ]
  },
  {
   "cell_type": "code",
   "execution_count": 76,
   "id": "5bfbd372",
   "metadata": {},
   "outputs": [
    {
     "name": "stdout",
     "output_type": "stream",
     "text": [
      "    ID    Name    Age  JoinedDate  PerformanceScore Department\n",
      "0  1.0   Alice   TRUE  2021-01-15              88.5      sales\n",
      "1  2.0    Bob   FALSE  15/02/2021              92.0      sales\n",
      "4  5.0     NaN    NaN  2021.05.01              90.0    finance\n"
     ]
    }
   ],
   "source": [
    "df.dropna(subset=\"ID\", inplace=True)\n",
    "print(df.to_string())"
   ]
  },
  {
   "cell_type": "code",
   "execution_count": 77,
   "id": "d4903e33",
   "metadata": {},
   "outputs": [
    {
     "data": {
      "text/plain": [
       "0      sales\n",
       "1      sales\n",
       "4    finance\n",
       "Name: Department, dtype: object"
      ]
     },
     "metadata": {},
     "output_type": "display_data"
    }
   ],
   "source": [
    "# 'Departments' may have extra spaces or inconsistent casing, strip whitespace and capitalize each department name\n",
    "df[\"Department\"].astype(str)\n",
    "df[\"Department\"] = df[\"Department\"].apply(lambda x: x.strip() if isinstance(x, str) else np.nan)\n",
    "display(df.Department)"
   ]
  },
  {
   "cell_type": "code",
   "execution_count": 78,
   "id": "9ed893e6",
   "metadata": {},
   "outputs": [],
   "source": [
    "# Save the new dataframe to csv\n",
    "new_df = df.to_csv(\"new_df\", index=False)"
   ]
  },
  {
   "cell_type": "code",
   "execution_count": 79,
   "id": "19e8f552",
   "metadata": {},
   "outputs": [],
   "source": [
    "#  Task 2: Numpy\n",
    "# Make 1D array of numpy with numbers 10 to 20 (inclusive)\n",
    "# Make the above array to new array of size (5,2)\n",
    "# Make new array of shape (5,5) with all elements randomly intialized\n",
    "# Make a new array of all 1's of size 10"
   ]
  },
  {
   "cell_type": "code",
   "execution_count": 80,
   "id": "30cd9470",
   "metadata": {},
   "outputs": [],
   "source": [
    "import numpy as np"
   ]
  },
  {
   "cell_type": "code",
   "execution_count": 81,
   "id": "18cae7ea",
   "metadata": {},
   "outputs": [
    {
     "data": {
      "text/plain": [
       "array([10, 11, 12, 13, 14, 15, 16, 17, 18, 19])"
      ]
     },
     "execution_count": 81,
     "metadata": {},
     "output_type": "execute_result"
    }
   ],
   "source": [
    "# Make 1D array of numpy with numbers 10 to 20 (inclusive)\n",
    "arr_1d = np.arange(10,20)\n",
    "arr_1d"
   ]
  },
  {
   "cell_type": "code",
   "execution_count": 88,
   "id": "abd87363",
   "metadata": {},
   "outputs": [
    {
     "data": {
      "text/plain": [
       "(10,)"
      ]
     },
     "execution_count": 88,
     "metadata": {},
     "output_type": "execute_result"
    }
   ],
   "source": [
    "# Make the above array to new array of size (5,2)\n",
    "arr_1d.reshape(5,2)\n",
    "arr_1d.shape"
   ]
  },
  {
   "cell_type": "code",
   "execution_count": 87,
   "id": "8682c543",
   "metadata": {},
   "outputs": [
    {
     "data": {
      "text/plain": [
       "array([[0.66311639, 0.28481064, 0.40898844, 0.76829142, 0.65610521],\n",
       "       [0.2102734 , 0.16733862, 0.51948576, 0.79641852, 0.50639997],\n",
       "       [0.38843568, 0.2865317 , 0.12765515, 0.12199629, 0.70408545],\n",
       "       [0.72692564, 0.0574829 , 0.78080398, 0.06846951, 0.40085504],\n",
       "       [0.56984203, 0.04131377, 0.55940992, 0.900496  , 0.84197791]])"
      ]
     },
     "execution_count": 87,
     "metadata": {},
     "output_type": "execute_result"
    }
   ],
   "source": [
    "# Make new array of shape (5,5) with all elements randomly intialized\n",
    "new_arr_55 = np.random.rand(5,5)\n",
    "new_arr_55"
   ]
  },
  {
   "cell_type": "code",
   "execution_count": 84,
   "id": "a6b13c31",
   "metadata": {},
   "outputs": [
    {
     "data": {
      "text/plain": [
       "array([1., 1., 1., 1., 1., 1., 1., 1., 1., 1.])"
      ]
     },
     "execution_count": 84,
     "metadata": {},
     "output_type": "execute_result"
    }
   ],
   "source": [
    "# Make a new array of all 1's of size 10\n",
    "new_arr_once = np.ones(10)\n",
    "new_arr_once"
   ]
  },
  {
   "cell_type": "code",
   "execution_count": null,
   "id": "8734dbdc",
   "metadata": {},
   "outputs": [],
   "source": []
  }
 ],
 "metadata": {
  "kernelspec": {
   "display_name": "Python 3",
   "language": "python",
   "name": "python3"
  },
  "language_info": {
   "codemirror_mode": {
    "name": "ipython",
    "version": 3
   },
   "file_extension": ".py",
   "mimetype": "text/x-python",
   "name": "python",
   "nbconvert_exporter": "python",
   "pygments_lexer": "ipython3",
   "version": "3.13.4"
  }
 },
 "nbformat": 4,
 "nbformat_minor": 5
}
