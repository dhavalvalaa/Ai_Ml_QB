{
 "cells": [
  {
   "cell_type": "code",
   "execution_count": 64,
   "id": "03bb13ac",
   "metadata": {},
   "outputs": [],
   "source": [
    "import numpy as np\n"
   ]
  },
  {
   "cell_type": "code",
   "execution_count": 65,
   "id": "70da880d",
   "metadata": {},
   "outputs": [
    {
     "name": "stdout",
     "output_type": "stream",
     "text": [
      "[[[[[1 2 3 4 5]]]]]\n",
      "5\n"
     ]
    }
   ],
   "source": [
    "arr = np.array([1,2,3,4,5], ndmin=5) #\n",
    "print(arr)\n",
    "print(arr.ndim)"
   ]
  },
  {
   "cell_type": "code",
   "execution_count": 66,
   "id": "e4dfba1b",
   "metadata": {},
   "outputs": [
    {
     "name": "stdout",
     "output_type": "stream",
     "text": [
      "[[ 1  2  3  4  5]\n",
      " [ 6  7  8  9 10]]\n",
      "2nd element on 1st row:  2\n",
      "\n",
      "[[[ 1  2  3]\n",
      "  [ 4  5  6]]\n",
      "\n",
      " [[ 7  8  9]\n",
      "  [10 11 12]]]\n",
      "6\n",
      "\n",
      "[[ 1  2  3  4  5]\n",
      " [ 6  7  8  9 10]]\n",
      "Last element from 2nd dim:  10\n"
     ]
    }
   ],
   "source": [
    "arr = np.array([[1,2,3,4,5], [6,7,8,9,10]])\n",
    "print(arr)\n",
    "print('2nd element on 1st row: ', arr[0, 1])\n",
    "\n",
    "print()\n",
    "\n",
    "arr = np.array([[[1, 2, 3], [4, 5, 6]], [[7, 8, 9], [10, 11, 12]]])\n",
    "print(arr)\n",
    "print(arr[0, 1, 2])\n",
    "\n",
    "print()\n",
    "\n",
    "arr = np.array([[1,2,3,4,5], [6,7,8,9,10]])\n",
    "print(arr)\n",
    "print('Last element from 2nd dim: ', arr[1, -1])"
   ]
  },
  {
   "cell_type": "code",
   "execution_count": 67,
   "id": "04c515d3",
   "metadata": {},
   "outputs": [
    {
     "name": "stdout",
     "output_type": "stream",
     "text": [
      "[7 8 9]\n"
     ]
    }
   ],
   "source": [
    "arr = np.array([[1, 2, 3, 4, 5], [6, 7, 8, 9, 10]])\n",
    "print(arr[1, 1:4])"
   ]
  },
  {
   "cell_type": "markdown",
   "id": "95448590",
   "metadata": {},
   "source": [
    "data types in NumPy and the characters used to represent them.\n",
    "\n",
    "i - integer\n",
    "b - boolean\n",
    "u - unsigned integer\n",
    "f - float\n",
    "c - complex float\n",
    "m - timedelta\n",
    "M - datetime\n",
    "O - object\n",
    "S - string\n",
    "U - unicode string\n",
    "V - fixed chunk of memory for other type ( void )\n",
    "\n",
    "For i, u, f, S and U we can define size as well."
   ]
  },
  {
   "cell_type": "code",
   "execution_count": 68,
   "id": "a35c2006",
   "metadata": {},
   "outputs": [
    {
     "name": "stdout",
     "output_type": "stream",
     "text": [
      "<U6\n"
     ]
    }
   ],
   "source": [
    "import numpy as np\n",
    "\n",
    "arr = np.array(['apple', 'banana', 'cherry'])\n",
    "\n",
    "print(arr.dtype)"
   ]
  },
  {
   "cell_type": "code",
   "execution_count": 69,
   "id": "996d1f88",
   "metadata": {},
   "outputs": [
    {
     "name": "stdout",
     "output_type": "stream",
     "text": [
      "[1 2 3 4]\n",
      "int32\n"
     ]
    }
   ],
   "source": [
    "import numpy as np\n",
    "\n",
    "arr = np.array([1, 2, 3, 4], dtype='i')\n",
    "\n",
    "print(arr)\n",
    "print(arr.dtype)"
   ]
  },
  {
   "cell_type": "code",
   "execution_count": 70,
   "id": "f155068f",
   "metadata": {},
   "outputs": [
    {
     "name": "stdout",
     "output_type": "stream",
     "text": [
      "[1. 2. 3. 4.]\n",
      "[1. 2. 3. 4.]\n"
     ]
    }
   ],
   "source": [
    "print(arr.astype('f')) # for changing the data type of existing array\n",
    "print(arr.astype(float)) #if we write full name then don't use ''"
   ]
  },
  {
   "cell_type": "markdown",
   "id": "5b5e2d21",
   "metadata": {},
   "source": [
    "Copy and View\n",
    "\n",
    "copy owns the data and any changes made to the copy will no affect original array and any changes made on original array will not affact to the copy\n",
    "\n",
    "view does not own the data and any changes made to the view will affect the original array\n",
    "\n",
    "array has the attribute base that return none if the array owns the data\n",
    "in simple, the base attribute refers to the original object\n",
    "\n",
    "base attribute retuen None if the array owns the data"
   ]
  },
  {
   "cell_type": "code",
   "execution_count": 71,
   "id": "edc64fb1",
   "metadata": {},
   "outputs": [
    {
     "name": "stdout",
     "output_type": "stream",
     "text": [
      "[[1 2 3]\n",
      " [4 5 6]]\n",
      "[[4 2 3]\n",
      " [4 5 6]]\n",
      "None\n",
      "[[4 2 3]\n",
      " [4 5 6]]\n"
     ]
    }
   ],
   "source": [
    "arr = np.array([[1,2,3],[4,5,6]])\n",
    "x = arr.copy()\n",
    "y = arr.view()\n",
    "\n",
    "arr[0][0] = 4\n",
    "print(x)\n",
    "print(y)\n",
    "\n",
    "print(x.base)\n",
    "print(y.base)\n"
   ]
  },
  {
   "cell_type": "code",
   "execution_count": 72,
   "id": "c5a0a871",
   "metadata": {},
   "outputs": [
    {
     "name": "stdout",
     "output_type": "stream",
     "text": [
      "[[[[ 1  3]\n",
      "   [ 5  7]]\n",
      "\n",
      "  [[ 9 11]\n",
      "   [13 15]]]\n",
      "\n",
      "\n",
      " [[[17 19]\n",
      "   [21 23]]\n",
      "\n",
      "  [[25 27]\n",
      "   [29 31]]]]\n",
      "(2, 2, 2, 2)\n",
      "(0, 0, 0, 0) 1\n",
      "(0, 0, 0, 1) 3\n",
      "(0, 0, 1, 0) 5\n",
      "(0, 0, 1, 1) 7\n",
      "(0, 1, 0, 0) 9\n",
      "(0, 1, 0, 1) 11\n",
      "(0, 1, 1, 0) 13\n",
      "(0, 1, 1, 1) 15\n",
      "(1, 0, 0, 0) 17\n",
      "(1, 0, 0, 1) 19\n",
      "(1, 0, 1, 0) 21\n",
      "(1, 0, 1, 1) 23\n",
      "(1, 1, 0, 0) 25\n",
      "(1, 1, 0, 1) 27\n",
      "(1, 1, 1, 0) 29\n",
      "(1, 1, 1, 1) 31\n",
      "25\n"
     ]
    }
   ],
   "source": [
    "arr_4d = np.array([[[[1, 3], [5, 7]], [[9, 11], [13, 15]]],\n",
    "                    [[[17, 19], [21, 23]], [[25, 27], [29, 31]]]])\n",
    "\n",
    "print(arr_4d)\n",
    "print(arr_4d.shape)  # Output: (2, 2, 2, 2)\n",
    "\n",
    "for i,j in np.ndenumerate(arr_4d):\n",
    "    print(i,j)\n",
    "\n",
    "print(arr_4d[1][1][0][0])"
   ]
  },
  {
   "cell_type": "markdown",
   "id": "cc8fd1b0",
   "metadata": {},
   "source": [
    "Unknown Dimension\n",
    "\n",
    "when we have not specify the ecact number for one of the dimension in reshape method then we pass -1 as the value"
   ]
  },
  {
   "cell_type": "code",
   "execution_count": 73,
   "id": "e59715c1",
   "metadata": {},
   "outputs": [
    {
     "data": {
      "text/plain": [
       "array([[[1],\n",
       "        [2],\n",
       "        [3]],\n",
       "\n",
       "       [[4],\n",
       "        [5],\n",
       "        [6]],\n",
       "\n",
       "       [[7],\n",
       "        [8],\n",
       "        [9]]])"
      ]
     },
     "execution_count": 73,
     "metadata": {},
     "output_type": "execute_result"
    }
   ],
   "source": [
    "arr = np.array([1,2,3,4,5,6,7,8,9,])\n",
    "arr.reshape(3,3,-1)"
   ]
  },
  {
   "cell_type": "code",
   "execution_count": 74,
   "id": "191b4928",
   "metadata": {},
   "outputs": [
    {
     "name": "stdout",
     "output_type": "stream",
     "text": [
      "[1 2 3]\n",
      "[4 5 6]\n",
      "----------------------------------------\n",
      "1\n",
      "2\n",
      "3\n",
      "4\n",
      "5\n",
      "6\n"
     ]
    }
   ],
   "source": [
    "arr = np.array([[1, 2, 3], [4, 5, 6]])\n",
    "\n",
    "for i in arr:\n",
    "    print(i)\n",
    "\n",
    "print(\"-\"*40)\n",
    "\n",
    "for x in arr:\n",
    "    for y in x:\n",
    "        print(y)\n"
   ]
  },
  {
   "cell_type": "markdown",
   "id": "cba0542b",
   "metadata": {},
   "source": [
    "nditer()\n",
    "this is used to avoid the for loop for the iterartion"
   ]
  },
  {
   "cell_type": "code",
   "execution_count": 75,
   "id": "effea0c7",
   "metadata": {},
   "outputs": [
    {
     "name": "stdout",
     "output_type": "stream",
     "text": [
      "1\n",
      "2\n",
      "3\n",
      "4\n",
      "5\n",
      "6\n"
     ]
    }
   ],
   "source": [
    "for i in np.nditer(arr):\n",
    "    print(i)"
   ]
  },
  {
   "cell_type": "markdown",
   "id": "7440ef25",
   "metadata": {},
   "source": [
    "We can use op_dtypes argument and pass it the expected datatype to change the datatype of elements while iterating.\n",
    "\n",
    "NumPy does not change the data type of the element in-place (where the element is in array) so it needs some other space to perform this action, that extra space is called buffer, and in order to enable it in nditer() we pass flags=['buffered']."
   ]
  },
  {
   "cell_type": "code",
   "execution_count": 76,
   "id": "1a6b2732",
   "metadata": {},
   "outputs": [
    {
     "name": "stdout",
     "output_type": "stream",
     "text": [
      "1.0\n",
      "2.0\n",
      "3.0\n",
      "4.0\n",
      "5.0\n",
      "6.0\n"
     ]
    }
   ],
   "source": [
    "for i in np.nditer(arr, flags = ['buffered'], op_dtypes=[float]):\n",
    "    print(i)"
   ]
  },
  {
   "cell_type": "code",
   "execution_count": 77,
   "id": "e232ce65",
   "metadata": {},
   "outputs": [
    {
     "name": "stdout",
     "output_type": "stream",
     "text": [
      "1\n",
      "3\n",
      "5\n",
      "7\n"
     ]
    }
   ],
   "source": [
    "import numpy as np\n",
    "\n",
    "arr = np.array([[1, 2, 3, 4], [5, 6, 7, 8]])\n",
    "\n",
    "for x in np.nditer(arr[:, ::2]):\n",
    "  print(x)"
   ]
  },
  {
   "cell_type": "markdown",
   "id": "87bf531d",
   "metadata": {},
   "source": [
    "Enumerated Iteration Using ndenumerate()\n",
    "Enumeration means mentioning sequence number of somethings one by one.\n",
    "\n",
    "Sometimes we require corresponding index of the element while iterating, the ndenumerate() method can be used for those usecases.\n",
    "\n",
    "if we want to find the index of particular element then we use this"
   ]
  },
  {
   "cell_type": "code",
   "execution_count": 78,
   "id": "ce9ed146",
   "metadata": {},
   "outputs": [
    {
     "name": "stdout",
     "output_type": "stream",
     "text": [
      "(0, 0) 1\n",
      "(0, 1) 2\n",
      "(0, 2) 3\n",
      "(0, 3) 4\n",
      "(1, 0) 5\n",
      "(1, 1) 6\n",
      "(1, 2) 7\n",
      "(1, 3) 8\n"
     ]
    }
   ],
   "source": [
    "arr = np.array([[1, 2, 3, 4], [5, 6, 7, 8]])\n",
    "\n",
    "for idx,x in np.ndenumerate(arr):\n",
    "    print(idx,x)"
   ]
  },
  {
   "cell_type": "markdown",
   "id": "e169e5f4",
   "metadata": {},
   "source": [
    "Key Differences\n",
    "np.stack(): Adds a new dimension while stacking arrays together.\n",
    "\n",
    "np.concatenate(): Joins arrays along an existing axis without adding a new dimension.\n",
    "\n",
    "np.hstack() (Horizontal Stack) → Joins arrays side-by-side (along columns) without adding a new dimension.\n",
    "\n",
    "np.vstack() (Vertical Stack) → Stacks arrays on top of each other (along rows) without adding a new dimension.\n",
    "\n",
    "np.dstack() (Depth Stack) → Adds a new third dimension, stacking along depth (axis=2)."
   ]
  },
  {
   "cell_type": "code",
   "execution_count": 83,
   "id": "f28763e6",
   "metadata": {},
   "outputs": [
    {
     "name": "stdout",
     "output_type": "stream",
     "text": [
      "[[1 2]\n",
      " [3 4]]\n",
      "(2, 2)\n",
      "----------------------------------------\n",
      "[[5 6]\n",
      " [7 8]]\n",
      "(2, 2)\n",
      "----------------------------------------\n",
      "[[1 2]\n",
      " [3 4]\n",
      " [5 6]\n",
      " [7 8]]\n",
      "(4, 2)\n",
      "----------------------------------------\n",
      "[[1 2 5 6]\n",
      " [3 4 7 8]]\n",
      "(2, 4)\n"
     ]
    }
   ],
   "source": [
    "# concatenate() is used to join array and we also use axis in that and by defalut it is 0(col)\n",
    "\n",
    "arr1 = np.array([[1,2],[3,4]])\n",
    "print(arr1)\n",
    "print(arr1.shape)\n",
    "print(\"-\"*40)\n",
    "\n",
    "arr2 = np.array([[5,6],[7,8]])\n",
    "print(arr2)\n",
    "print(arr2.shape)\n",
    "print(\"-\"*40)\n",
    "\n",
    "arr = np.concatenate((arr1,arr2))\n",
    "print(arr)\n",
    "print(arr.shape)\n",
    "print(\"-\"*40)\n",
    "\n",
    "arr = np.concatenate((arr1,arr2),axis=1)\n",
    "print(arr)\n",
    "print(arr.shape)\n"
   ]
  },
  {
   "cell_type": "code",
   "execution_count": 86,
   "id": "99bf004d",
   "metadata": {},
   "outputs": [
    {
     "name": "stdout",
     "output_type": "stream",
     "text": [
      "[[1 2]\n",
      " [3 4]]\n",
      "(2, 2)\n",
      "----------------------------------------\n",
      "[[5 6]\n",
      " [7 8]]\n",
      "(2, 2)\n",
      "----------------------------------------\n",
      "[[[1 2]\n",
      "  [3 4]]\n",
      "\n",
      " [[5 6]\n",
      "  [7 8]]]\n",
      "(2, 2, 2)\n",
      "----------------------------------------\n",
      "[[[1 2]\n",
      "  [5 6]]\n",
      "\n",
      " [[3 4]\n",
      "  [7 8]]]\n",
      "(2, 2, 2)\n"
     ]
    }
   ],
   "source": [
    "arr1 = np.array([[1,2],[3,4]])\n",
    "print(arr1)\n",
    "print(arr1.shape)\n",
    "print(\"-\"*40)\n",
    "\n",
    "arr2 = np.array([[5,6],[7,8]])\n",
    "print(arr2)\n",
    "print(arr2.shape)\n",
    "print(\"-\"*40)\n",
    "\n",
    "arr = np.stack((arr1,arr2))\n",
    "print(arr)\n",
    "print(arr.shape)\n",
    "print(\"-\"*40)\n",
    "\n",
    "arr = np.stack((arr1,arr2),axis=1)\n",
    "print(arr)\n",
    "print(arr.shape)\n"
   ]
  },
  {
   "cell_type": "code",
   "execution_count": 92,
   "id": "49e28b74",
   "metadata": {},
   "outputs": [
    {
     "name": "stdout",
     "output_type": "stream",
     "text": [
      "[[1 2]\n",
      " [3 4]]\n",
      "(2, 2)\n",
      "----------------------------------------\n",
      "[[5 6]\n",
      " [7 8]]\n",
      "(2, 2)\n",
      "----------------------------------------\n",
      "[[1 2 5 6]\n",
      " [3 4 7 8]]\n",
      "(2, 4)\n",
      "[[1 2]\n",
      " [3 4]\n",
      " [5 6]\n",
      " [7 8]]\n",
      "(4, 2)\n",
      "[[[1 5]\n",
      "  [2 6]]\n",
      "\n",
      " [[3 7]\n",
      "  [4 8]]]\n",
      "(2, 2, 2)\n"
     ]
    }
   ],
   "source": [
    "arr1 = np.array([[1,2],[3,4]])\n",
    "print(arr1)\n",
    "print(arr1.shape)\n",
    "print(\"-\"*40)\n",
    "\n",
    "arr2 = np.array([[5,6],[7,8]])\n",
    "print(arr2)\n",
    "print(arr2.shape)\n",
    "print(\"-\"*40)\n",
    "\n",
    "arr = np.hstack((arr1,arr2))\n",
    "print(arr)\n",
    "print(arr.shape)\n",
    "\n",
    "arr = np.vstack((arr1,arr2))\n",
    "print(arr)\n",
    "print(arr.shape)\n",
    "\n",
    "arr = np.dstack((arr1,arr2))\n",
    "print(arr)\n",
    "print(arr.shape)\n"
   ]
  },
  {
   "cell_type": "code",
   "execution_count": null,
   "id": "dd3db8e3",
   "metadata": {},
   "outputs": [],
   "source": []
  }
 ],
 "metadata": {
  "kernelspec": {
   "display_name": "Python 3",
   "language": "python",
   "name": "python3"
  },
  "language_info": {
   "codemirror_mode": {
    "name": "ipython",
    "version": 3
   },
   "file_extension": ".py",
   "mimetype": "text/x-python",
   "name": "python",
   "nbconvert_exporter": "python",
   "pygments_lexer": "ipython3",
   "version": "3.13.4"
  }
 },
 "nbformat": 4,
 "nbformat_minor": 5
}
