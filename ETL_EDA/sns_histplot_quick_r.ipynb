{
 "cells": [
  {
   "cell_type": "markdown",
   "id": "71aa336b",
   "metadata": {},
   "source": [
    "Absolutely! Here's a quick refresher on `histplot` using **Seaborn**, your go-to for stylish data visualizations.\n",
    "\n",
    "---\n",
    "\n",
    "### 📊 `sns.histplot()` — Histogram Plot\n",
    "\n",
    "**Purpose:**  \n",
    "Visualizes the **distribution of a single variable** by splitting it into intervals (bins).\n",
    "\n",
    "---\n",
    "\n",
    "### ✅ Basic Syntax:\n",
    "```python\n",
    "import seaborn as sns\n",
    "import matplotlib.pyplot as plt\n",
    "\n",
    "sns.histplot(data=df, x=\"column_name\")\n",
    "plt.show()\n",
    "```\n",
    "\n",
    "---\n",
    "\n",
    "### 🔧 Common Parameters:\n",
    "- `data=`: DataFrame containing your data\n",
    "- `x=`: Column to plot\n",
    "- `bins=`: Number of bins (e.g. `bins=30`)\n",
    "- `kde=True`: Adds a smooth density curve\n",
    "- `hue=`: Add category-based colors\n",
    "- `stat='count'` (default) or `'density'`: Controls y-axis scale\n",
    "\n",
    "---\n",
    "\n",
    "### 💡 Example with extra flair:\n",
    "```python\n",
    "sns.histplot(data=df, x=\"Age\", bins=20, kde=True, color=\"skyblue\")\n",
    "plt.title(\"Age Distribution\")\n",
    "plt.xlabel(\"Age\")\n",
    "plt.ylabel(\"Frequency\")\n",
    "plt.show()\n",
    "```\n",
    "\n",
    "---\n",
    "\n",
    "Need help layering it with multiple groups, or customizing the colors and style? I’m your chart whisperer."
   ]
  },
  {
   "cell_type": "markdown",
   "id": "f487118b",
   "metadata": {},
   "source": []
  }
 ],
 "metadata": {
  "language_info": {
   "name": "python"
  }
 },
 "nbformat": 4,
 "nbformat_minor": 5
}
