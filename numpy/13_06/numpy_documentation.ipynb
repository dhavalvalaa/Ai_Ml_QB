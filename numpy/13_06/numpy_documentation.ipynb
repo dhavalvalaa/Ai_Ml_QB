{
 "cells": [
  {
   "cell_type": "code",
   "execution_count": 3,
   "id": "1074d725",
   "metadata": {},
   "outputs": [],
   "source": [
    "import numpy as np"
   ]
  },
  {
   "cell_type": "code",
   "execution_count": 5,
   "id": "b7ed150d",
   "metadata": {},
   "outputs": [
    {
     "name": "stdout",
     "output_type": "stream",
     "text": [
      "[1 2 3 4]\n"
     ]
    },
    {
     "data": {
      "text/plain": [
       "numpy.ndarray"
      ]
     },
     "execution_count": 5,
     "metadata": {},
     "output_type": "execute_result"
    }
   ],
   "source": [
    "i = np.array([1,2,3,4])\n",
    "print(i)\n",
    "type(i)"
   ]
  },
  {
   "cell_type": "code",
   "execution_count": 7,
   "id": "633f8df4",
   "metadata": {},
   "outputs": [
    {
     "data": {
      "text/plain": [
       "'2.3.0'"
      ]
     },
     "execution_count": 7,
     "metadata": {},
     "output_type": "execute_result"
    }
   ],
   "source": [
    "np.__version__"
   ]
  },
  {
   "cell_type": "code",
   "execution_count": null,
   "id": "e151a218",
   "metadata": {},
   "outputs": [
    {
     "name": "stdout",
     "output_type": "stream",
     "text": [
      "42\n",
      "[1 2 3 4]\n",
      "[[1 2 3]\n",
      " [4 5 6]]\n"
     ]
    }
   ],
   "source": [
    "# 0-D array\n",
    "print(np.array(42))\n",
    "\n",
    "# 1-D Arrays\n",
    "# An array that has 0-D arrays as its elements is called uni-dimensional or 1-D array.\n",
    "print(np.array([1,2,3,4]))\n",
    "\n",
    "# 2-D Arrays\n",
    "# An array that has 1-D arrays as its elements is called a 2-D array.\n",
    "# These are often used to represent matrix or 2nd order tensors.\n",
    "# NumPy has a whole sub module dedicated towards matrix operations called numpy.mat\n",
    "print(np.array([[1,2,3],[4,5,6]]))\n",
    "\n"
   ]
  },
  {
   "cell_type": "code",
   "execution_count": 27,
   "id": "b7795988",
   "metadata": {},
   "outputs": [
    {
     "name": "stdout",
     "output_type": "stream",
     "text": [
      "[[1. 1. 1.]\n",
      " [1. 1. 1.]\n",
      " [1. 1. 1.]]\n",
      "[0. 0. 0.]\n",
      "[[0.9249008  0.64013823]\n",
      " [0.47237651 0.19835578]\n",
      " [0.59543988 0.09110005]]\n"
     ]
    }
   ],
   "source": [
    "#method\n",
    "print(np.ones((3,3)))\n",
    "print(np.zeros(3))\n",
    "print(np.random.random((3,2)))"
   ]
  },
  {
   "cell_type": "code",
   "execution_count": 45,
   "id": "9cbd708c",
   "metadata": {},
   "outputs": [
    {
     "name": "stdout",
     "output_type": "stream",
     "text": [
      "[[1 2]\n",
      " [5 3]\n",
      " [4 6]]\n",
      "6 1 3.5 21 720 1.707825127659933\n",
      "[3.33333333 3.66666667]\n",
      "[5 6]\n",
      "[2 5 6]\n"
     ]
    }
   ],
   "source": [
    "a = np.array(([1,2],(5,3),(4,6)))\n",
    "print(a)\n",
    "print(a.max(),a.min(),a.mean(),a.sum(),a.prod(),a.std())\n",
    "print(a.mean(axis=0))\n",
    "print(a.max(axis=0))\n",
    "print(a.max(axis=1))"
   ]
  },
  {
   "cell_type": "code",
   "execution_count": 36,
   "id": "75e9ad2a",
   "metadata": {},
   "outputs": [
    {
     "data": {
      "text/plain": [
       "'\\nFunction- Name\\t        NaN-safe Version\\t            Description\\n    np.sum\\t                np.nansum\\t            Compute sum of elements\\n    np.prod\\t                np.nanprod\\t            Compute product of elements\\n    np.mean                 np.nanmean\\t            Compute mean of elements\\n    np.std              \\tnp.nanstd           \\tCompute standard deviation\\n    np.var\\t                np.nanvar\\t            Compute variance\\n    np.min              \\tnp.nanmin\\t            Find minimum value\\n    np.max              \\tnp.nanmax           \\tFind maximum value\\n    np.argmin\\t            np.nanargmin\\t            Find index of minimum value\\n    np.argmax           \\tnp.nanargmax\\t        Find index of maximum value\\n    np.median\\t            np.nanmedian\\t        Compute median of elements\\n    np.percentile        \\tnp.nanpercentile\\t    Compute rank-based statistics of elements\\n    np.any\\t                N/A\\t                    Evaluate whether any elements are true\\n    np.all\\t                N/A\\t                    Evaluate whether all elements are true\\n'"
      ]
     },
     "execution_count": 36,
     "metadata": {},
     "output_type": "execute_result"
    }
   ],
   "source": [
    "#aggregation functions\n",
    "'''\n",
    "Function- Name\t        NaN-safe Version\t            Description\n",
    "    np.sum\t                np.nansum\t            Compute sum of elements\n",
    "    np.prod\t                np.nanprod\t            Compute product of elements\n",
    "    np.mean                 np.nanmean\t            Compute mean of elements\n",
    "    np.std              \tnp.nanstd           \tCompute standard deviation\n",
    "    np.var\t                np.nanvar\t            Compute variance\n",
    "    np.min              \tnp.nanmin\t            Find minimum value\n",
    "    np.max              \tnp.nanmax           \tFind maximum value\n",
    "    np.argmin\t            np.nanargmin\t            Find index of minimum value\n",
    "    np.argmax           \tnp.nanargmax\t        Find index of maximum value\n",
    "    np.median\t            np.nanmedian\t        Compute median of elements\n",
    "    np.percentile        \tnp.nanpercentile\t    Compute rank-based statistics of elements\n",
    "    np.any\t                N/A\t                    Evaluate whether any elements are true\n",
    "    np.all\t                N/A\t                    Evaluate whether all elements are true\n",
    "'''"
   ]
  },
  {
   "cell_type": "code",
   "execution_count": 46,
   "id": "14f8b4d7",
   "metadata": {},
   "outputs": [
    {
     "data": {
      "text/plain": [
       "array([[1, 5, 4],\n",
       "       [2, 3, 6]])"
      ]
     },
     "execution_count": 46,
     "metadata": {},
     "output_type": "execute_result"
    }
   ],
   "source": [
    "a.T"
   ]
  },
  {
   "cell_type": "code",
   "execution_count": 66,
   "id": "862c2261",
   "metadata": {},
   "outputs": [
    {
     "name": "stdout",
     "output_type": "stream",
     "text": [
      "[1 2 3 4 5 6]\n",
      "[1 2 3 4 5 6]\n",
      "[[1 2 3]\n",
      " [4 5 6]]\n",
      "[1 2 3 4 5 6]\n",
      "[[1 2]\n",
      " [3 4]\n",
      " [5 6]]\n"
     ]
    }
   ],
   "source": [
    "d = np.array((1,2,3,4,5,6))\n",
    "print(d)\n",
    "print(d.T)\n",
    "temp = d.reshape(2,3)\n",
    "print(temp)\n",
    "print(temp.reshape(-1))\n",
    "print(temp.reshape(3,2))"
   ]
  },
  {
   "cell_type": "code",
   "execution_count": null,
   "id": "68c4f39f",
   "metadata": {},
   "outputs": [
    {
     "name": "stdout",
     "output_type": "stream",
     "text": [
      "[[[1. 1. 1.]]\n",
      "\n",
      " [[1. 1. 1.]]\n",
      "\n",
      " [[1. 1. 1.]]\n",
      "\n",
      " [[1. 1. 1.]]\n",
      "\n",
      " [[1. 1. 1.]]]\n",
      "\n",
      "[[[1. 1.]\n",
      "  [1. 1.]\n",
      "  [1. 1.]]\n",
      "\n",
      " [[1. 1.]\n",
      "  [1. 1.]\n",
      "  [1. 1.]]\n",
      "\n",
      " [[1. 1.]\n",
      "  [1. 1.]\n",
      "  [1. 1.]]\n",
      "\n",
      " [[1. 1.]\n",
      "  [1. 1.]\n",
      "  [1. 1.]]]\n"
     ]
    }
   ],
   "source": [
    "# d r c\n",
    "print(np.ones((5,1,3)))\n",
    "print()\n",
    "print(np.ones((4,3,2)))"
   ]
  },
  {
   "cell_type": "code",
   "execution_count": 4,
   "id": "c82d79dc",
   "metadata": {},
   "outputs": [
    {
     "data": {
      "text/plain": [
       "array([[[1, 1, 1]],\n",
       "\n",
       "       [[1, 1, 1]],\n",
       "\n",
       "       [[1, 1, 1]],\n",
       "\n",
       "       [[1, 1, 1]],\n",
       "\n",
       "       [[1, 1, 1]]])"
      ]
     },
     "execution_count": 4,
     "metadata": {},
     "output_type": "execute_result"
    }
   ],
   "source": [
    "noted = np.array([[[1, 1, 1]],[[1, 1, 1]],[[1, 1, 1]],[[1, 1, 1]],[[1, 1, 1]]])\n",
    "noted"
   ]
  },
  {
   "cell_type": "code",
   "execution_count": null,
   "id": "4a854898",
   "metadata": {},
   "outputs": [
    {
     "data": {
      "text/plain": [
       "(5, 1, 3)"
      ]
     },
     "execution_count": 10,
     "metadata": {},
     "output_type": "execute_result"
    }
   ],
   "source": [
    "noted.ndim\n",
    "noted.shape #returns a tuple with each index having the number of corresponding elements."
   ]
  },
  {
   "cell_type": "code",
   "execution_count": 104,
   "id": "7fa2ad5e",
   "metadata": {},
   "outputs": [
    {
     "data": {
      "text/plain": [
       "array([[[1, 1, 1],\n",
       "        [2, 2, 2]],\n",
       "\n",
       "       [[3, 3, 3],\n",
       "        [4, 4, 4]],\n",
       "\n",
       "       [[5, 5, 5],\n",
       "        [6, 6, 6]]])"
      ]
     },
     "execution_count": 104,
     "metadata": {},
     "output_type": "execute_result"
    }
   ],
   "source": [
    "temp = np.array([[[1,1,1],[2,2,2]],[[3,3,3],[4,4,4]],[[5,5,5],[6,6,6]]])\n",
    "temp"
   ]
  },
  {
   "cell_type": "code",
   "execution_count": 105,
   "id": "a55f6dae",
   "metadata": {},
   "outputs": [
    {
     "data": {
      "text/plain": [
       "(3, 2, 3)"
      ]
     },
     "execution_count": 105,
     "metadata": {},
     "output_type": "execute_result"
    }
   ],
   "source": [
    "temp.shape"
   ]
  },
  {
   "cell_type": "code",
   "execution_count": 2,
   "id": "1dcb8028",
   "metadata": {},
   "outputs": [
    {
     "name": "stdout",
     "output_type": "stream",
     "text": [
      "[[1 2]\n",
      " [3 4]]\n",
      "(2, 2)\n",
      "4\n",
      "int64\n",
      "8\n",
      "<memory at 0x0000024C9437E9B0>\n",
      "[[0 0]\n",
      " [0 0]]\n",
      "[[1 1]\n",
      " [1 1]]\n"
     ]
    }
   ],
   "source": [
    "#atributes\n",
    "\n",
    "temp = np.array([[1,2],[3,4]])\n",
    "print(temp)\n",
    "print(temp.shape) # (n row, m col)\n",
    "print(temp.size) # total number of element\n",
    "print(temp.dtype) # } print(temp.dtype.itemsize)\n",
    "print(temp.itemsize) # size in bytes of each element of the array\n",
    "print(temp.data) #buffer containing the actual elements \n",
    "print(np.zeros_like(temp)) #Return an array of zeros with the same shape and typeP\n",
    "print(np.ones_like(temp))"
   ]
  },
  {
   "cell_type": "code",
   "execution_count": null,
   "id": "c81a6eae",
   "metadata": {},
   "outputs": [
    {
     "name": "stdout",
     "output_type": "stream",
     "text": [
      "[['1' '2']\n",
      " ['3' '4']] \n",
      " ---\n",
      "[[[1 1 1 1]\n",
      "  [1 1 1 1]\n",
      "  [1 1 1 1]]\n",
      "\n",
      " [[1 1 1 1]\n",
      "  [1 1 1 1]\n",
      "  [1 1 1 1]]]\n"
     ]
    }
   ],
   "source": [
    "t = np.array([[1,2],[3,4]],dtype = str)\n",
    "print(t,\"\\n ---\")\n",
    "t2 = np.ones((2, 3, 4), dtype=np.int16)\n",
    "print(t2)"
   ]
  },
  {
   "cell_type": "code",
   "execution_count": null,
   "id": "55dc79da",
   "metadata": {},
   "outputs": [
    {
     "data": {
      "text/plain": [
       "array([10, 15, 20, 25, 30])"
      ]
     },
     "execution_count": 126,
     "metadata": {},
     "output_type": "execute_result"
    }
   ],
   "source": [
    "# To create sequences of numbers, NumPy provides the arange function which \n",
    "# is analogous to the Python built-in range, but returns an array.\n",
    "t = np.arange(10,31,5)\n",
    "t"
   ]
  },
  {
   "cell_type": "code",
   "execution_count": 128,
   "id": "693e6fb7",
   "metadata": {},
   "outputs": [
    {
     "data": {
      "text/plain": [
       "array([ 0. ,  2.5,  5. ,  7.5, 10. ])"
      ]
     },
     "execution_count": 128,
     "metadata": {},
     "output_type": "execute_result"
    }
   ],
   "source": [
    "# function linspace that receives as an argument the number of elements that we want\n",
    "t= np.linspace(0,10,5)  # 5 numbers from 0 to 5 (5 is included)\n",
    "t"
   ]
  },
  {
   "cell_type": "code",
   "execution_count": null,
   "id": "bc8ae062",
   "metadata": {},
   "outputs": [
    {
     "name": "stdout",
     "output_type": "stream",
     "text": [
      "[0.         0.06346652 0.12693304 0.19039955 0.25386607 0.31733259\n",
      " 0.38079911 0.44426563 0.50773215 0.57119866 0.63466518 0.6981317\n",
      " 0.76159822 0.82506474 0.88853126 0.95199777 1.01546429 1.07893081\n",
      " 1.14239733 1.20586385 1.26933037 1.33279688 1.3962634  1.45972992\n",
      " 1.52319644 1.58666296 1.65012947 1.71359599 1.77706251 1.84052903\n",
      " 1.90399555 1.96746207 2.03092858 2.0943951  2.15786162 2.22132814\n",
      " 2.28479466 2.34826118 2.41172769 2.47519421 2.53866073 2.60212725\n",
      " 2.66559377 2.72906028 2.7925268  2.85599332 2.91945984 2.98292636\n",
      " 3.04639288 3.10985939 3.17332591 3.23679243 3.30025895 3.36372547\n",
      " 3.42719199 3.4906585  3.55412502 3.61759154 3.68105806 3.74452458\n",
      " 3.8079911  3.87145761 3.93492413 3.99839065 4.06185717 4.12532369\n",
      " 4.1887902  4.25225672 4.31572324 4.37918976 4.44265628 4.5061228\n",
      " 4.56958931 4.63305583 4.69652235 4.75998887 4.82345539 4.88692191\n",
      " 4.95038842 5.01385494 5.07732146 5.14078798 5.2042545  5.26772102\n",
      " 5.33118753 5.39465405 5.45812057 5.52158709 5.58505361 5.64852012\n",
      " 5.71198664 5.77545316 5.83891968 5.9023862  5.96585272 6.02931923\n",
      " 6.09278575 6.15625227 6.21971879 6.28318531]\n",
      "----------------------------------------\n",
      "[ 0.00000000e+00  6.34239197e-02  1.26592454e-01  1.89251244e-01\n",
      "  2.51147987e-01  3.12033446e-01  3.71662456e-01  4.29794912e-01\n",
      "  4.86196736e-01  5.40640817e-01  5.92907929e-01  6.42787610e-01\n",
      "  6.90079011e-01  7.34591709e-01  7.76146464e-01  8.14575952e-01\n",
      "  8.49725430e-01  8.81453363e-01  9.09631995e-01  9.34147860e-01\n",
      "  9.54902241e-01  9.71811568e-01  9.84807753e-01  9.93838464e-01\n",
      "  9.98867339e-01  9.99874128e-01  9.96854776e-01  9.89821442e-01\n",
      "  9.78802446e-01  9.63842159e-01  9.45000819e-01  9.22354294e-01\n",
      "  8.95993774e-01  8.66025404e-01  8.32569855e-01  7.95761841e-01\n",
      "  7.55749574e-01  7.12694171e-01  6.66769001e-01  6.18158986e-01\n",
      "  5.67059864e-01  5.13677392e-01  4.58226522e-01  4.00930535e-01\n",
      "  3.42020143e-01  2.81732557e-01  2.20310533e-01  1.58001396e-01\n",
      "  9.50560433e-02  3.17279335e-02 -3.17279335e-02 -9.50560433e-02\n",
      " -1.58001396e-01 -2.20310533e-01 -2.81732557e-01 -3.42020143e-01\n",
      " -4.00930535e-01 -4.58226522e-01 -5.13677392e-01 -5.67059864e-01\n",
      " -6.18158986e-01 -6.66769001e-01 -7.12694171e-01 -7.55749574e-01\n",
      " -7.95761841e-01 -8.32569855e-01 -8.66025404e-01 -8.95993774e-01\n",
      " -9.22354294e-01 -9.45000819e-01 -9.63842159e-01 -9.78802446e-01\n",
      " -9.89821442e-01 -9.96854776e-01 -9.99874128e-01 -9.98867339e-01\n",
      " -9.93838464e-01 -9.84807753e-01 -9.71811568e-01 -9.54902241e-01\n",
      " -9.34147860e-01 -9.09631995e-01 -8.81453363e-01 -8.49725430e-01\n",
      " -8.14575952e-01 -7.76146464e-01 -7.34591709e-01 -6.90079011e-01\n",
      " -6.42787610e-01 -5.92907929e-01 -5.40640817e-01 -4.86196736e-01\n",
      " -4.29794912e-01 -3.71662456e-01 -3.12033446e-01 -2.51147987e-01\n",
      " -1.89251244e-01 -1.26592454e-01 -6.34239197e-02 -2.44929360e-16]\n"
     ]
    }
   ],
   "source": [
    "from numpy import pi\n",
    "x = np.linspace(0,2* pi , 100)\n",
    "print(x)\n",
    "print(\"-\"*40)\n",
    "f = np.sin(x) # gives in sie=neific format\n",
    "print(f)"
   ]
  },
  {
   "cell_type": "code",
   "execution_count": 7,
   "id": "89262cf5",
   "metadata": {},
   "outputs": [
    {
     "data": {
      "text/plain": [
       "array([[0., 1.],\n",
       "       [1., 2.]])"
      ]
     },
     "execution_count": 7,
     "metadata": {},
     "output_type": "execute_result"
    }
   ],
   "source": [
    "np.fromfunction(lambda i, j: i+j, (2,2), dtype=float)"
   ]
  },
  {
   "cell_type": "code",
   "execution_count": null,
   "id": "2605c9e2",
   "metadata": {},
   "outputs": [
    {
     "data": {
      "text/plain": [
       "array([[ 0,  1,  2],\n",
       "       [ 3,  4,  5],\n",
       "       [ 6,  7,  8],\n",
       "       [ 9, 10, 11]])"
      ]
     },
     "execution_count": 6,
     "metadata": {},
     "output_type": "execute_result"
    }
   ],
   "source": [
    "np.arange(12).reshape(4,3) # we have to give prefect number into the arange()"
   ]
  },
  {
   "cell_type": "code",
   "execution_count": null,
   "id": "85afa268",
   "metadata": {},
   "outputs": [],
   "source": []
  }
 ],
 "metadata": {
  "kernelspec": {
   "display_name": "Python 3",
   "language": "python",
   "name": "python3"
  },
  "language_info": {
   "codemirror_mode": {
    "name": "ipython",
    "version": 3
   },
   "file_extension": ".py",
   "mimetype": "text/x-python",
   "name": "python",
   "nbconvert_exporter": "python",
   "pygments_lexer": "ipython3",
   "version": "3.13.4"
  }
 },
 "nbformat": 4,
 "nbformat_minor": 5
}
