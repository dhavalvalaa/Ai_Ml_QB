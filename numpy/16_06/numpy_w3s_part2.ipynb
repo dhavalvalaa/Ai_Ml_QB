{
 "cells": [
  {
   "cell_type": "code",
   "execution_count": 196,
   "id": "f31de193",
   "metadata": {},
   "outputs": [],
   "source": [
    "import numpy as np"
   ]
  },
  {
   "cell_type": "markdown",
   "id": "b48f9fbf",
   "metadata": {},
   "source": [
    "array aplit"
   ]
  },
  {
   "cell_type": "code",
   "execution_count": 197,
   "id": "c45b007d",
   "metadata": {},
   "outputs": [
    {
     "name": "stdout",
     "output_type": "stream",
     "text": [
      "[array([1, 2]), array([3, 4]), array([5, 6])]\n",
      "[array([1, 2]), array([3, 4]), array([5, 6])]\n"
     ]
    }
   ],
   "source": [
    "arr = np.array([1,2,3,4,5,6])\n",
    "arr2 =np.split(arr,3)\n",
    "print(arr2)\n",
    "newarr = np.array_split(arr, 3)\n",
    "print(newarr)"
   ]
  },
  {
   "cell_type": "code",
   "execution_count": 198,
   "id": "c5b7b148",
   "metadata": {},
   "outputs": [
    {
     "name": "stdout",
     "output_type": "stream",
     "text": [
      "{'CAr': 'aa', 'bb': 'value', 'cc': 'zz'}\n",
      "zz\n"
     ]
    }
   ],
   "source": [
    "dict = {\"CAr\": \"aa\", \"bb\": \"value\"}\n",
    "x = dict.setdefault(\"cc\",\"zz\")\n",
    "print(dict)  \n",
    "print(x)  \n"
   ]
  },
  {
   "cell_type": "code",
   "execution_count": 199,
   "id": "a0d0668e",
   "metadata": {},
   "outputs": [
    {
     "name": "stdout",
     "output_type": "stream",
     "text": [
      "[array([1, 2, 3]), array([4, 5, 6])]\n"
     ]
    }
   ],
   "source": [
    "#we can split the array in particular index also\n",
    "arr = np.array([1,2,3,4,5,6])\n",
    "newarr = np.array_split(arr, [3])\n",
    "print(newarr)"
   ]
  },
  {
   "cell_type": "markdown",
   "id": "4c050df0",
   "metadata": {},
   "source": [
    "Searching Arrays\n",
    "You can search an array for a certain value, and return the indexes that get a match.\n",
    "\n",
    "To search an array, use the where() method."
   ]
  },
  {
   "cell_type": "code",
   "execution_count": 200,
   "id": "42ca05ac",
   "metadata": {},
   "outputs": [
    {
     "name": "stdout",
     "output_type": "stream",
     "text": [
      "(array([3]),)\n",
      "(array([1, 3, 5]),)\n",
      "[2 4 6]\n"
     ]
    }
   ],
   "source": [
    "x = np.where(arr == 4)\n",
    "print(x)\n",
    "x = np.where(arr%2 == 0) #even\n",
    "print(x)\n",
    "for i in x:\n",
    "    print(arr[i])"
   ]
  },
  {
   "cell_type": "code",
   "execution_count": 201,
   "id": "5aa06237",
   "metadata": {},
   "outputs": [
    {
     "name": "stdout",
     "output_type": "stream",
     "text": [
      "3\n",
      "3\n"
     ]
    }
   ],
   "source": [
    "#searchsorted :returns the index where the specified value would be inserted to maintain the search order. \n",
    "# uses the binary search and assume that array is sorted\n",
    "\n",
    "arr = np.array([3,7,10,25])\n",
    "x = np.searchsorted(arr, 11)\n",
    "print(x)\n",
    " \n",
    "x = np.searchsorted(arr,11,side='right')\n",
    "print(x)"
   ]
  },
  {
   "cell_type": "code",
   "execution_count": 202,
   "id": "59d64ba5",
   "metadata": {},
   "outputs": [
    {
     "name": "stdout",
     "output_type": "stream",
     "text": [
      "Execution time for searchsorted: 0.23621230002027005 seconds\n",
      "3\n",
      "Execution time for searchsorted: 0.2034400999546051 seconds\n",
      "3\n"
     ]
    }
   ],
   "source": [
    "import numpy as np\n",
    "import timeit\n",
    "\n",
    "arr = np.array([3, 7, 10, 25, 28,30,31,34,36,70])\n",
    "\n",
    "# Measure execution time using timeit\n",
    "execution_time = timeit.timeit(lambda: np.searchsorted(arr, 11), number=100000)\n",
    "print(f\"Execution time for searchsorted: {execution_time} seconds\")\n",
    "\n",
    "# Perform searchsorted operation\n",
    "x = np.searchsorted(arr, 11)\n",
    "print(x)  # Output: 3 (where 11 would be inserted)\n",
    "\n",
    "execution_time = timeit.timeit(lambda: np.searchsorted(arr, 11, side='right'), number=100000)\n",
    "print(f\"Execution time for searchsorted: {execution_time} seconds\")\n",
    "\n",
    "\n",
    "x = np.searchsorted(arr, 11, side='right')\n",
    "print(x)  # Output: 3 (where 11 would be inserted on the right)\n"
   ]
  },
  {
   "cell_type": "code",
   "execution_count": 203,
   "id": "118ff28a",
   "metadata": {},
   "outputs": [
    {
     "name": "stdout",
     "output_type": "stream",
     "text": [
      "[10 20 30 40]\n",
      "2\n",
      "2\n"
     ]
    }
   ],
   "source": [
    "#searchsorted() method assume that the array is soerted if array is not sorted then we have to \n",
    "# first sort the array using sort functiion or we can also use the argsort()\n",
    "\n",
    "#using sort()\n",
    "arr = np.array([40, 10, 20, 30])\n",
    "sorted_arr = np.sort(arr)  # Ensure the array is sorted\n",
    "index = np.searchsorted(sorted_arr, 25)\n",
    "\n",
    "print(sorted_arr)  # Output: [10, 20, 30, 40]\n",
    "print(index)  # Output: 2 (where 25 would be inserted)\n",
    "\n",
    "sorter = np.argsort(arr)  # Get sorting indices\n",
    "index = np.searchsorted(arr, 25, sorter=sorter)\n",
    "\n",
    "print(index)  # Output: 2 (referring to sorted order)\n",
    "\n"
   ]
  },
  {
   "cell_type": "code",
   "execution_count": 204,
   "id": "803966c7",
   "metadata": {},
   "outputs": [
    {
     "name": "stdout",
     "output_type": "stream",
     "text": [
      "[[0 1]\n",
      " [1 0]]\n",
      "----------------------------------------\n",
      "[[[0 3]\n",
      "  [2 2]]\n",
      "\n",
      " [[2 2]\n",
      "  [0 3]]]\n"
     ]
    }
   ],
   "source": [
    "arr = np.array([[0, 3], [2, 2]])\n",
    "sorted_indices = np.argsort(arr, axis=0)\n",
    "\n",
    "print(sorted_indices)\n",
    "print(\"-\"*40)\n",
    "print(arr[sorted_indices])\n"
   ]
  },
  {
   "cell_type": "code",
   "execution_count": 205,
   "id": "379fa2e4",
   "metadata": {},
   "outputs": [
    {
     "name": "stdout",
     "output_type": "stream",
     "text": [
      "[[0 2]\n",
      " [2 3]]\n"
     ]
    }
   ],
   "source": [
    "# #This happens because:\n",
    "\n",
    "# When using arr[sorted_indices], NumPy interprets the indices in a broadcasting manner, treating each column separately.\n",
    "\n",
    "# Instead of giving a sorted array directly, NumPy expands into a higher-dimensional structure.\n",
    "\n",
    "sorted_arr = arr[sorted_indices, np.arange(arr.shape[1])]\n",
    "print(sorted_arr)\n",
    "\n"
   ]
  },
  {
   "cell_type": "code",
   "execution_count": 206,
   "id": "06c783ac",
   "metadata": {},
   "outputs": [
    {
     "name": "stdout",
     "output_type": "stream",
     "text": [
      "2\n",
      "[0 1]\n"
     ]
    }
   ],
   "source": [
    "print(arr.shape[1])\n",
    "print(np.arange(arr.shape[1]))"
   ]
  },
  {
   "cell_type": "code",
   "execution_count": 207,
   "id": "80201b80",
   "metadata": {},
   "outputs": [
    {
     "data": {
      "text/plain": [
       "'\\nAbsolutely! Let\\'s break down your code manually, step by step, and understand how it runs.\\n\\n### Your Code:\\n```python\\nimport numpy as np\\n\\narr = np.array([[0, 3], [2, 2]])  # Step 1: Define a 2D NumPy array\\nsorted_indices = np.argsort(arr, axis=0)  # Step 2: Get sorted row indices column-wise\\n\\nprint(sorted_indices)  # Step 3: Print sorted indices\\nprint(\"-\"*40)  # Step 4: Print a separator\\nprint(arr[sorted_indices, np.arange(arr.shape[1])])  # Step 5: Index and reorder array\\n```\\n\\n---\\n\\n### **Step-by-Step Execution:**\\n\\n#### **Step 1: Create the NumPy Array**\\n```python\\narr = np.array([[0, 3], \\n                [2, 2]])\\n```\\nThe array looks like:\\n```\\n[[0 3]\\n [2 2]]\\n```\\nEach column will be sorted independently.\\n\\n---\\n\\n#### **Step 2: Get Sorted Indices Along Axis 0 (Columns)**\\n```python\\nsorted_indices = np.argsort(arr, axis=0)\\n```\\n- `argsort()` returns the **row indices** that would sort each column.\\n- **Sorting column-wise** (axis=0):\\n  - Column **0** (`[0, 2]`): Sorted order is `[0, 2]`, indices remain `[0, 1]`.\\n  - Column **1** (`[3, 2]`): Sorted order is `[2, 3]`, indices change to `[1, 0]`.\\n\\nOutput of `sorted_indices`:\\n```\\n[[0 1] \\n [1 0]]\\n```\\nThis tells us:\\n- **First column (0)**: Row order remains **0 → 1**.\\n- **Second column (1)**: Row order **flips** (1 → 0).\\n\\n---\\n\\n#### **Step 3: Print Sorted Indices**\\n```python\\nprint(sorted_indices)\\n```\\nDisplays:\\n```\\n[[0 1] \\n [1 0]]\\n```\\n\\n---\\n\\n#### **Step 4: Print a Separator**\\n```python\\nprint(\"-\" * 40)\\n```\\nOutputs:\\n```\\n----------------------------------------\\n```\\nJust a visual separator in the output.\\n\\n---\\n\\n#### **Step 5: Reorder `arr` Using Sorted Indices**\\n```python\\nprint(arr[sorted_indices, np.arange(arr.shape[1])])\\n```\\nBreaking it down:\\n\\n- **`sorted_indices`** gives the row indices to pick for each column.\\n- **`np.arange(arr.shape[1])`** ensures we are correctly selecting elements **column-wise**.\\n\\n🔹 **Step-by-step indexing per column:**\\n- For **column 0**, row indices are `[0, 1]`, so we pick:\\n  - `arr[0, 0] = 0`\\n  - `arr[1, 0] = 2`\\n  - Result: `[0, 2]`\\n\\n- For **column 1**, row indices are `[1, 0]`, so we pick:\\n  - `arr[1, 1] = 2`\\n  - `arr[0, 1] = 3`\\n  - Result: `[2, 3]`\\n\\nThe **final sorted array** is:\\n```\\n[[0 2]\\n [2 3]]\\n```\\n\\n---\\n\\n### **Final Output:**\\n```\\n[[0 1]\\n [1 0]]\\n----------------------------------------\\n[[0 2]\\n [2 3]]\\n```\\n\\n🔹 **Key Learning Points:**\\n1. `argsort(axis=0)` sorts the **columns** independently.\\n2. The row indices are used to **reorder elements column-wise**.\\n3. This ensures correct **column-wise sorting**.\\n\\nHope this explanation helps! 🚀 Let me know if anything needs further clarification. 😃\\n\\n'"
      ]
     },
     "execution_count": 207,
     "metadata": {},
     "output_type": "execute_result"
    }
   ],
   "source": [
    "\"\"\"\n",
    "Absolutely! Let's break down your code manually, step by step, and understand how it runs.\n",
    "\n",
    "### Your Code:\n",
    "```python\n",
    "import numpy as np\n",
    "\n",
    "arr = np.array([[0, 3], [2, 2]])  # Step 1: Define a 2D NumPy array\n",
    "sorted_indices = np.argsort(arr, axis=0)  # Step 2: Get sorted row indices column-wise\n",
    "\n",
    "print(sorted_indices)  # Step 3: Print sorted indices\n",
    "print(\"-\"*40)  # Step 4: Print a separator\n",
    "print(arr[sorted_indices, np.arange(arr.shape[1])])  # Step 5: Index and reorder array\n",
    "```\n",
    "\n",
    "---\n",
    "\n",
    "### **Step-by-Step Execution:**\n",
    "\n",
    "#### **Step 1: Create the NumPy Array**\n",
    "```python\n",
    "arr = np.array([[0, 3], \n",
    "                [2, 2]])\n",
    "```\n",
    "The array looks like:\n",
    "```\n",
    "[[0 3]\n",
    " [2 2]]\n",
    "```\n",
    "Each column will be sorted independently.\n",
    "\n",
    "---\n",
    "\n",
    "#### **Step 2: Get Sorted Indices Along Axis 0 (Columns)**\n",
    "```python\n",
    "sorted_indices = np.argsort(arr, axis=0)\n",
    "```\n",
    "- `argsort()` returns the **row indices** that would sort each column.\n",
    "- **Sorting column-wise** (axis=0):\n",
    "  - Column **0** (`[0, 2]`): Sorted order is `[0, 2]`, indices remain `[0, 1]`.\n",
    "  - Column **1** (`[3, 2]`): Sorted order is `[2, 3]`, indices change to `[1, 0]`.\n",
    "\n",
    "Output of `sorted_indices`:\n",
    "```\n",
    "[[0 1] \n",
    " [1 0]]\n",
    "```\n",
    "This tells us:\n",
    "- **First column (0)**: Row order remains **0 → 1**.\n",
    "- **Second column (1)**: Row order **flips** (1 → 0).\n",
    "\n",
    "---\n",
    "\n",
    "#### **Step 3: Print Sorted Indices**\n",
    "```python\n",
    "print(sorted_indices)\n",
    "```\n",
    "Displays:\n",
    "```\n",
    "[[0 1] \n",
    " [1 0]]\n",
    "```\n",
    "\n",
    "---\n",
    "\n",
    "#### **Step 4: Print a Separator**\n",
    "```python\n",
    "print(\"-\" * 40)\n",
    "```\n",
    "Outputs:\n",
    "```\n",
    "----------------------------------------\n",
    "```\n",
    "Just a visual separator in the output.\n",
    "\n",
    "---\n",
    "\n",
    "#### **Step 5: Reorder `arr` Using Sorted Indices**\n",
    "```python\n",
    "print(arr[sorted_indices, np.arange(arr.shape[1])])\n",
    "```\n",
    "Breaking it down:\n",
    "\n",
    "- **`sorted_indices`** gives the row indices to pick for each column.\n",
    "- **`np.arange(arr.shape[1])`** ensures we are correctly selecting elements **column-wise**.\n",
    "\n",
    "🔹 **Step-by-step indexing per column:**\n",
    "- For **column 0**, row indices are `[0, 1]`, so we pick:\n",
    "  - `arr[0, 0] = 0`\n",
    "  - `arr[1, 0] = 2`\n",
    "  - Result: `[0, 2]`\n",
    "  \n",
    "- For **column 1**, row indices are `[1, 0]`, so we pick:\n",
    "  - `arr[1, 1] = 2`\n",
    "  - `arr[0, 1] = 3`\n",
    "  - Result: `[2, 3]`\n",
    "\n",
    "The **final sorted array** is:\n",
    "```\n",
    "[[0 2]\n",
    " [2 3]]\n",
    "```\n",
    "\n",
    "---\n",
    "\n",
    "### **Final Output:**\n",
    "```\n",
    "[[0 1]\n",
    " [1 0]]\n",
    "----------------------------------------\n",
    "[[0 2]\n",
    " [2 3]]\n",
    "```\n",
    "\n",
    "🔹 **Key Learning Points:**\n",
    "1. `argsort(axis=0)` sorts the **columns** independently.\n",
    "2. The row indices are used to **reorder elements column-wise**.\n",
    "3. This ensures correct **column-wise sorting**.\n",
    "\n",
    "Hope this explanation helps! 🚀 Let me know if anything needs further clarification. 😃\n",
    "\n",
    "\"\"\""
   ]
  },
  {
   "cell_type": "code",
   "execution_count": 208,
   "id": "06621d89",
   "metadata": {},
   "outputs": [
    {
     "name": "stdout",
     "output_type": "stream",
     "text": [
      "[1 2 0]\n"
     ]
    }
   ],
   "source": [
    "# Multiple Values\n",
    "# To search for more than one value, use an array with the specified values.\n",
    "arr = np.array([1, 3, 5, 7])\n",
    "x = np.searchsorted(arr, [2, 4, 0])\n",
    "print(x)"
   ]
  },
  {
   "cell_type": "code",
   "execution_count": 209,
   "id": "b5cc30c4",
   "metadata": {},
   "outputs": [
    {
     "name": "stdout",
     "output_type": "stream",
     "text": [
      "[1 3 5 7]\n"
     ]
    }
   ],
   "source": [
    "x = np.sort(arr)\n",
    "print(x)"
   ]
  },
  {
   "cell_type": "code",
   "execution_count": 210,
   "id": "965929b4",
   "metadata": {},
   "outputs": [
    {
     "name": "stdout",
     "output_type": "stream",
     "text": [
      "[7 5 3 1]\n",
      "[7 5 3 1]\n",
      "[7 5 3 1]\n"
     ]
    }
   ],
   "source": [
    "# reverse using flip()\n",
    "y=np.flip(x)\n",
    "print(y)\n",
    "\n",
    "#reverse using slicing\n",
    "y = x[::-1]\n",
    "print(y)\n",
    "\n",
    "#reverse using negate(-)\n",
    "y = -np.sort(-x)\n",
    "print(y)"
   ]
  },
  {
   "cell_type": "code",
   "execution_count": 211,
   "id": "04acef99",
   "metadata": {},
   "outputs": [
    {
     "name": "stdout",
     "output_type": "stream",
     "text": [
      "[40 43]\n",
      "[False, False, True, True]\n",
      "[43 46]\n",
      "[np.int64(43), np.int64(46)]\n",
      "43\n",
      "46\n",
      "[False False  True  True]\n",
      "[43 46]\n"
     ]
    }
   ],
   "source": [
    "# filtering array\n",
    "# 1 - way\n",
    "arr = np.array([40,41,43,46])\n",
    "x = [True,False,True,False]\n",
    "newarr = arr[x]\n",
    "print(newarr)\n",
    "\n",
    "# 2- way\n",
    "# Create an empty list\n",
    "filter_arr = []\n",
    "\n",
    "for element in arr:\n",
    "  if element > 42:\n",
    "    filter_arr.append(True)\n",
    "  else:\n",
    "    filter_arr.append(False)\n",
    "\n",
    "newarr = arr[filter_arr]\n",
    "\n",
    "print(filter_arr)\n",
    "print(newarr)\n",
    "\n",
    "# 3- way\n",
    "temp = []\n",
    "for i in arr:\n",
    "    if i > 42:\n",
    "        temp.append(i)\n",
    "\n",
    "print(temp)\n",
    "for i in temp:\n",
    "    print(i)\n",
    "\n",
    "\n",
    "# 4- way\n",
    "filter_arr = arr > 42\n",
    "newarr = arr[filter_arr]\n",
    "print(filter_arr)\n",
    "print(newarr)"
   ]
  },
  {
   "cell_type": "markdown",
   "id": "fb8939bd",
   "metadata": {},
   "source": [
    "Array modification"
   ]
  },
  {
   "cell_type": "code",
   "execution_count": 212,
   "id": "8c22e37e",
   "metadata": {},
   "outputs": [
    {
     "data": {
      "text/plain": [
       "'\\nnp.insert(array,index,value,axis=None)\\narr - original array\\naxis = 0 for row-wise\\naxis = 1 for col-wise\\n'"
      ]
     },
     "execution_count": 212,
     "metadata": {},
     "output_type": "execute_result"
    }
   ],
   "source": [
    "\"\"\"\n",
    "np.insert(array,index,value,axis=None)\n",
    "arr - original array\n",
    "axis = 0 for row-wise\n",
    "axis = 1 for col-wise\n",
    "\"\"\""
   ]
  },
  {
   "cell_type": "code",
   "execution_count": 213,
   "id": "f250fc4f",
   "metadata": {},
   "outputs": [
    {
     "data": {
      "text/plain": [
       "array([    1,     2, 19009,   223,     3,     3,     5])"
      ]
     },
     "execution_count": 213,
     "metadata": {},
     "output_type": "execute_result"
    }
   ],
   "source": [
    "import numpy as np\n",
    "arr= np.array([1,2,223,3,3,5])\n",
    "newarr = np.insert(arr,2,19009)\n",
    "newarr"
   ]
  },
  {
   "cell_type": "code",
   "execution_count": 214,
   "id": "260db241",
   "metadata": {},
   "outputs": [
    {
     "name": "stdout",
     "output_type": "stream",
     "text": [
      "[1 5 6 2 3 4]\n",
      "[[1 2]\n",
      " [5 6]\n",
      " [3 4]]\n",
      "[[1 5 2]\n",
      " [3 6 4]]\n"
     ]
    }
   ],
   "source": [
    "arr_2d = np.array([[1,2],[3,4]])\n",
    "new_arr_2d = np.insert(arr_2d, 1, [5,6]) #axis = mendatory\n",
    "print(new_arr_2d)\n",
    "new_arr_2d = np.insert(arr_2d, 1, [5,6], axis=0) #axis = mendatory\n",
    "print(new_arr_2d)\n",
    "new_arr_2d = np.insert(arr_2d, 1, [5,6], axis=1) #axis = mendatory\n",
    "print(new_arr_2d)"
   ]
  },
  {
   "cell_type": "code",
   "execution_count": 215,
   "id": "1cd677ff",
   "metadata": {},
   "outputs": [
    {
     "name": "stdout",
     "output_type": "stream",
     "text": [
      "[10 20 30 40 50 60]\n"
     ]
    }
   ],
   "source": [
    "arr = np.array([10,20,30])\n",
    "newarr = np.append(arr,[40,50,60])\n",
    "print(newarr)"
   ]
  },
  {
   "cell_type": "code",
   "execution_count": 216,
   "id": "2a1d6f36",
   "metadata": {},
   "outputs": [
    {
     "name": "stdout",
     "output_type": "stream",
     "text": [
      "[1 2 3 4 6 7]\n",
      "[[ 1  2  3]\n",
      " [ 4  5  6]\n",
      " [ 7  8  9]\n",
      " [10 11 12]]\n",
      "[[ 1  2  3  7  8  9]\n",
      " [ 4  5  6 10 11 12]]\n"
     ]
    }
   ],
   "source": [
    "arr1 = np.array([1,2,3])\n",
    "arr2 = np.array([4,6,7])\n",
    "newarr = np.concatenate((arr1,arr2))\n",
    "print(newarr)\n",
    "\n",
    "arr1 = np.array([[1,2,3],[4,5,6]])\n",
    "arr2 = np.array([[7,8,9],[10,11,12]])\n",
    "newarr = np.concatenate((arr1,arr2))\n",
    "print(newarr)\n",
    "\n",
    "\n",
    "newarr1 = np.concatenate((arr1,arr2),axis = 1) # h stacking\n",
    "print(newarr1)"
   ]
  },
  {
   "cell_type": "code",
   "execution_count": 217,
   "id": "a0b608ec",
   "metadata": {},
   "outputs": [
    {
     "name": "stdout",
     "output_type": "stream",
     "text": [
      "[2 3 4 5 6]\n",
      "[[4 5 6]]\n",
      "[[2 3]\n",
      " [5 6]]\n"
     ]
    }
   ],
   "source": [
    "#np.delete(arr,index,axis = None)\n",
    "arr = np.array([1,2,3,4,5,6])\n",
    "newarr = np.delete(arr,0)\n",
    "print(newarr)\n",
    "\n",
    "arr1 = np.array([[1,2,3],[4,5,6]])\n",
    "newarr = np.delete(arr1,0,axis=0)\n",
    "newarr1 = np.delete(arr1,0,axis=1)\n",
    "print(newarr)\n",
    "print(newarr1)"
   ]
  },
  {
   "cell_type": "code",
   "execution_count": 218,
   "id": "f20a940e",
   "metadata": {},
   "outputs": [
    {
     "name": "stdout",
     "output_type": "stream",
     "text": [
      "[[1 2 3]\n",
      " [4 6 7]]\n",
      "[1 2 3 4 6 7]\n"
     ]
    }
   ],
   "source": [
    "#vstack & hstack\n",
    "arr1 = np.array([1,2,3])\n",
    "arr2 = np.array([4,6,7])\n",
    "\n",
    "print(np.vstack((arr1,arr2))) #vertical stack\n",
    "print(np.hstack((arr1,arr2))) #horizontally stack\n"
   ]
  },
  {
   "cell_type": "code",
   "execution_count": 219,
   "id": "061d8f59",
   "metadata": {},
   "outputs": [
    {
     "name": "stdout",
     "output_type": "stream",
     "text": [
      "[array([10, 20, 30]), array([40, 50, 60])]\n"
     ]
    }
   ],
   "source": [
    "#np.split & np.hsplit() & np.vsplit\n",
    "\n",
    "arr = np.array([10,20,30,40,50,60])\n",
    "print(np.split(arr,2))"
   ]
  },
  {
   "cell_type": "code",
   "execution_count": 220,
   "id": "6c92c81f",
   "metadata": {},
   "outputs": [
    {
     "name": "stdout",
     "output_type": "stream",
     "text": [
      "[array([[1, 2],\n",
      "       [3, 4]])]\n",
      "[array([[1, 2],\n",
      "       [3, 4]])]\n",
      "[array([[1, 2],\n",
      "       [3, 4]])]\n"
     ]
    }
   ],
   "source": [
    "arr_2d = np.array([[1,2],[3,4]])\n",
    "print(np.split(arr_2d,1))\n",
    "print(np.hsplit(arr_2d,1))\n",
    "print(np.vsplit(arr_2d,1))"
   ]
  },
  {
   "cell_type": "code",
   "execution_count": 221,
   "id": "00842393",
   "metadata": {},
   "outputs": [
    {
     "data": {
      "text/plain": [
       "[5, 7, 9]"
      ]
     },
     "execution_count": 221,
     "metadata": {},
     "output_type": "execute_result"
    }
   ],
   "source": [
    "l1= [1,2,3]\n",
    "l2 = [4,5,6]\n",
    "rs = [x+y for x,y in zip(l1,l2)]\n",
    "rs"
   ]
  },
  {
   "cell_type": "code",
   "execution_count": 222,
   "id": "00b71027",
   "metadata": {},
   "outputs": [
    {
     "data": {
      "text/plain": [
       "array([5, 7, 9])"
      ]
     },
     "execution_count": 222,
     "metadata": {},
     "output_type": "execute_result"
    }
   ],
   "source": [
    "arr1 = np.array([1,2,3])\n",
    "arr2 = np.array([4,5,6])\n",
    "re = arr1 + arr2\n",
    "re"
   ]
  },
  {
   "cell_type": "code",
   "execution_count": 223,
   "id": "1dab1932",
   "metadata": {},
   "outputs": [
    {
     "data": {
      "text/plain": [
       "array([1, 2, 2, 3, 6, 8])"
      ]
     },
     "execution_count": 223,
     "metadata": {},
     "output_type": "execute_result"
    }
   ],
   "source": [
    "arr = np.array([2,1,8,2,6,3])\n",
    "a = np.argsort(arr)\n",
    "arr[a]"
   ]
  },
  {
   "cell_type": "code",
   "execution_count": null,
   "id": "9a5021f9",
   "metadata": {},
   "outputs": [],
   "source": []
  }
 ],
 "metadata": {
  "kernelspec": {
   "display_name": "Python 3",
   "language": "python",
   "name": "python3"
  },
  "language_info": {
   "codemirror_mode": {
    "name": "ipython",
    "version": 3
   },
   "file_extension": ".py",
   "mimetype": "text/x-python",
   "name": "python",
   "nbconvert_exporter": "python",
   "pygments_lexer": "ipython3",
   "version": "3.13.4"
  }
 },
 "nbformat": 4,
 "nbformat_minor": 5
}
