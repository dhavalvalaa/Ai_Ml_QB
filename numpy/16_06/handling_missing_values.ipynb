{
 "cells": [
  {
   "cell_type": "code",
   "execution_count": 1,
   "id": "fb73f447",
   "metadata": {},
   "outputs": [],
   "source": [
    "import pandas as pd\n",
    "import numpy as np"
   ]
  },
  {
   "cell_type": "code",
   "execution_count": 4,
   "id": "9d0c3fe6",
   "metadata": {},
   "outputs": [
    {
     "name": "stdout",
     "output_type": "stream",
     "text": [
      "[False False  True False  True False]\n"
     ]
    }
   ],
   "source": [
    "arr = np.array([1,2,np.nan,4,np.nan,6])\n",
    "print(np.isnan(arr))"
   ]
  },
  {
   "cell_type": "code",
   "execution_count": 5,
   "id": "9374a68d",
   "metadata": {},
   "outputs": [
    {
     "name": "stdout",
     "output_type": "stream",
     "text": [
      "[1. 2. 0. 4. 0. 6.]\n",
      "[  1.   2. 100.   4. 100.   6.]\n"
     ]
    }
   ],
   "source": [
    "# np.nan_to_num(arr,nan=value) - default = 0\n",
    "clean_arr = np.nan_to_num(arr)\n",
    "print(clean_arr)\n",
    "clean_arr = np.nan_to_num(arr,nan=100)\n",
    "print(clean_arr)"
   ]
  },
  {
   "cell_type": "code",
   "execution_count": 6,
   "id": "759321cc",
   "metadata": {},
   "outputs": [
    {
     "data": {
      "text/plain": [
       "'\\nIn NumPy, np.inf and -np.inf represent positive infinity and negative infinity, respectively.\\n\\nWhat They Mean?\\nnp.inf (Positive Infinity) is a value greater than any finite number.\\n\\n-np.inf (Negative Infinity) is smaller than any finite number.\\n'"
      ]
     },
     "execution_count": 6,
     "metadata": {},
     "output_type": "execute_result"
    }
   ],
   "source": [
    "\"\"\"\n",
    "In NumPy, np.inf and -np.inf represent positive infinity and negative infinity, respectively.\n",
    "\n",
    "What They Mean?\n",
    "np.inf (Positive Infinity) is a value greater than any finite number.\n",
    "\n",
    "-np.inf (Negative Infinity) is smaller than any finite number.\n",
    "\"\"\""
   ]
  },
  {
   "cell_type": "code",
   "execution_count": 7,
   "id": "908b032f",
   "metadata": {},
   "outputs": [
    {
     "name": "stdout",
     "output_type": "stream",
     "text": [
      "[False False False  True False  True False]\n"
     ]
    }
   ],
   "source": [
    "arr = np.array([1,np.nan ,2,np.inf, 4, -np.inf, 6])\n",
    "print(np.isinf(arr))"
   ]
  },
  {
   "cell_type": "code",
   "execution_count": 8,
   "id": "e078dd4a",
   "metadata": {},
   "outputs": [
    {
     "data": {
      "text/plain": [
       "array([  1.,   0.,   2., 999.,   4., 777.,   6.])"
      ]
     },
     "execution_count": 8,
     "metadata": {},
     "output_type": "execute_result"
    }
   ],
   "source": [
    "clean_arr = np.nan_to_num(arr,posinf=999,neginf=777)\n",
    "clean_arr"
   ]
  },
  {
   "cell_type": "code",
   "execution_count": 2,
   "id": "a1c92e7a",
   "metadata": {},
   "outputs": [
    {
     "data": {
      "text/plain": [
       "array([[0.64698232, 0.77482364],\n",
       "       [0.58567327, 0.81721576]])"
      ]
     },
     "execution_count": 2,
     "metadata": {},
     "output_type": "execute_result"
    }
   ],
   "source": [
    "import numpy as np\n",
    "\n",
    "np.random.rand(2,2)"
   ]
  },
  {
   "cell_type": "code",
   "execution_count": 3,
   "id": "34ee7815",
   "metadata": {},
   "outputs": [
    {
     "data": {
      "text/plain": [
       "array([0.25657505, 0.26035245, 0.64410528, 0.84885574, 0.0361822 ,\n",
       "       0.94990082, 0.20682601, 0.57594519, 0.30517635, 0.7788111 ])"
      ]
     },
     "execution_count": 3,
     "metadata": {},
     "output_type": "execute_result"
    }
   ],
   "source": [
    "np.random.random(10)"
   ]
  },
  {
   "cell_type": "code",
   "execution_count": null,
   "id": "2e59f316",
   "metadata": {},
   "outputs": [],
   "source": []
  }
 ],
 "metadata": {
  "kernelspec": {
   "display_name": "Python 3",
   "language": "python",
   "name": "python3"
  },
  "language_info": {
   "codemirror_mode": {
    "name": "ipython",
    "version": 3
   },
   "file_extension": ".py",
   "mimetype": "text/x-python",
   "name": "python",
   "nbconvert_exporter": "python",
   "pygments_lexer": "ipython3",
   "version": "3.13.4"
  }
 },
 "nbformat": 4,
 "nbformat_minor": 5
}
