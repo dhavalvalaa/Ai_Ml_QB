{
 "cells": [
  {
   "cell_type": "code",
   "execution_count": 222,
   "id": "5f25a9f2",
   "metadata": {},
   "outputs": [],
   "source": [
    "import pandas as pd"
   ]
  },
  {
   "cell_type": "markdown",
   "id": "e766da2e",
   "metadata": {},
   "source": [
    "# Pandas Practice\n",
    "___\n",
    "\n",
    "### 1. Importing Pandas\n",
    "- Pandas has a reference to both \"Panel Data\" and \"Pyhton Data Analysis\"\n",
    "\n",
    "- Import Pandas in the applications by adding the import keyword\n",
    "\n",
    "- Pandas is usually imported under the pd alias."
   ]
  },
  {
   "cell_type": "code",
   "execution_count": 223,
   "id": "1b259292",
   "metadata": {},
   "outputs": [
    {
     "name": "stdout",
     "output_type": "stream",
     "text": [
      "    cars  passings\n",
      "0    BMW         3\n",
      "1  Volvo         7\n",
      "2   Ford         2\n",
      "0      BMW\n",
      "1    Volvo\n",
      "2     Ford\n",
      "Name: cars, dtype: object\n",
      "0      BMW\n",
      "1    Volvo\n",
      "2     Ford\n",
      "Name: cars, dtype: object\n"
     ]
    }
   ],
   "source": [
    "mydataset = {\n",
    "  'cars': [\"BMW\", \"Volvo\", \"Ford\"],\n",
    "  'passings': [3, 7, 2]\n",
    "}\n",
    "\n",
    "df = pd.DataFrame(mydataset)\n",
    "print(df)\n",
    "print(df.cars)\n",
    "print(df['cars'])"
   ]
  },
  {
   "cell_type": "code",
   "execution_count": 224,
   "id": "88bf9367",
   "metadata": {},
   "outputs": [
    {
     "name": "stdout",
     "output_type": "stream",
     "text": [
      "60\n"
     ]
    }
   ],
   "source": [
    "print(pd.options.display.max_rows)"
   ]
  },
  {
   "cell_type": "markdown",
   "id": "bc1fd0d6",
   "metadata": {},
   "source": [
    "In my system the number is 60, which means that if the DataFrame contains more than 60 rows, the print(df) statement will return only the headers and the first and last 5 rows.\n",
    "\n",
    "\n",
    "You can change the maximum rows number with the same statement."
   ]
  },
  {
   "cell_type": "code",
   "execution_count": 225,
   "id": "0dbdc8fa",
   "metadata": {},
   "outputs": [],
   "source": [
    "# pd.options.display.max_rows = 9999"
   ]
  },
  {
   "cell_type": "code",
   "execution_count": 226,
   "id": "91444f99",
   "metadata": {},
   "outputs": [],
   "source": [
    "df = pd.read_csv('C:/Users/User 1/Desktop/Ai_Ml_QB/pandas/17_06/data.csv')"
   ]
  },
  {
   "cell_type": "code",
   "execution_count": 227,
   "id": "3a506ed7",
   "metadata": {},
   "outputs": [
    {
     "name": "stdout",
     "output_type": "stream",
     "text": [
      "     Duration  Pulse  Maxpulse  Calories\n",
      "0          60    110       130     409.1\n",
      "1          60    117       145     479.0\n",
      "2          60    103       135     340.0\n",
      "3          45    109       175     282.4\n",
      "4          45    117       148     406.0\n",
      "5          60    102       127     300.0\n",
      "6          60    110       136     374.0\n",
      "7          45    104       134     253.3\n",
      "8          30    109       133     195.1\n",
      "9          60     98       124     269.0\n",
      "10         60    103       147     329.3\n",
      "11         60    100       120     250.7\n",
      "12         60    106       128     345.3\n",
      "13         60    104       132     379.3\n",
      "14         60     98       123     275.0\n",
      "15         60     98       120     215.2\n",
      "16         60    100       120     300.0\n",
      "17         45     90       112       NaN\n",
      "18         60    103       123     323.0\n",
      "19         45     97       125     243.0\n",
      "20         60    108       131     364.2\n",
      "21         45    100       119     282.0\n",
      "22         60    130       101     300.0\n",
      "23         45    105       132     246.0\n",
      "24         60    102       126     334.5\n",
      "25         60    100       120     250.0\n",
      "26         60     92       118     241.0\n",
      "27         60    103       132       NaN\n",
      "28         60    100       132     280.0\n",
      "29         60    102       129     380.3\n",
      "30         60     92       115     243.0\n",
      "31         45     90       112     180.1\n",
      "32         60    101       124     299.0\n",
      "33         60     93       113     223.0\n",
      "34         60    107       136     361.0\n",
      "35         60    114       140     415.0\n",
      "36         60    102       127     300.0\n",
      "37         60    100       120     300.0\n",
      "38         60    100       120     300.0\n",
      "39         45    104       129     266.0\n",
      "40         45     90       112     180.1\n",
      "41         60     98       126     286.0\n",
      "42         60    100       122     329.4\n",
      "43         60    111       138     400.0\n",
      "44         60    111       131     397.0\n",
      "45         60     99       119     273.0\n",
      "46         60    109       153     387.6\n",
      "47         45    111       136     300.0\n",
      "48         45    108       129     298.0\n",
      "49         60    111       139     397.6\n",
      "50         60    107       136     380.2\n",
      "51         80    123       146     643.1\n",
      "52         60    106       130     263.0\n",
      "53         60    118       151     486.0\n",
      "54         30    136       175     238.0\n",
      "55         60    121       146     450.7\n",
      "56         60    118       121     413.0\n",
      "57         45    115       144     305.0\n",
      "58         20    153       172     226.4\n",
      "59         45    123       152     321.0\n",
      "60        210    108       160    1376.0\n",
      "61        160    110       137    1034.4\n",
      "62        160    109       135     853.0\n",
      "63         45    118       141     341.0\n",
      "64         20    110       130     131.4\n",
      "65        180     90       130     800.4\n",
      "66        150    105       135     873.4\n",
      "67        150    107       130     816.0\n",
      "68         20    106       136     110.4\n",
      "69        300    108       143    1500.2\n",
      "70        150     97       129    1115.0\n",
      "71         60    109       153     387.6\n",
      "72         90    100       127     700.0\n",
      "73        150     97       127     953.2\n",
      "74         45    114       146     304.0\n",
      "75         90     98       125     563.2\n",
      "76         45    105       134     251.0\n",
      "77         45    110       141     300.0\n",
      "78        120    100       130     500.4\n",
      "79        270    100       131    1729.0\n",
      "80         30    159       182     319.2\n",
      "81         45    149       169     344.0\n",
      "82         30    103       139     151.1\n",
      "83        120    100       130     500.0\n",
      "84         45    100       120     225.3\n",
      "85         30    151       170     300.0\n",
      "86         45    102       136     234.0\n",
      "87        120    100       157    1000.1\n",
      "88         45    129       103     242.0\n",
      "89         20     83       107      50.3\n",
      "90        180    101       127     600.1\n",
      "91         45    107       137       NaN\n",
      "92         30     90       107     105.3\n",
      "93         15     80       100      50.5\n",
      "94         20    150       171     127.4\n",
      "95         20    151       168     229.4\n",
      "96         30     95       128     128.2\n",
      "97         25    152       168     244.2\n",
      "98         30    109       131     188.2\n",
      "99         90     93       124     604.1\n",
      "100        20     95       112      77.7\n",
      "101        90     90       110     500.0\n",
      "102        90     90       100     500.0\n",
      "103        90     90       100     500.4\n",
      "104        30     92       108      92.7\n",
      "105        30     93       128     124.0\n",
      "106       180     90       120     800.3\n",
      "107        30     90       120      86.2\n",
      "108        90     90       120     500.3\n",
      "109       210    137       184    1860.4\n",
      "110        60    102       124     325.2\n",
      "111        45    107       124     275.0\n",
      "112        15    124       139     124.2\n",
      "113        45    100       120     225.3\n",
      "114        60    108       131     367.6\n",
      "115        60    108       151     351.7\n",
      "116        60    116       141     443.0\n",
      "117        60     97       122     277.4\n",
      "118        60    105       125       NaN\n",
      "119        60    103       124     332.7\n",
      "120        30    112       137     193.9\n",
      "121        45    100       120     100.7\n",
      "122        60    119       169     336.7\n",
      "123        60    107       127     344.9\n",
      "124        60    111       151     368.5\n",
      "125        60     98       122     271.0\n",
      "126        60     97       124     275.3\n",
      "127        60    109       127     382.0\n",
      "128        90     99       125     466.4\n",
      "129        60    114       151     384.0\n",
      "130        60    104       134     342.5\n",
      "131        60    107       138     357.5\n",
      "132        60    103       133     335.0\n",
      "133        60    106       132     327.5\n",
      "134        60    103       136     339.0\n",
      "135        20    136       156     189.0\n",
      "136        45    117       143     317.7\n",
      "137        45    115       137     318.0\n",
      "138        45    113       138     308.0\n",
      "139        20    141       162     222.4\n",
      "140        60    108       135     390.0\n",
      "141        60     97       127       NaN\n",
      "142        45    100       120     250.4\n",
      "143        45    122       149     335.4\n",
      "144        60    136       170     470.2\n",
      "145        45    106       126     270.8\n",
      "146        60    107       136     400.0\n",
      "147        60    112       146     361.9\n",
      "148        30    103       127     185.0\n",
      "149        60    110       150     409.4\n",
      "150        60    106       134     343.0\n",
      "151        60    109       129     353.2\n",
      "152        60    109       138     374.0\n",
      "153        30    150       167     275.8\n",
      "154        60    105       128     328.0\n",
      "155        60    111       151     368.5\n",
      "156        60     97       131     270.4\n",
      "157        60    100       120     270.4\n",
      "158        60    114       150     382.8\n",
      "159        30     80       120     240.9\n",
      "160        30     85       120     250.4\n",
      "161        45     90       130     260.4\n",
      "162        45     95       130     270.0\n",
      "163        45    100       140     280.9\n",
      "164        60    105       140     290.8\n",
      "165        60    110       145     300.0\n",
      "166        60    115       145     310.2\n",
      "167        75    120       150     320.4\n",
      "168        75    125       150     330.4\n"
     ]
    }
   ],
   "source": [
    "print(df.to_string())"
   ]
  },
  {
   "cell_type": "markdown",
   "id": "29b45cc3",
   "metadata": {},
   "source": [
    "to_string() to print the entire DataFrame."
   ]
  },
  {
   "cell_type": "markdown",
   "id": "60748dd3",
   "metadata": {},
   "source": [
    "### 2. Pandas Series\n",
    "- A Pandas Series is like a column in a table.\n",
    "\n",
    "- It is a one-dimensional array holding data of any type."
   ]
  },
  {
   "cell_type": "code",
   "execution_count": 228,
   "id": "633723eb",
   "metadata": {},
   "outputs": [
    {
     "name": "stdout",
     "output_type": "stream",
     "text": [
      "<class 'list'>\n",
      "0    1\n",
      "1    3\n",
      "2    5\n",
      "3    7\n",
      "4    9\n",
      "dtype: int64\n",
      "<class 'pandas.core.series.Series'>\n"
     ]
    }
   ],
   "source": [
    "a = list(range(1,10,2))\n",
    "print(type(a))\n",
    "myvar = pd.Series(a)\n",
    "print(myvar)\n",
    "print(type(myvar))"
   ]
  },
  {
   "cell_type": "markdown",
   "id": "3ade7b4d",
   "metadata": {},
   "source": [
    "#### 2.1 Labels\n",
    "- If nothing else is specified, the values are labeled with their index number. First value has index 0, second value has index 1 etc.\n",
    "\n",
    "- This label can be used to access a specified value`````````"
   ]
  },
  {
   "cell_type": "code",
   "execution_count": 229,
   "id": "4980a401",
   "metadata": {},
   "outputs": [
    {
     "name": "stdout",
     "output_type": "stream",
     "text": [
      "0    1\n",
      "1    3\n",
      "2    5\n",
      "3    7\n",
      "4    9\n",
      "dtype: int64\n"
     ]
    }
   ],
   "source": [
    "print(myvar)"
   ]
  },
  {
   "cell_type": "code",
   "execution_count": 230,
   "id": "0c6a59d0",
   "metadata": {},
   "outputs": [
    {
     "name": "stdout",
     "output_type": "stream",
     "text": [
      "1\n"
     ]
    }
   ],
   "source": [
    "print(myvar[0])"
   ]
  },
  {
   "cell_type": "markdown",
   "id": "5be6dac4",
   "metadata": {},
   "source": [
    "##### 2.1.1 Create Labels\n",
    "- With the index argument, we can name our own labels."
   ]
  },
  {
   "cell_type": "code",
   "execution_count": 231,
   "id": "1dc2acc2",
   "metadata": {},
   "outputs": [
    {
     "data": {
      "text/plain": [
       "x     1\n",
       "y    20\n",
       "z    30\n",
       "dtype: int64"
      ]
     },
     "execution_count": 231,
     "metadata": {},
     "output_type": "execute_result"
    }
   ],
   "source": [
    "a = [1,20,30]\n",
    "myvar = pd.Series(a, index=['x','y','z'])\n",
    "myvar\n"
   ]
  },
  {
   "cell_type": "markdown",
   "id": "fca85f81",
   "metadata": {},
   "source": [
    "- When we have created labels, we can access an item by referring to the label."
   ]
  },
  {
   "cell_type": "code",
   "execution_count": 232,
   "id": "907e2489",
   "metadata": {},
   "outputs": [
    {
     "name": "stdout",
     "output_type": "stream",
     "text": [
      "1\n"
     ]
    }
   ],
   "source": [
    "print(myvar['x'])"
   ]
  },
  {
   "cell_type": "markdown",
   "id": "f9903818",
   "metadata": {},
   "source": [
    "##### 2.2 Key/Value Objects as Series\n",
    "- Can also use a key/value object, like a dictionary, when creating a Series.\n",
    "\n",
    "-  The keys of the dictionary become the labels."
   ]
  },
  {
   "cell_type": "code",
   "execution_count": 233,
   "id": "2197f993",
   "metadata": {},
   "outputs": [
    {
     "name": "stdout",
     "output_type": "stream",
     "text": [
      "day1    100\n",
      "day2    200\n",
      "day3    300\n",
      "dtype: int64\n"
     ]
    }
   ],
   "source": [
    "steps = {'day1': 100, 'day2': 200, 'day3': 300}\n",
    "myvar = pd.Series(steps)\n",
    "print(myvar)"
   ]
  },
  {
   "cell_type": "markdown",
   "id": "8b41c21e",
   "metadata": {},
   "source": [
    "- To select only some of the items in the dictionary, use the index argument and specify only the items we want to include in the Series."
   ]
  },
  {
   "cell_type": "code",
   "execution_count": 234,
   "id": "61159fbf",
   "metadata": {},
   "outputs": [
    {
     "name": "stdout",
     "output_type": "stream",
     "text": [
      "day3    300\n",
      "day2    200\n",
      "dtype: int64\n"
     ]
    }
   ],
   "source": [
    "# Create a Series using only data from \"day1\" and \"day2\":\n",
    "steps = {'day1': 100, 'day2': 200, 'day3': 300}\n",
    "myvar = pd.Series(steps, index=['day3','day2'])\n",
    "print(myvar)"
   ]
  },
  {
   "cell_type": "markdown",
   "id": "edca5f3d",
   "metadata": {},
   "source": [
    "### 3. Data Frames (DataFrame)\n",
    "- Data sets in Pandas are usually multi-dimensional tables, called DataFrames.\n",
    "\n",
    "- Series is like a column, a DataFrame is the whole table.\n",
    "\n",
    "- A Pandas DataFrame is a 2 dimensional data structure, like a 2 dimensional array, or a table with rows and columns."
   ]
  },
  {
   "cell_type": "code",
   "execution_count": 235,
   "id": "c4b55706",
   "metadata": {},
   "outputs": [
    {
     "data": {
      "text/html": [
       "<div>\n",
       "<style scoped>\n",
       "    .dataframe tbody tr th:only-of-type {\n",
       "        vertical-align: middle;\n",
       "    }\n",
       "\n",
       "    .dataframe tbody tr th {\n",
       "        vertical-align: top;\n",
       "    }\n",
       "\n",
       "    .dataframe thead th {\n",
       "        text-align: right;\n",
       "    }\n",
       "</style>\n",
       "<table border=\"1\" class=\"dataframe\">\n",
       "  <thead>\n",
       "    <tr style=\"text-align: right;\">\n",
       "      <th></th>\n",
       "      <th>calories</th>\n",
       "      <th>duration</th>\n",
       "      <th>temp</th>\n",
       "      <th>0</th>\n",
       "    </tr>\n",
       "  </thead>\n",
       "  <tbody>\n",
       "    <tr>\n",
       "      <th>0</th>\n",
       "      <td>420</td>\n",
       "      <td>50</td>\n",
       "      <td>38</td>\n",
       "      <td>10</td>\n",
       "    </tr>\n",
       "    <tr>\n",
       "      <th>1</th>\n",
       "      <td>380</td>\n",
       "      <td>40</td>\n",
       "      <td>49</td>\n",
       "      <td>2030</td>\n",
       "    </tr>\n",
       "    <tr>\n",
       "      <th>2</th>\n",
       "      <td>390</td>\n",
       "      <td>45</td>\n",
       "      <td>36</td>\n",
       "      <td>20</td>\n",
       "    </tr>\n",
       "  </tbody>\n",
       "</table>\n",
       "</div>"
      ],
      "text/plain": [
       "   calories  duration  temp     0\n",
       "0       420        50    38    10\n",
       "1       380        40    49  2030\n",
       "2       390        45    36    20"
      ]
     },
     "execution_count": 235,
     "metadata": {},
     "output_type": "execute_result"
    }
   ],
   "source": [
    "data = {\n",
    "  \"calories\": [420, 380, 390],\n",
    "  \"duration\": [50, 40, 45],\n",
    "  'temp': [38,49,36],\n",
    "  0: [10,2030,20]\n",
    "}\n",
    "\n",
    "df = pd.DataFrame(data)\n",
    "\n",
    "df"
   ]
  },
  {
   "cell_type": "code",
   "execution_count": 236,
   "id": "f70ce220",
   "metadata": {},
   "outputs": [
    {
     "name": "stdout",
     "output_type": "stream",
     "text": [
      "<class 'dict'>\n",
      "<class 'pandas.core.frame.DataFrame'>\n"
     ]
    }
   ],
   "source": [
    "print(type(data))\n",
    "print(type(df))"
   ]
  },
  {
   "cell_type": "markdown",
   "id": "f7e435b8",
   "metadata": {},
   "source": [
    "#### 3.1 Locate Row\n",
    "- Pandas use the loc attribute to return one or more specified row(s)"
   ]
  },
  {
   "cell_type": "code",
   "execution_count": 260,
   "id": "d13dca6e",
   "metadata": {},
   "outputs": [
    {
     "name": "stdout",
     "output_type": "stream",
     "text": [
      "Car                   1\n",
      "Brand            Toyota\n",
      "Model           Corolla\n",
      "Year               2018\n",
      "Engine_Size        1.8L\n",
      "Fuel_Type        Petrol\n",
      "Mileage_(km)    42000.0\n",
      "Price_(USD)     14500.0\n",
      "Owner_type        First\n",
      "Name: 0, dtype: object\n"
     ]
    }
   ],
   "source": [
    "print(df.loc[0])"
   ]
  },
  {
   "cell_type": "code",
   "execution_count": 237,
   "id": "df4751c0",
   "metadata": {},
   "outputs": [
    {
     "name": "stdout",
     "output_type": "stream",
     "text": [
      "   calories  duration  temp     0\n",
      "1       380        40    49  2030\n",
      "0       420        50    38    10\n",
      "2       390        45    36    20\n"
     ]
    }
   ],
   "source": [
    "print(df.loc[[1,0,2]]) #second[] is list"
   ]
  },
  {
   "cell_type": "markdown",
   "id": "72c0415e",
   "metadata": {},
   "source": [
    "##### 3.2.1 Named Indexes\n",
    "- Use the named index in the loc attribute to return the specified row(s)."
   ]
  },
  {
   "cell_type": "code",
   "execution_count": 264,
   "id": "ecc02c38",
   "metadata": {},
   "outputs": [
    {
     "name": "stdout",
     "output_type": "stream",
     "text": [
      "      calories  duration\n",
      "day1       420        50\n",
      "day2       380        40\n",
      "day3       390        45\n"
     ]
    }
   ],
   "source": [
    "data = {\n",
    "  \"calories\": [420, 380, 390],\n",
    "  \"duration\": [50, 40, 45]\n",
    "}\n",
    "\n",
    "df = pd.DataFrame(data, index = [\"day1\", \"day2\", \"day3\"])\n",
    "\n",
    "print(df) "
   ]
  },
  {
   "cell_type": "code",
   "execution_count": 270,
   "id": "a48f12f8",
   "metadata": {},
   "outputs": [
    {
     "name": "stdout",
     "output_type": "stream",
     "text": [
      "calories    380\n",
      "duration     40\n",
      "Name: day2, dtype: int64\n",
      "calories    380\n",
      "duration     40\n",
      "Name: day2, dtype: int64\n"
     ]
    }
   ],
   "source": [
    "#refer to the named index:\n",
    "print(df.loc[\"day2\"])\n",
    "# print(df.loc[1])\n",
    "print(df.iloc[1])"
   ]
  },
  {
   "cell_type": "markdown",
   "id": "ee8836b3",
   "metadata": {},
   "source": [
    "#refer to the named index:\n",
    "print(df.loc[[\"day2\",\"day1\"]])"
   ]
  },
  {
   "cell_type": "code",
   "execution_count": 240,
   "id": "ac8a9dff",
   "metadata": {},
   "outputs": [],
   "source": [
    "df = pd.read_csv('C:/Users/User 1/Desktop/Ai_Ml_QB/pandas/17_06/cars_advanced.csv')"
   ]
  },
  {
   "cell_type": "code",
   "execution_count": 241,
   "id": "a2b64080",
   "metadata": {},
   "outputs": [
    {
     "name": "stdout",
     "output_type": "stream",
     "text": [
      "    Car          Brand     Model  Year Engine Size Fuel Type  Mileage (km)  Price (USD) Owner Type\n",
      "0     1         Toyota   Corolla  2018        1.8L    Petrol       42000.0      14500.0      First\n",
      "1     2          Honda     Civic  2020        2.0L    petrol       25000.0      18000.0      First\n",
      "2     3           Ford     Focus  2017        1.5L    Diesel       60000.0      12500.0     Second\n",
      "3     4        Hyundai   Elantra  2019         NaN    Petrol       35000.0      16000.0      first\n",
      "4     5            BMW  3 Series  2016        2.0L    diesel       70000.0          NaN      Third\n",
      "5     6  Mercedes-Benz   C Class  2018        2.0L    Petrol       40000.0      28000.0      First\n",
      "6     7          Tesla   Model 3  2021    Electric  electric       15000.0      35000.0      First\n",
      "7     8            Kia    Optima  2017        2.4L    Petrol       50000.0      13000.0     Second\n",
      "8     9           Audi        A4  2019        2.0L    Diesel       30000.0      27000.0     Second\n",
      "9    10      Chevrolet    Malibu  2016        1.5L    Petrol        -500.0      11000.0      third\n",
      "10   11          Honda     Civic  2020        2.0L    Petrol       25000.0      18000.0      First\n",
      "11   12           Ford     Focus  2017        1.5L    Diesel       60000.0      12500.0     Second\n",
      "12   13            NaN    Accord  2018        2.4L    Petrol       45000.0      19000.0      First\n",
      "13   14         Toyota     Camry  2015        2.5L    Petrol           NaN      14000.0     Second\n",
      "14   15            BMW  3 series  2016        2.0L    Diesel       70000.0      20000.0      third\n"
     ]
    }
   ],
   "source": [
    "print(df.to_string())"
   ]
  },
  {
   "cell_type": "markdown",
   "id": "291e5654",
   "metadata": {},
   "source": [
    "#    Pandas Read Json\n",
    "\n",
    "#### pd.read_json('')"
   ]
  },
  {
   "cell_type": "code",
   "execution_count": 242,
   "id": "997075d7",
   "metadata": {},
   "outputs": [
    {
     "name": "stdout",
     "output_type": "stream",
     "text": [
      "              bb  cc\n",
      "name          bb  cc\n",
      "phone_number  bb  cc\n",
      "email         bb  cc\n"
     ]
    }
   ],
   "source": [
    "df = pd.read_json('C:/Users/User 1/Desktop/Ai_Ml_QB/contact.json')\n",
    "print(df.to_string())"
   ]
  },
  {
   "cell_type": "markdown",
   "id": "8d7365e2",
   "metadata": {},
   "source": [
    "### 5 Pandas - Analyzing DataFrames\n",
    "\n",
    "#### 5.1 Viewing the Data\n",
    "- One of the most used method for getting a quick overview of the DataFrame, is the **head()** method.\n",
    "\n",
    "- The **head()** method returns the headers and a specified number of rows, starting from the top.\n",
    "\n",
    "- if we don't mention then it display the first 5 rows\n"
   ]
  },
  {
   "cell_type": "code",
   "execution_count": 243,
   "id": "9258b585",
   "metadata": {},
   "outputs": [
    {
     "name": "stdout",
     "output_type": "stream",
     "text": [
      "   Car    Brand     Model  Year Engine Size Fuel Type  Mileage (km)  \\\n",
      "0    1   Toyota   Corolla  2018        1.8L    Petrol       42000.0   \n",
      "1    2    Honda     Civic  2020        2.0L    petrol       25000.0   \n",
      "2    3     Ford     Focus  2017        1.5L    Diesel       60000.0   \n",
      "3    4  Hyundai   Elantra  2019         NaN    Petrol       35000.0   \n",
      "4    5      BMW  3 Series  2016        2.0L    diesel       70000.0   \n",
      "\n",
      "   Price (USD) Owner Type  \n",
      "0      14500.0      First  \n",
      "1      18000.0      First  \n",
      "2      12500.0     Second  \n",
      "3      16000.0      first  \n",
      "4          NaN      Third  \n"
     ]
    }
   ],
   "source": [
    "df = pd.read_csv('C:/Users/User 1/Desktop/Ai_Ml_QB/pandas/17_06/cars_advanced.csv')\n",
    "print(df.head())"
   ]
  },
  {
   "cell_type": "code",
   "execution_count": 244,
   "id": "1d2a6b02",
   "metadata": {},
   "outputs": [
    {
     "name": "stdout",
     "output_type": "stream",
     "text": [
      "   Car          Brand     Model  Year Engine Size Fuel Type  Mileage (km)  Price (USD) Owner Type\n",
      "0    1         Toyota   Corolla  2018        1.8L    Petrol       42000.0      14500.0      First\n",
      "1    2          Honda     Civic  2020        2.0L    petrol       25000.0      18000.0      First\n",
      "2    3           Ford     Focus  2017        1.5L    Diesel       60000.0      12500.0     Second\n",
      "3    4        Hyundai   Elantra  2019         NaN    Petrol       35000.0      16000.0      first\n",
      "4    5            BMW  3 Series  2016        2.0L    diesel       70000.0          NaN      Third\n",
      "5    6  Mercedes-Benz   C Class  2018        2.0L    Petrol       40000.0      28000.0      First\n",
      "6    7          Tesla   Model 3  2021    Electric  electric       15000.0      35000.0      First\n",
      "7    8            Kia    Optima  2017        2.4L    Petrol       50000.0      13000.0     Second\n",
      "8    9           Audi        A4  2019        2.0L    Diesel       30000.0      27000.0     Second\n",
      "9   10      Chevrolet    Malibu  2016        1.5L    Petrol        -500.0      11000.0      third\n"
     ]
    }
   ],
   "source": [
    "print(df.head(10).to_string())"
   ]
  },
  {
   "cell_type": "markdown",
   "id": "fcb6b36b",
   "metadata": {},
   "source": [
    "- There is also a **tail()** method for viewing the last rows of the DataFrame.\n",
    "\n",
    "- The **tail()** method returns the headers and a specified number of rows, starting from the bottom."
   ]
  },
  {
   "cell_type": "code",
   "execution_count": 245,
   "id": "5a49228a",
   "metadata": {},
   "outputs": [
    {
     "name": "stdout",
     "output_type": "stream",
     "text": [
      "    Car   Brand     Model  Year Engine Size Fuel Type  Mileage (km)  \\\n",
      "10   11   Honda     Civic  2020        2.0L    Petrol       25000.0   \n",
      "11   12    Ford     Focus  2017        1.5L    Diesel       60000.0   \n",
      "12   13     NaN    Accord  2018        2.4L    Petrol       45000.0   \n",
      "13   14  Toyota     Camry  2015        2.5L    Petrol           NaN   \n",
      "14   15     BMW  3 series  2016        2.0L    Diesel       70000.0   \n",
      "\n",
      "    Price (USD) Owner Type  \n",
      "10      18000.0      First  \n",
      "11      12500.0     Second  \n",
      "12      19000.0      First  \n",
      "13      14000.0     Second  \n",
      "14      20000.0      third  \n"
     ]
    }
   ],
   "source": [
    "print(df.tail())"
   ]
  },
  {
   "cell_type": "code",
   "execution_count": 246,
   "id": "aaef326d",
   "metadata": {},
   "outputs": [
    {
     "name": "stdout",
     "output_type": "stream",
     "text": [
      "    Car      Brand     Model  Year Engine Size Fuel Type  Mileage (km)  Price (USD) Owner Type\n",
      "8     9       Audi        A4  2019        2.0L    Diesel       30000.0      27000.0     Second\n",
      "9    10  Chevrolet    Malibu  2016        1.5L    Petrol        -500.0      11000.0      third\n",
      "10   11      Honda     Civic  2020        2.0L    Petrol       25000.0      18000.0      First\n",
      "11   12       Ford     Focus  2017        1.5L    Diesel       60000.0      12500.0     Second\n",
      "12   13        NaN    Accord  2018        2.4L    Petrol       45000.0      19000.0      First\n",
      "13   14     Toyota     Camry  2015        2.5L    Petrol           NaN      14000.0     Second\n",
      "14   15        BMW  3 series  2016        2.0L    Diesel       70000.0      20000.0      third\n"
     ]
    }
   ],
   "source": [
    "print(df.tail(7).to_string())"
   ]
  },
  {
   "cell_type": "markdown",
   "id": "b5086a21",
   "metadata": {},
   "source": [
    "\n",
    "- We can also get random rows using **sample()**\n",
    "\n",
    "- by default 1"
   ]
  },
  {
   "cell_type": "code",
   "execution_count": 247,
   "id": "ce2972d0",
   "metadata": {},
   "outputs": [
    {
     "data": {
      "text/html": [
       "<div>\n",
       "<style scoped>\n",
       "    .dataframe tbody tr th:only-of-type {\n",
       "        vertical-align: middle;\n",
       "    }\n",
       "\n",
       "    .dataframe tbody tr th {\n",
       "        vertical-align: top;\n",
       "    }\n",
       "\n",
       "    .dataframe thead th {\n",
       "        text-align: right;\n",
       "    }\n",
       "</style>\n",
       "<table border=\"1\" class=\"dataframe\">\n",
       "  <thead>\n",
       "    <tr style=\"text-align: right;\">\n",
       "      <th></th>\n",
       "      <th>Car</th>\n",
       "      <th>Brand</th>\n",
       "      <th>Model</th>\n",
       "      <th>Year</th>\n",
       "      <th>Engine Size</th>\n",
       "      <th>Fuel Type</th>\n",
       "      <th>Mileage (km)</th>\n",
       "      <th>Price (USD)</th>\n",
       "      <th>Owner Type</th>\n",
       "    </tr>\n",
       "  </thead>\n",
       "  <tbody>\n",
       "    <tr>\n",
       "      <th>1</th>\n",
       "      <td>2</td>\n",
       "      <td>Honda</td>\n",
       "      <td>Civic</td>\n",
       "      <td>2020</td>\n",
       "      <td>2.0L</td>\n",
       "      <td>petrol</td>\n",
       "      <td>25000.0</td>\n",
       "      <td>18000.0</td>\n",
       "      <td>First</td>\n",
       "    </tr>\n",
       "  </tbody>\n",
       "</table>\n",
       "</div>"
      ],
      "text/plain": [
       "   Car  Brand  Model  Year Engine Size Fuel Type  Mileage (km)  Price (USD)  \\\n",
       "1    2  Honda  Civic  2020        2.0L    petrol       25000.0      18000.0   \n",
       "\n",
       "  Owner Type  \n",
       "1      First  "
      ]
     },
     "execution_count": 247,
     "metadata": {},
     "output_type": "execute_result"
    }
   ],
   "source": [
    "df.sample()"
   ]
  },
  {
   "cell_type": "code",
   "execution_count": 248,
   "id": "d054d99f",
   "metadata": {},
   "outputs": [
    {
     "data": {
      "text/html": [
       "<div>\n",
       "<style scoped>\n",
       "    .dataframe tbody tr th:only-of-type {\n",
       "        vertical-align: middle;\n",
       "    }\n",
       "\n",
       "    .dataframe tbody tr th {\n",
       "        vertical-align: top;\n",
       "    }\n",
       "\n",
       "    .dataframe thead th {\n",
       "        text-align: right;\n",
       "    }\n",
       "</style>\n",
       "<table border=\"1\" class=\"dataframe\">\n",
       "  <thead>\n",
       "    <tr style=\"text-align: right;\">\n",
       "      <th></th>\n",
       "      <th>Car</th>\n",
       "      <th>Brand</th>\n",
       "      <th>Model</th>\n",
       "      <th>Year</th>\n",
       "      <th>Engine Size</th>\n",
       "      <th>Fuel Type</th>\n",
       "      <th>Mileage (km)</th>\n",
       "      <th>Price (USD)</th>\n",
       "      <th>Owner Type</th>\n",
       "    </tr>\n",
       "  </thead>\n",
       "  <tbody>\n",
       "    <tr>\n",
       "      <th>1</th>\n",
       "      <td>2</td>\n",
       "      <td>Honda</td>\n",
       "      <td>Civic</td>\n",
       "      <td>2020</td>\n",
       "      <td>2.0L</td>\n",
       "      <td>petrol</td>\n",
       "      <td>25000.0</td>\n",
       "      <td>18000.0</td>\n",
       "      <td>First</td>\n",
       "    </tr>\n",
       "    <tr>\n",
       "      <th>9</th>\n",
       "      <td>10</td>\n",
       "      <td>Chevrolet</td>\n",
       "      <td>Malibu</td>\n",
       "      <td>2016</td>\n",
       "      <td>1.5L</td>\n",
       "      <td>Petrol</td>\n",
       "      <td>-500.0</td>\n",
       "      <td>11000.0</td>\n",
       "      <td>third</td>\n",
       "    </tr>\n",
       "    <tr>\n",
       "      <th>8</th>\n",
       "      <td>9</td>\n",
       "      <td>Audi</td>\n",
       "      <td>A4</td>\n",
       "      <td>2019</td>\n",
       "      <td>2.0L</td>\n",
       "      <td>Diesel</td>\n",
       "      <td>30000.0</td>\n",
       "      <td>27000.0</td>\n",
       "      <td>Second</td>\n",
       "    </tr>\n",
       "    <tr>\n",
       "      <th>5</th>\n",
       "      <td>6</td>\n",
       "      <td>Mercedes-Benz</td>\n",
       "      <td>C Class</td>\n",
       "      <td>2018</td>\n",
       "      <td>2.0L</td>\n",
       "      <td>Petrol</td>\n",
       "      <td>40000.0</td>\n",
       "      <td>28000.0</td>\n",
       "      <td>First</td>\n",
       "    </tr>\n",
       "    <tr>\n",
       "      <th>14</th>\n",
       "      <td>15</td>\n",
       "      <td>BMW</td>\n",
       "      <td>3 series</td>\n",
       "      <td>2016</td>\n",
       "      <td>2.0L</td>\n",
       "      <td>Diesel</td>\n",
       "      <td>70000.0</td>\n",
       "      <td>20000.0</td>\n",
       "      <td>third</td>\n",
       "    </tr>\n",
       "    <tr>\n",
       "      <th>12</th>\n",
       "      <td>13</td>\n",
       "      <td>NaN</td>\n",
       "      <td>Accord</td>\n",
       "      <td>2018</td>\n",
       "      <td>2.4L</td>\n",
       "      <td>Petrol</td>\n",
       "      <td>45000.0</td>\n",
       "      <td>19000.0</td>\n",
       "      <td>First</td>\n",
       "    </tr>\n",
       "    <tr>\n",
       "      <th>0</th>\n",
       "      <td>1</td>\n",
       "      <td>Toyota</td>\n",
       "      <td>Corolla</td>\n",
       "      <td>2018</td>\n",
       "      <td>1.8L</td>\n",
       "      <td>Petrol</td>\n",
       "      <td>42000.0</td>\n",
       "      <td>14500.0</td>\n",
       "      <td>First</td>\n",
       "    </tr>\n",
       "  </tbody>\n",
       "</table>\n",
       "</div>"
      ],
      "text/plain": [
       "    Car          Brand     Model  Year Engine Size Fuel Type  Mileage (km)  \\\n",
       "1     2          Honda     Civic  2020        2.0L    petrol       25000.0   \n",
       "9    10      Chevrolet    Malibu  2016        1.5L    Petrol        -500.0   \n",
       "8     9           Audi        A4  2019        2.0L    Diesel       30000.0   \n",
       "5     6  Mercedes-Benz   C Class  2018        2.0L    Petrol       40000.0   \n",
       "14   15            BMW  3 series  2016        2.0L    Diesel       70000.0   \n",
       "12   13            NaN    Accord  2018        2.4L    Petrol       45000.0   \n",
       "0     1         Toyota   Corolla  2018        1.8L    Petrol       42000.0   \n",
       "\n",
       "    Price (USD) Owner Type  \n",
       "1       18000.0      First  \n",
       "9       11000.0      third  \n",
       "8       27000.0     Second  \n",
       "5       28000.0      First  \n",
       "14      20000.0      third  \n",
       "12      19000.0      First  \n",
       "0       14500.0      First  "
      ]
     },
     "execution_count": 248,
     "metadata": {},
     "output_type": "execute_result"
    }
   ],
   "source": [
    "df.sample(7)"
   ]
  },
  {
   "cell_type": "markdown",
   "id": "05e90dd4",
   "metadata": {},
   "source": [
    "#### random_state:- using this we get same random o/p\n",
    "\n",
    "- random_state = 1 (we can pass any integer)"
   ]
  },
  {
   "cell_type": "code",
   "execution_count": 249,
   "id": "83853057",
   "metadata": {},
   "outputs": [
    {
     "data": {
      "text/html": [
       "<div>\n",
       "<style scoped>\n",
       "    .dataframe tbody tr th:only-of-type {\n",
       "        vertical-align: middle;\n",
       "    }\n",
       "\n",
       "    .dataframe tbody tr th {\n",
       "        vertical-align: top;\n",
       "    }\n",
       "\n",
       "    .dataframe thead th {\n",
       "        text-align: right;\n",
       "    }\n",
       "</style>\n",
       "<table border=\"1\" class=\"dataframe\">\n",
       "  <thead>\n",
       "    <tr style=\"text-align: right;\">\n",
       "      <th></th>\n",
       "      <th>Car</th>\n",
       "      <th>Brand</th>\n",
       "      <th>Model</th>\n",
       "      <th>Year</th>\n",
       "      <th>Engine Size</th>\n",
       "      <th>Fuel Type</th>\n",
       "      <th>Mileage (km)</th>\n",
       "      <th>Price (USD)</th>\n",
       "      <th>Owner Type</th>\n",
       "    </tr>\n",
       "  </thead>\n",
       "  <tbody>\n",
       "    <tr>\n",
       "      <th>3</th>\n",
       "      <td>4</td>\n",
       "      <td>Hyundai</td>\n",
       "      <td>Elantra</td>\n",
       "      <td>2019</td>\n",
       "      <td>NaN</td>\n",
       "      <td>Petrol</td>\n",
       "      <td>35000.0</td>\n",
       "      <td>16000.0</td>\n",
       "      <td>first</td>\n",
       "    </tr>\n",
       "    <tr>\n",
       "      <th>7</th>\n",
       "      <td>8</td>\n",
       "      <td>Kia</td>\n",
       "      <td>Optima</td>\n",
       "      <td>2017</td>\n",
       "      <td>2.4L</td>\n",
       "      <td>Petrol</td>\n",
       "      <td>50000.0</td>\n",
       "      <td>13000.0</td>\n",
       "      <td>Second</td>\n",
       "    </tr>\n",
       "    <tr>\n",
       "      <th>6</th>\n",
       "      <td>7</td>\n",
       "      <td>Tesla</td>\n",
       "      <td>Model 3</td>\n",
       "      <td>2021</td>\n",
       "      <td>Electric</td>\n",
       "      <td>electric</td>\n",
       "      <td>15000.0</td>\n",
       "      <td>35000.0</td>\n",
       "      <td>First</td>\n",
       "    </tr>\n",
       "    <tr>\n",
       "      <th>2</th>\n",
       "      <td>3</td>\n",
       "      <td>Ford</td>\n",
       "      <td>Focus</td>\n",
       "      <td>2017</td>\n",
       "      <td>1.5L</td>\n",
       "      <td>Diesel</td>\n",
       "      <td>60000.0</td>\n",
       "      <td>12500.0</td>\n",
       "      <td>Second</td>\n",
       "    </tr>\n",
       "    <tr>\n",
       "      <th>10</th>\n",
       "      <td>11</td>\n",
       "      <td>Honda</td>\n",
       "      <td>Civic</td>\n",
       "      <td>2020</td>\n",
       "      <td>2.0L</td>\n",
       "      <td>Petrol</td>\n",
       "      <td>25000.0</td>\n",
       "      <td>18000.0</td>\n",
       "      <td>First</td>\n",
       "    </tr>\n",
       "  </tbody>\n",
       "</table>\n",
       "</div>"
      ],
      "text/plain": [
       "    Car    Brand    Model  Year Engine Size Fuel Type  Mileage (km)  \\\n",
       "3     4  Hyundai  Elantra  2019         NaN    Petrol       35000.0   \n",
       "7     8      Kia   Optima  2017        2.4L    Petrol       50000.0   \n",
       "6     7    Tesla  Model 3  2021    Electric  electric       15000.0   \n",
       "2     3     Ford    Focus  2017        1.5L    Diesel       60000.0   \n",
       "10   11    Honda    Civic  2020        2.0L    Petrol       25000.0   \n",
       "\n",
       "    Price (USD) Owner Type  \n",
       "3       16000.0      first  \n",
       "7       13000.0     Second  \n",
       "6       35000.0      First  \n",
       "2       12500.0     Second  \n",
       "10      18000.0      First  "
      ]
     },
     "execution_count": 249,
     "metadata": {},
     "output_type": "execute_result"
    }
   ],
   "source": [
    "df.sample(5, random_state=1) # this will give same combination every time\n",
    "# can put any interger in 'random_state'"
   ]
  },
  {
   "cell_type": "markdown",
   "id": "543b3316",
   "metadata": {},
   "source": [
    "#### 5.2 Info About the Data\n",
    "- The DataFrames object has a method called **info()**, that gives us more information about the data set.\n",
    "\n",
    "- The **info()** method also tells us how many Non-Null values there are present in each column"
   ]
  },
  {
   "cell_type": "code",
   "execution_count": 250,
   "id": "207ef06d",
   "metadata": {},
   "outputs": [
    {
     "name": "stdout",
     "output_type": "stream",
     "text": [
      "<class 'pandas.core.frame.DataFrame'>\n",
      "RangeIndex: 15 entries, 0 to 14\n",
      "Data columns (total 9 columns):\n",
      " #   Column        Non-Null Count  Dtype  \n",
      "---  ------        --------------  -----  \n",
      " 0   Car           15 non-null     int64  \n",
      " 1   Brand         14 non-null     object \n",
      " 2   Model         15 non-null     object \n",
      " 3   Year          15 non-null     int64  \n",
      " 4   Engine Size   14 non-null     object \n",
      " 5   Fuel Type     15 non-null     object \n",
      " 6   Mileage (km)  14 non-null     float64\n",
      " 7   Price (USD)   14 non-null     float64\n",
      " 8   Owner Type    15 non-null     object \n",
      "dtypes: float64(2), int64(2), object(5)\n",
      "memory usage: 1.2+ KB\n"
     ]
    }
   ],
   "source": [
    "df.info()"
   ]
  },
  {
   "cell_type": "markdown",
   "id": "bd5d9fab",
   "metadata": {},
   "source": [
    "- We can see all the columns and rows by using **tolist()** method"
   ]
  },
  {
   "cell_type": "code",
   "execution_count": 251,
   "id": "64b105c5",
   "metadata": {},
   "outputs": [
    {
     "name": "stdout",
     "output_type": "stream",
     "text": [
      "Index(['Car', 'Brand', 'Model', 'Year', 'Engine Size', 'Fuel Type',\n",
      "       'Mileage (km)', 'Price (USD)', 'Owner Type'],\n",
      "      dtype='object')\n",
      "['Car', 'Brand', 'Model', 'Year', 'Engine Size', 'Fuel Type', 'Mileage (km)', 'Price (USD)', 'Owner Type']\n",
      "['Car', 'Brand', 'Model', 'Year', 'Engine Size', 'Fuel Type', 'Mileage (km)', 'Price (USD)', 'Owner Type']\n"
     ]
    }
   ],
   "source": [
    "print(df.columns)\n",
    "print(df.columns.to_list()) #pandas origin\n",
    "print(df.columns.tolist()) #numpy origin\n"
   ]
  },
  {
   "cell_type": "code",
   "execution_count": 252,
   "id": "a76f7320",
   "metadata": {},
   "outputs": [
    {
     "data": {
      "text/html": [
       "<div>\n",
       "<style scoped>\n",
       "    .dataframe tbody tr th:only-of-type {\n",
       "        vertical-align: middle;\n",
       "    }\n",
       "\n",
       "    .dataframe tbody tr th {\n",
       "        vertical-align: top;\n",
       "    }\n",
       "\n",
       "    .dataframe thead th {\n",
       "        text-align: right;\n",
       "    }\n",
       "</style>\n",
       "<table border=\"1\" class=\"dataframe\">\n",
       "  <thead>\n",
       "    <tr style=\"text-align: right;\">\n",
       "      <th></th>\n",
       "      <th>Car</th>\n",
       "      <th>Year</th>\n",
       "      <th>Mileage (km)</th>\n",
       "      <th>Price (USD)</th>\n",
       "    </tr>\n",
       "  </thead>\n",
       "  <tbody>\n",
       "    <tr>\n",
       "      <th>count</th>\n",
       "      <td>15.000000</td>\n",
       "      <td>15.000000</td>\n",
       "      <td>14.000000</td>\n",
       "      <td>14.000000</td>\n",
       "    </tr>\n",
       "    <tr>\n",
       "      <th>mean</th>\n",
       "      <td>8.000000</td>\n",
       "      <td>2017.800000</td>\n",
       "      <td>40464.285714</td>\n",
       "      <td>18464.285714</td>\n",
       "    </tr>\n",
       "    <tr>\n",
       "      <th>std</th>\n",
       "      <td>4.472136</td>\n",
       "      <td>1.740279</td>\n",
       "      <td>20692.310246</td>\n",
       "      <td>7009.510807</td>\n",
       "    </tr>\n",
       "    <tr>\n",
       "      <th>min</th>\n",
       "      <td>1.000000</td>\n",
       "      <td>2015.000000</td>\n",
       "      <td>-500.000000</td>\n",
       "      <td>11000.000000</td>\n",
       "    </tr>\n",
       "    <tr>\n",
       "      <th>25%</th>\n",
       "      <td>4.500000</td>\n",
       "      <td>2016.500000</td>\n",
       "      <td>26250.000000</td>\n",
       "      <td>13250.000000</td>\n",
       "    </tr>\n",
       "    <tr>\n",
       "      <th>50%</th>\n",
       "      <td>8.000000</td>\n",
       "      <td>2018.000000</td>\n",
       "      <td>41000.000000</td>\n",
       "      <td>17000.000000</td>\n",
       "    </tr>\n",
       "    <tr>\n",
       "      <th>75%</th>\n",
       "      <td>11.500000</td>\n",
       "      <td>2019.000000</td>\n",
       "      <td>57500.000000</td>\n",
       "      <td>19750.000000</td>\n",
       "    </tr>\n",
       "    <tr>\n",
       "      <th>max</th>\n",
       "      <td>15.000000</td>\n",
       "      <td>2021.000000</td>\n",
       "      <td>70000.000000</td>\n",
       "      <td>35000.000000</td>\n",
       "    </tr>\n",
       "  </tbody>\n",
       "</table>\n",
       "</div>"
      ],
      "text/plain": [
       "             Car         Year  Mileage (km)   Price (USD)\n",
       "count  15.000000    15.000000     14.000000     14.000000\n",
       "mean    8.000000  2017.800000  40464.285714  18464.285714\n",
       "std     4.472136     1.740279  20692.310246   7009.510807\n",
       "min     1.000000  2015.000000   -500.000000  11000.000000\n",
       "25%     4.500000  2016.500000  26250.000000  13250.000000\n",
       "50%     8.000000  2018.000000  41000.000000  17000.000000\n",
       "75%    11.500000  2019.000000  57500.000000  19750.000000\n",
       "max    15.000000  2021.000000  70000.000000  35000.000000"
      ]
     },
     "execution_count": 252,
     "metadata": {},
     "output_type": "execute_result"
    }
   ],
   "source": [
    "df.describe()"
   ]
  },
  {
   "cell_type": "markdown",
   "id": "38891ac1",
   "metadata": {},
   "source": [
    "#### 6.1 Remove Rows\n",
    "- One way to deal with empty cells is to remove rows that contain empty cells.\n",
    "\n",
    "- This is usually OK, since data sets can be very big, and removing a few rows will not have a big impact on the result.\n",
    "\n",
    "- By default, the **dropna()** method returns a new DataFrame, and will not change the original.\n",
    "\n",
    "- If we want to change the original DataFrame, we can use the **inplace = True argument**"
   ]
  },
  {
   "cell_type": "code",
   "execution_count": 253,
   "id": "9bf81c6a",
   "metadata": {},
   "outputs": [
    {
     "name": "stdout",
     "output_type": "stream",
     "text": [
      "    Car          Brand     Model  Year Engine Size Fuel Type  Mileage (km)  Price (USD) Owner Type\n",
      "0     1         Toyota   Corolla  2018        1.8L    Petrol       42000.0      14500.0      First\n",
      "1     2          Honda     Civic  2020        2.0L    petrol       25000.0      18000.0      First\n",
      "2     3           Ford     Focus  2017        1.5L    Diesel       60000.0      12500.0     Second\n",
      "3     4        Hyundai   Elantra  2019         NaN    Petrol       35000.0      16000.0      first\n",
      "4     5            BMW  3 Series  2016        2.0L    diesel       70000.0          NaN      Third\n",
      "5     6  Mercedes-Benz   C Class  2018        2.0L    Petrol       40000.0      28000.0      First\n",
      "6     7          Tesla   Model 3  2021    Electric  electric       15000.0      35000.0      First\n",
      "7     8            Kia    Optima  2017        2.4L    Petrol       50000.0      13000.0     Second\n",
      "8     9           Audi        A4  2019        2.0L    Diesel       30000.0      27000.0     Second\n",
      "9    10      Chevrolet    Malibu  2016        1.5L    Petrol        -500.0      11000.0      third\n",
      "10   11          Honda     Civic  2020        2.0L    Petrol       25000.0      18000.0      First\n",
      "11   12           Ford     Focus  2017        1.5L    Diesel       60000.0      12500.0     Second\n",
      "12   13            NaN    Accord  2018        2.4L    Petrol       45000.0      19000.0      First\n",
      "13   14         Toyota     Camry  2015        2.5L    Petrol           NaN      14000.0     Second\n",
      "14   15            BMW  3 series  2016        2.0L    Diesel       70000.0      20000.0      third\n",
      "----------------------------------------\n",
      "    Car          Brand     Model  Year Engine Size Fuel Type  Mileage (km)  Price (USD) Owner Type\n",
      "0     1         Toyota   Corolla  2018        1.8L    Petrol       42000.0      14500.0      First\n",
      "1     2          Honda     Civic  2020        2.0L    petrol       25000.0      18000.0      First\n",
      "2     3           Ford     Focus  2017        1.5L    Diesel       60000.0      12500.0     Second\n",
      "5     6  Mercedes-Benz   C Class  2018        2.0L    Petrol       40000.0      28000.0      First\n",
      "6     7          Tesla   Model 3  2021    Electric  electric       15000.0      35000.0      First\n",
      "7     8            Kia    Optima  2017        2.4L    Petrol       50000.0      13000.0     Second\n",
      "8     9           Audi        A4  2019        2.0L    Diesel       30000.0      27000.0     Second\n",
      "9    10      Chevrolet    Malibu  2016        1.5L    Petrol        -500.0      11000.0      third\n",
      "10   11          Honda     Civic  2020        2.0L    Petrol       25000.0      18000.0      First\n",
      "11   12           Ford     Focus  2017        1.5L    Diesel       60000.0      12500.0     Second\n",
      "14   15            BMW  3 series  2016        2.0L    Diesel       70000.0      20000.0      third\n",
      "----------------------------------------\n",
      "15 11\n"
     ]
    }
   ],
   "source": [
    "print(df.to_string())\n",
    "print(\"-\"*40)\n",
    "new_df = df.dropna()\n",
    "print(new_df.to_string())\n",
    "print(\"-\"*40)\n",
    "print(len(df), len(new_df))\n"
   ]
  },
  {
   "cell_type": "markdown",
   "id": "c1f4cab3",
   "metadata": {},
   "source": [
    "Note: Now, the dropna(inplace = True) will NOT return a new DataFrame, but it will remove all rows containing NULL values from the original DataFrame."
   ]
  },
  {
   "cell_type": "markdown",
   "id": "dd44e203",
   "metadata": {},
   "source": [
    "#### 6.2 Replace Empty Values\n",
    "- Another way of dealing with empty cells is to insert a new value instead.\n",
    "\n",
    "- This way we do not have to delete entire rows just because of some empty cells.\n",
    "\n",
    "- The **fillna()** method allows us to replace empty cells with a value\n",
    "\n",
    "##### 6.2.1 Replacing by a Static value"
   ]
  },
  {
   "cell_type": "code",
   "execution_count": 254,
   "id": "59d9d1a3",
   "metadata": {},
   "outputs": [
    {
     "name": "stdout",
     "output_type": "stream",
     "text": [
      "    Car          Brand     Model  Year Engine Size Fuel Type  Mileage (km)  Price (USD) Owner Type\n",
      "0     1         Toyota   Corolla  2018        1.8L    Petrol       42000.0      14500.0      First\n",
      "1     2          Honda     Civic  2020        2.0L    petrol       25000.0      18000.0      First\n",
      "2     3           Ford     Focus  2017        1.5L    Diesel       60000.0      12500.0     Second\n",
      "3     4        Hyundai   Elantra  2019        1.51    Petrol       35000.0      16000.0      first\n",
      "4     5            BMW  3 Series  2016        2.0L    diesel       70000.0      16000.0      Third\n",
      "5     6  Mercedes-Benz   C Class  2018        2.0L    Petrol       40000.0      28000.0      First\n",
      "6     7          Tesla   Model 3  2021    Electric  electric       15000.0      35000.0      First\n",
      "7     8            Kia    Optima  2017        2.4L    Petrol       50000.0      13000.0     Second\n",
      "8     9           Audi        A4  2019        2.0L    Diesel       30000.0      27000.0     Second\n",
      "9    10      Chevrolet    Malibu  2016        1.5L    Petrol        -500.0      11000.0      third\n",
      "10   11          Honda     Civic  2020        2.0L    Petrol       25000.0      18000.0      First\n",
      "11   12           Ford     Focus  2017        1.5L    Diesel       60000.0      12500.0     Second\n",
      "12   13          Honda    Accord  2018        2.4L    Petrol       45000.0      19000.0      First\n",
      "13   14         Toyota     Camry  2015        2.5L    Petrol       70000.0      14000.0     Second\n",
      "14   15            BMW  3 series  2016        2.0L    Diesel       70000.0      20000.0      third\n"
     ]
    },
    {
     "name": "stderr",
     "output_type": "stream",
     "text": [
      "C:\\Users\\User 1\\AppData\\Local\\Temp\\ipykernel_2144\\3393889597.py:7: FutureWarning: A value is trying to be set on a copy of a DataFrame or Series through chained assignment using an inplace method.\n",
      "The behavior will change in pandas 3.0. This inplace method will never work because the intermediate object on which we are setting values always behaves as a copy.\n",
      "\n",
      "For example, when doing 'df[col].method(value, inplace=True)', try using 'df.method({col: value}, inplace=True)' or df[col] = df[col].method(value) instead, to perform the operation inplace on the original object.\n",
      "\n",
      "\n",
      "  df['Engine Size'].fillna('1.51', inplace=True)\n"
     ]
    }
   ],
   "source": [
    "# df.fillna({'Engine Size' : '1.5l'}, inplace=True)\n",
    "df.fillna({'Price (USD)' : 16000.0}, inplace=True)\n",
    "df.fillna({'Brand' : 'Honda'}, inplace=True)\n",
    "df.fillna({'Mileage (km)' : 70000.0 }, inplace=True)\n",
    "\n",
    "#2nd method but gives the warning because indirectly it uses uper one \n",
    "df['Engine Size'].fillna('1.51', inplace=True)\n",
    "print(df.to_string())"
   ]
  },
  {
   "cell_type": "markdown",
   "id": "b10c1d19",
   "metadata": {},
   "source": [
    "##### 6.2.2 Replace Using Mean, Median, or Mode\n",
    "\n",
    "- A common way to replace empty cells, is to calculate the mean, median or mode value of the column.\n",
    "\n",
    "- Pandas uses the mean() median() and mode() methods to calculate the respective values for a specified column"
   ]
  },
  {
   "cell_type": "markdown",
   "id": "25edd546",
   "metadata": {},
   "source": [
    "Mean = the average value (the sum of all values divided by number of values).\n",
    "\n",
    "Median = the value in the middle, after you have sorted all values ascending.\n",
    "\n",
    "Mode = the value that appears most frequently."
   ]
  },
  {
   "cell_type": "code",
   "execution_count": 255,
   "id": "c5783300",
   "metadata": {},
   "outputs": [
    {
     "name": "stdout",
     "output_type": "stream",
     "text": [
      "0    Honda\n",
      "Name: Brand, dtype: object\n",
      "0    Honda\n",
      "Name: Brand, dtype: object\n",
      "----------------------------------------\n",
      "Honda\n",
      "Honda\n"
     ]
    }
   ],
   "source": [
    "print(df[\"Brand\"].mode()) #1st\n",
    "print(df.Brand.mode()) #2nd\n",
    "\n",
    "print(\"-\"*40)\n",
    "\n",
    "print(df[\"Brand\"].mode()[0]) #1st\n",
    "print(df.Brand.mode()[0]) #2nd\n",
    "\n",
    "#we uses mode()[0] 0 for the first value (exa - honda)"
   ]
  },
  {
   "cell_type": "code",
   "execution_count": 256,
   "id": "be85472c",
   "metadata": {},
   "outputs": [
    {
     "name": "stdout",
     "output_type": "stream",
     "text": [
      "    Car          Brand     Model  Year Engine Size Fuel Type  Mileage (km)  Price (USD) Owner Type\n",
      "0     1         Toyota   Corolla  2018        1.8L    Petrol       42000.0      14500.0      First\n",
      "1     2          Honda     Civic  2020        2.0L    petrol       25000.0      18000.0      First\n",
      "2     3           Ford     Focus  2017        1.5L    Diesel       60000.0      12500.0     Second\n",
      "3     4        Hyundai   Elantra  2019        1.51    Petrol       35000.0      16000.0      first\n",
      "4     5            BMW  3 Series  2016        2.0L    diesel       70000.0      16000.0      Third\n",
      "5     6  Mercedes-Benz   C Class  2018        2.0L    Petrol       40000.0      28000.0      First\n",
      "6     7          Tesla   Model 3  2021    Electric  electric       15000.0      35000.0      First\n",
      "7     8            Kia    Optima  2017        2.4L    Petrol       50000.0      13000.0     Second\n",
      "8     9           Audi        A4  2019        2.0L    Diesel       30000.0      27000.0     Second\n",
      "9    10      Chevrolet    Malibu  2016        1.5L    Petrol        -500.0      11000.0      third\n",
      "10   11          Honda     Civic  2020        2.0L    Petrol       25000.0      18000.0      First\n",
      "11   12           Ford     Focus  2017        1.5L    Diesel       60000.0      12500.0     Second\n",
      "12   13          Honda    Accord  2018        2.4L    Petrol       45000.0      19000.0      First\n",
      "13   14         Toyota     Camry  2015        2.5L    Petrol       70000.0      14000.0     Second\n",
      "14   15            BMW  3 series  2016        2.0L    Diesel       70000.0      20000.0      third\n"
     ]
    }
   ],
   "source": [
    "x = df[\"Brand\"].mode()[0]\n",
    "y = df[\"Engine Size\"].mode()[0]\n",
    "z = df[\"Mileage (km)\"].mean()\n",
    "w = df[\"Price (USD)\"].median()\n",
    "\n",
    "df.fillna({\"Brand\": x}, inplace=True)\n",
    "df.fillna({\"Engine Size\": y}, inplace=True)\n",
    "df.fillna({\"Mileage (km)\": z}, inplace=True)\n",
    "df.fillna({\"Price (USD)\": w}, inplace=True)\n",
    "# df[\"Brand\"].fillna(x, inplace = True)\n",
    "\n",
    "\n",
    "print(df.to_string())"
   ]
  },
  {
   "cell_type": "markdown",
   "id": "12cb2c1d",
   "metadata": {},
   "source": [
    "### 7. Pandas - Cleaning Data of Wrong Data\n",
    "\n",
    "- Cells with data of wrong format can make it difficult, or even impossible, to analyze data.\n",
    "\n",
    "- To fix it, you have two options: remove the rows, or convert all cells in the columns into the same format."
   ]
  },
  {
   "cell_type": "code",
   "execution_count": 257,
   "id": "eaef477a",
   "metadata": {},
   "outputs": [],
   "source": [
    "df.rename(columns={'Engine Size': 'Engine_Size',\n",
    "                   'Fuel Type': 'Fuel_Type',\n",
    "                   'Mileage (km)': 'Mileage_(km)',\n",
    "                   'Price (USD)': 'Price_(USD)',\n",
    "                   'Owner Type': 'Owner_type'}, inplace=True)"
   ]
  },
  {
   "cell_type": "code",
   "execution_count": 258,
   "id": "bbdea1ce",
   "metadata": {},
   "outputs": [
    {
     "name": "stdout",
     "output_type": "stream",
     "text": [
      "    Car          Brand     Model  Year Engine_Size Fuel_Type  Mileage_(km)  Price_(USD) Owner_type\n",
      "0     1         Toyota   Corolla  2018        1.8L    Petrol       42000.0      14500.0      First\n",
      "1     2          Honda     Civic  2020        2.0L    petrol       25000.0      18000.0      First\n",
      "2     3           Ford     Focus  2017        1.5L    Diesel       60000.0      12500.0     Second\n",
      "3     4        Hyundai   Elantra  2019        1.51    Petrol       35000.0      16000.0      first\n",
      "4     5            BMW  3 Series  2016        2.0L    diesel       70000.0      16000.0      Third\n",
      "5     6  Mercedes-Benz   C Class  2018        2.0L    Petrol       40000.0      28000.0      First\n",
      "6     7          Tesla   Model 3  2021    Electric  electric       15000.0      35000.0      First\n",
      "7     8            Kia    Optima  2017        2.4L    Petrol       50000.0      13000.0     Second\n",
      "8     9           Audi        A4  2019        2.0L    Diesel       30000.0      27000.0     Second\n",
      "9    10      Chevrolet    Malibu  2016        1.5L    Petrol        -500.0      11000.0      third\n",
      "10   11          Honda     Civic  2020        2.0L    Petrol       25000.0      18000.0      First\n",
      "11   12           Ford     Focus  2017        1.5L    Diesel       60000.0      12500.0     Second\n",
      "12   13          Honda    Accord  2018        2.4L    Petrol       45000.0      19000.0      First\n",
      "13   14         Toyota     Camry  2015        2.5L    Petrol       70000.0      14000.0     Second\n",
      "14   15            BMW  3 series  2016        2.0L    Diesel       70000.0      20000.0      third\n"
     ]
    }
   ],
   "source": [
    "print(df.to_string())"
   ]
  },
  {
   "cell_type": "code",
   "execution_count": null,
   "id": "c5bf0490",
   "metadata": {},
   "outputs": [
    {
     "data": {
      "text/plain": [
       "Car                   1\n",
       "Brand            Toyota\n",
       "Model           Corolla\n",
       "Year               2018\n",
       "Engine_Size        1.8L\n",
       "Fuel_Type        Petrol\n",
       "Mileage_(km)    42000.0\n",
       "Price_(USD)     14500.0\n",
       "Owner_type        First\n",
       "Name: 0, dtype: object"
      ]
     },
     "execution_count": 259,
     "metadata": {},
     "output_type": "execute_result"
    }
   ],
   "source": [
    "df.loc[0] #uses label"
   ]
  },
  {
   "cell_type": "code",
   "execution_count": null,
   "id": "cfaedcc7",
   "metadata": {},
   "outputs": [
    {
     "data": {
      "text/plain": [
       "Car                   1\n",
       "Brand            Toyota\n",
       "Model           Corolla\n",
       "Year               2018\n",
       "Engine_Size        1.8L\n",
       "Fuel_Type        Petrol\n",
       "Mileage_(km)    42000.0\n",
       "Price_(USD)     14500.0\n",
       "Owner_type        First\n",
       "Name: 0, dtype: object"
      ]
     },
     "execution_count": 262,
     "metadata": {},
     "output_type": "execute_result"
    }
   ],
   "source": [
    "df.iloc[0] #uses indexs"
   ]
  },
  {
   "cell_type": "code",
   "execution_count": null,
   "id": "c41a8585",
   "metadata": {},
   "outputs": [],
   "source": []
  }
 ],
 "metadata": {
  "kernelspec": {
   "display_name": "Python 3",
   "language": "python",
   "name": "python3"
  },
  "language_info": {
   "codemirror_mode": {
    "name": "ipython",
    "version": 3
   },
   "file_extension": ".py",
   "mimetype": "text/x-python",
   "name": "python",
   "nbconvert_exporter": "python",
   "pygments_lexer": "ipython3",
   "version": "3.13.4"
  }
 },
 "nbformat": 4,
 "nbformat_minor": 5
}
