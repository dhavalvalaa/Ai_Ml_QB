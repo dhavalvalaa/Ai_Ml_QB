{
 "cells": [
  {
   "cell_type": "markdown",
   "id": "5b96af57",
   "metadata": {},
   "source": [
    "# Pandas Practice\n",
    "___\n",
    "\n",
    "### 1. Importing Pandas\n",
    "- Pandas has a reference to both \"Panel Data\" and \"Pyhton Data Analysis\"\n",
    "\n",
    "- Import Pandas in the applications by adding the import keyword\n",
    "\n",
    "- Pandas is usually imported under the pd alias."
   ]
  },
  {
   "cell_type": "code",
   "execution_count": 2,
   "id": "f017610d",
   "metadata": {},
   "outputs": [
    {
     "name": "stdout",
     "output_type": "stream",
     "text": [
      "    Company      Car\n",
      "0      Ford  Mustang\n",
      "1  Mahindra     Thar\n",
      "2    Maruti      800\n",
      "\n",
      "0    Mustang\n",
      "1       Thar\n",
      "2        800\n",
      "Name: Car, dtype: object\n"
     ]
    }
   ],
   "source": [
    "import pandas as pd\n",
    "\n",
    "data = {\n",
    "    'Company' : ['Ford', 'Mahindra', 'Maruti'],\n",
    "    'Car' : ['Mustang', 'Thar', '800']\n",
    "}\n",
    "\n",
    "myvar = pd.DataFrame(data)\n",
    "\n",
    "print(myvar)\n",
    "print()\n",
    "print(myvar['Car'])  # this is a Series"
   ]
  },
  {
   "cell_type": "markdown",
   "id": "d6635d66",
   "metadata": {},
   "source": [
    "- Checking Pandas Version"
   ]
  },
  {
   "cell_type": "code",
   "execution_count": 3,
   "id": "fc770e8f",
   "metadata": {},
   "outputs": [
    {
     "name": "stdout",
     "output_type": "stream",
     "text": [
      "2.3.0\n"
     ]
    }
   ],
   "source": [
    "print(pd.__version__)"
   ]
  },
  {
   "cell_type": "markdown",
   "id": "e2f95d2e",
   "metadata": {},
   "source": [
    "### 2. Pandas Series\n",
    "- A Pandas Series is like a column in a table.\n",
    "\n",
    "- It is a one-dimensional array holding data of any type."
   ]
  },
  {
   "cell_type": "code",
   "execution_count": 4,
   "id": "7b0756b2",
   "metadata": {},
   "outputs": [
    {
     "name": "stdout",
     "output_type": "stream",
     "text": [
      "0    1\n",
      "1    3\n",
      "2    5\n",
      "3    7\n",
      "4    9\n",
      "dtype: int64\n"
     ]
    }
   ],
   "source": [
    "a = list(range(1,10,2))\n",
    "\n",
    "myvar = pd.Series(a)\n",
    "print(myvar)"
   ]
  },
  {
   "cell_type": "markdown",
   "id": "970bea86",
   "metadata": {},
   "source": [
    "#### 2.1 Labels\n",
    "- If nothing else is specified, the values are labeled with their index number. First value has index 0, second value has index 1 etc.\n",
    "\n",
    "- This label can be used to access a specified value"
   ]
  },
  {
   "cell_type": "code",
   "execution_count": 5,
   "id": "6dbee570",
   "metadata": {},
   "outputs": [
    {
     "name": "stdout",
     "output_type": "stream",
     "text": [
      "1\n"
     ]
    }
   ],
   "source": [
    "a = list(range(1,10,2))\n",
    "\n",
    "myvar = pd.Series(a)\n",
    "# print(myvar)\n",
    "print(myvar[0])"
   ]
  },
  {
   "cell_type": "markdown",
   "id": "5caa38a4",
   "metadata": {},
   "source": [
    "##### 2.1.1 Create Labels\n",
    "- With the index argument, we can name our own labels."
   ]
  },
  {
   "cell_type": "code",
   "execution_count": 6,
   "id": "73670156",
   "metadata": {},
   "outputs": [
    {
     "name": "stdout",
     "output_type": "stream",
     "text": [
      "i         17\n",
      "me         7\n",
      "myself    72\n",
      "dtype: int64\n"
     ]
    }
   ],
   "source": [
    "a = [17, 7, 72]\n",
    "myvar = pd.Series(a, index=['i', 'me', 'myself'])\n",
    "print(myvar)"
   ]
  },
  {
   "cell_type": "markdown",
   "id": "f751785e",
   "metadata": {},
   "source": [
    "- When we have created labels, we can access an item by referring to the label."
   ]
  },
  {
   "cell_type": "code",
   "execution_count": 7,
   "id": "2d91c008",
   "metadata": {},
   "outputs": [
    {
     "name": "stdout",
     "output_type": "stream",
     "text": [
      "7\n"
     ]
    }
   ],
   "source": [
    "a = [17, 7, 72]\n",
    "myvar = pd.Series(a, index=['i', 'me', 'myself'])\n",
    "# print(myvar)\n",
    "print(myvar['me'])"
   ]
  },
  {
   "cell_type": "markdown",
   "id": "385dbed8",
   "metadata": {},
   "source": [
    "##### 2.2 Key/Value Objects as Series\n",
    "- Can also use a key/value object, like a dictionary, when creating a Series.\n",
    "\n",
    "-  The keys of the dictionary become the labels."
   ]
  },
  {
   "cell_type": "code",
   "execution_count": 8,
   "id": "124b83bc",
   "metadata": {},
   "outputs": [
    {
     "name": "stdout",
     "output_type": "stream",
     "text": [
      "day1    6750\n",
      "day2    5690\n",
      "day3    7000\n",
      "dtype: int64\n"
     ]
    }
   ],
   "source": [
    "steps = {'day1' : 6750, 'day2' : 5690, 'day3' : 7000}\n",
    "myvar = pd.Series(steps)\n",
    "print(myvar)"
   ]
  },
  {
   "cell_type": "markdown",
   "id": "7e2e9cf5",
   "metadata": {},
   "source": [
    "- To select only some of the items in the dictionary, use the index argument and specify only the items we want to include in the Series."
   ]
  },
  {
   "cell_type": "code",
   "execution_count": 9,
   "id": "8cb1e148",
   "metadata": {},
   "outputs": [
    {
     "name": "stdout",
     "output_type": "stream",
     "text": [
      "day3    7000\n",
      "day2    5690\n",
      "dtype: int64\n"
     ]
    }
   ],
   "source": [
    "steps = {'day1' : 6750, 'day2' : 5690, 'day3' : 7000}\n",
    "myvar = pd.Series(steps, index=['day3', 'day2'])\n",
    "print(myvar)"
   ]
  },
  {
   "cell_type": "markdown",
   "id": "7cdc9f9d",
   "metadata": {},
   "source": [
    "### 3. Data Frames (DataFrame)\n",
    "- Data sets in Pandas are usually multi-dimensional tables, called DataFrames.\n",
    "\n",
    "- Series is like a column, a DataFrame is the whole table.\n",
    "\n",
    "- A Pandas DataFrame is a 2 dimensional data structure, like a 2 dimensional array, or a table with rows and columns."
   ]
  },
  {
   "cell_type": "code",
   "execution_count": 10,
   "id": "d338eae4",
   "metadata": {},
   "outputs": [
    {
     "name": "stdout",
     "output_type": "stream",
     "text": [
      "    Company      Car\n",
      "0      Ford  Mustang\n",
      "1  Mahindra     Thar\n",
      "2    Maruti      800\n"
     ]
    }
   ],
   "source": [
    "data = {\n",
    "    'Company' : ['Ford', 'Mahindra', 'Maruti'],\n",
    "    'Car' : ['Mustang', 'Thar', '800']\n",
    "}\n",
    "\n",
    "df = pd.DataFrame(data)\n",
    "print(df)"
   ]
  },
  {
   "cell_type": "markdown",
   "id": "845c907c",
   "metadata": {},
   "source": [
    "#### 3.1 Locate Row\n",
    "- Pandas use the loc attribute to return one or more specified row(s)"
   ]
  },
  {
   "cell_type": "code",
   "execution_count": 11,
   "id": "f4ba7258",
   "metadata": {},
   "outputs": [
    {
     "name": "stdout",
     "output_type": "stream",
     "text": [
      "Company    Mahindra\n",
      "Car            Thar\n",
      "Name: 1, dtype: object\n"
     ]
    }
   ],
   "source": [
    "data = {\n",
    "    'Company' : ['Ford', 'Mahindra', 'Maruti'],\n",
    "    'Car' : ['Mustang', 'Thar', '800']\n",
    "}\n",
    "\n",
    "df = pd.DataFrame(data)\n",
    "print(df.loc[1]) # returns a Pandas Series.\n",
    "# print()\n",
    "# # use of list indexes\n",
    "# print(df.loc[[0, 1]])"
   ]
  },
  {
   "cell_type": "markdown",
   "id": "e4966a8b",
   "metadata": {},
   "source": [
    "#### 3.2 Named Indexes\n",
    "- With the index argument, we can name our own indexes."
   ]
  },
  {
   "cell_type": "code",
   "execution_count": 12,
   "id": "47a55a57",
   "metadata": {},
   "outputs": [
    {
     "name": "stdout",
     "output_type": "stream",
     "text": [
      "       Company      Car\n",
      "car1      Ford  Mustang\n",
      "car2  Mahindra     Thar\n",
      "car3    Maruti      800\n"
     ]
    }
   ],
   "source": [
    "data = {\n",
    "    'Company' : ['Ford', 'Mahindra', 'Maruti'],\n",
    "    'Car' : ['Mustang', 'Thar', '800']\n",
    "}\n",
    "\n",
    "df = pd.DataFrame(data, index = [\"car1\", \"car2\", \"car3\"])\n",
    "print(df)"
   ]
  },
  {
   "cell_type": "markdown",
   "id": "f00c99ae",
   "metadata": {},
   "source": [
    "##### 3.2.1 Locate Named Indexes\n",
    "- Use the named index in the loc attribute to return the specified row(s)."
   ]
  },
  {
   "cell_type": "code",
   "execution_count": 13,
   "id": "a772eca2",
   "metadata": {},
   "outputs": [
    {
     "name": "stdout",
     "output_type": "stream",
     "text": [
      "Company    Mahindra\n",
      "Car            Thar\n",
      "Name: car2, dtype: object\n"
     ]
    }
   ],
   "source": [
    "data = {\n",
    "    'Company' : ['Ford', 'Mahindra', 'Maruti'],\n",
    "    'Car' : ['Mustang', 'Thar', '800']\n",
    "}\n",
    "\n",
    "df = pd.DataFrame(data, index = [\"car1\", \"car2\", \"car3\"])\n",
    "print(df.loc['car2'])"
   ]
  },
  {
   "cell_type": "markdown",
   "id": "5dcd8c9d",
   "metadata": {},
   "source": [
    "#### 3.3 Load Files Into a DataFrame\n",
    "- If data sets are stored in a file, Pandas can load them into a DataFrame."
   ]
  },
  {
   "cell_type": "code",
   "execution_count": 14,
   "id": "1d2e8a04",
   "metadata": {},
   "outputs": [
    {
     "name": "stdout",
     "output_type": "stream",
     "text": [
      "    Car          Brand     Model  Year Engine Size Fuel Type  Mileage (km)  \\\n",
      "0     1         Toyota   Corolla  2018        1.8L    Petrol       42000.0   \n",
      "1     2          Honda     Civic  2020        2.0L    petrol       25000.0   \n",
      "2     3           Ford     Focus  2017        1.5L    Diesel       60000.0   \n",
      "3     4        Hyundai   Elantra  2019         NaN    Petrol       35000.0   \n",
      "4     5            BMW  3 Series  2016        2.0L    diesel       70000.0   \n",
      "5     6  Mercedes-Benz   C Class  2018        2.0L    Petrol       40000.0   \n",
      "6     7          Tesla   Model 3  2021    Electric  electric       15000.0   \n",
      "7     8            Kia    Optima  2017        2.4L    Petrol       50000.0   \n",
      "8     9           Audi        A4  2019        2.0L    Diesel       30000.0   \n",
      "9    10      Chevrolet    Malibu  2016        1.5L    Petrol        -500.0   \n",
      "10   11          Honda     Civic  2020        2.0L    Petrol       25000.0   \n",
      "11   12           Ford     Focus  2017        1.5L    Diesel       60000.0   \n",
      "12   13            NaN    Accord  2018        2.4L    Petrol       45000.0   \n",
      "13   14         Toyota     Camry  2015        2.5L    Petrol           NaN   \n",
      "14   15            BMW  3 series  2016        2.0L    Diesel       70000.0   \n",
      "\n",
      "    Price (USD) Owner Type  \n",
      "0       14500.0      First  \n",
      "1       18000.0      First  \n",
      "2       12500.0     Second  \n",
      "3       16000.0      first  \n",
      "4           NaN      Third  \n",
      "5       28000.0      First  \n",
      "6       35000.0      First  \n",
      "7       13000.0     Second  \n",
      "8       27000.0     Second  \n",
      "9       11000.0      third  \n",
      "10      18000.0      First  \n",
      "11      12500.0     Second  \n",
      "12      19000.0      First  \n",
      "13      14000.0     Second  \n",
      "14      20000.0      third  \n"
     ]
    }
   ],
   "source": [
    "df = pd.read_csv('cars_advanced.csv')\n",
    "print(df)"
   ]
  },
  {
   "cell_type": "markdown",
   "id": "4d5db5e6",
   "metadata": {},
   "source": [
    "#### 4. Pandas Read CSV\n",
    "- A simple way to store big data sets is to use CSV files (comma separated files).\n",
    "\n",
    "- CSV files contains plain text and is a well know format that can be read by everyone including Pandas."
   ]
  },
  {
   "cell_type": "code",
   "execution_count": 15,
   "id": "0f7a7b0d",
   "metadata": {},
   "outputs": [
    {
     "name": "stdout",
     "output_type": "stream",
     "text": [
      "    Car          Brand     Model  Year Engine Size Fuel Type  Mileage (km)  Price (USD) Owner Type\n",
      "0     1         Toyota   Corolla  2018        1.8L    Petrol       42000.0      14500.0      First\n",
      "1     2          Honda     Civic  2020        2.0L    petrol       25000.0      18000.0      First\n",
      "2     3           Ford     Focus  2017        1.5L    Diesel       60000.0      12500.0     Second\n",
      "3     4        Hyundai   Elantra  2019         NaN    Petrol       35000.0      16000.0      first\n",
      "4     5            BMW  3 Series  2016        2.0L    diesel       70000.0          NaN      Third\n",
      "5     6  Mercedes-Benz   C Class  2018        2.0L    Petrol       40000.0      28000.0      First\n",
      "6     7          Tesla   Model 3  2021    Electric  electric       15000.0      35000.0      First\n",
      "7     8            Kia    Optima  2017        2.4L    Petrol       50000.0      13000.0     Second\n",
      "8     9           Audi        A4  2019        2.0L    Diesel       30000.0      27000.0     Second\n",
      "9    10      Chevrolet    Malibu  2016        1.5L    Petrol        -500.0      11000.0      third\n",
      "10   11          Honda     Civic  2020        2.0L    Petrol       25000.0      18000.0      First\n",
      "11   12           Ford     Focus  2017        1.5L    Diesel       60000.0      12500.0     Second\n",
      "12   13            NaN    Accord  2018        2.4L    Petrol       45000.0      19000.0      First\n",
      "13   14         Toyota     Camry  2015        2.5L    Petrol           NaN      14000.0     Second\n",
      "14   15            BMW  3 series  2016        2.0L    Diesel       70000.0      20000.0      third\n"
     ]
    }
   ],
   "source": [
    "df = pd.read_csv('cars_advanced.csv')\n",
    "print(df.to_string())"
   ]
  },
  {
   "cell_type": "markdown",
   "id": "b759a3c0",
   "metadata": {},
   "source": [
    "#### 4.1 max_rows\n",
    "- The number of rows returned is defined in Pandas option settings.\n",
    "\n",
    "- We can check our system's maximum rows with the **pd.options.display.max_rows** statement."
   ]
  },
  {
   "cell_type": "code",
   "execution_count": 16,
   "id": "eda221c4",
   "metadata": {},
   "outputs": [
    {
     "name": "stdout",
     "output_type": "stream",
     "text": [
      "10\n"
     ]
    },
    {
     "data": {
      "text/html": [
       "<div>\n",
       "<style scoped>\n",
       "    .dataframe tbody tr th:only-of-type {\n",
       "        vertical-align: middle;\n",
       "    }\n",
       "\n",
       "    .dataframe tbody tr th {\n",
       "        vertical-align: top;\n",
       "    }\n",
       "\n",
       "    .dataframe thead th {\n",
       "        text-align: right;\n",
       "    }\n",
       "</style>\n",
       "<table border=\"1\" class=\"dataframe\">\n",
       "  <thead>\n",
       "    <tr style=\"text-align: right;\">\n",
       "      <th></th>\n",
       "      <th>Car</th>\n",
       "      <th>Brand</th>\n",
       "      <th>Model</th>\n",
       "      <th>Year</th>\n",
       "      <th>Engine Size</th>\n",
       "      <th>Fuel Type</th>\n",
       "      <th>Mileage (km)</th>\n",
       "      <th>Price (USD)</th>\n",
       "      <th>Owner Type</th>\n",
       "    </tr>\n",
       "  </thead>\n",
       "  <tbody>\n",
       "    <tr>\n",
       "      <th>0</th>\n",
       "      <td>1</td>\n",
       "      <td>Toyota</td>\n",
       "      <td>Corolla</td>\n",
       "      <td>2018</td>\n",
       "      <td>1.8L</td>\n",
       "      <td>Petrol</td>\n",
       "      <td>42000.0</td>\n",
       "      <td>14500.0</td>\n",
       "      <td>First</td>\n",
       "    </tr>\n",
       "    <tr>\n",
       "      <th>1</th>\n",
       "      <td>2</td>\n",
       "      <td>Honda</td>\n",
       "      <td>Civic</td>\n",
       "      <td>2020</td>\n",
       "      <td>2.0L</td>\n",
       "      <td>petrol</td>\n",
       "      <td>25000.0</td>\n",
       "      <td>18000.0</td>\n",
       "      <td>First</td>\n",
       "    </tr>\n",
       "    <tr>\n",
       "      <th>2</th>\n",
       "      <td>3</td>\n",
       "      <td>Ford</td>\n",
       "      <td>Focus</td>\n",
       "      <td>2017</td>\n",
       "      <td>1.5L</td>\n",
       "      <td>Diesel</td>\n",
       "      <td>60000.0</td>\n",
       "      <td>12500.0</td>\n",
       "      <td>Second</td>\n",
       "    </tr>\n",
       "    <tr>\n",
       "      <th>3</th>\n",
       "      <td>4</td>\n",
       "      <td>Hyundai</td>\n",
       "      <td>Elantra</td>\n",
       "      <td>2019</td>\n",
       "      <td>NaN</td>\n",
       "      <td>Petrol</td>\n",
       "      <td>35000.0</td>\n",
       "      <td>16000.0</td>\n",
       "      <td>first</td>\n",
       "    </tr>\n",
       "    <tr>\n",
       "      <th>4</th>\n",
       "      <td>5</td>\n",
       "      <td>BMW</td>\n",
       "      <td>3 Series</td>\n",
       "      <td>2016</td>\n",
       "      <td>2.0L</td>\n",
       "      <td>diesel</td>\n",
       "      <td>70000.0</td>\n",
       "      <td>NaN</td>\n",
       "      <td>Third</td>\n",
       "    </tr>\n",
       "    <tr>\n",
       "      <th>...</th>\n",
       "      <td>...</td>\n",
       "      <td>...</td>\n",
       "      <td>...</td>\n",
       "      <td>...</td>\n",
       "      <td>...</td>\n",
       "      <td>...</td>\n",
       "      <td>...</td>\n",
       "      <td>...</td>\n",
       "      <td>...</td>\n",
       "    </tr>\n",
       "    <tr>\n",
       "      <th>10</th>\n",
       "      <td>11</td>\n",
       "      <td>Honda</td>\n",
       "      <td>Civic</td>\n",
       "      <td>2020</td>\n",
       "      <td>2.0L</td>\n",
       "      <td>Petrol</td>\n",
       "      <td>25000.0</td>\n",
       "      <td>18000.0</td>\n",
       "      <td>First</td>\n",
       "    </tr>\n",
       "    <tr>\n",
       "      <th>11</th>\n",
       "      <td>12</td>\n",
       "      <td>Ford</td>\n",
       "      <td>Focus</td>\n",
       "      <td>2017</td>\n",
       "      <td>1.5L</td>\n",
       "      <td>Diesel</td>\n",
       "      <td>60000.0</td>\n",
       "      <td>12500.0</td>\n",
       "      <td>Second</td>\n",
       "    </tr>\n",
       "    <tr>\n",
       "      <th>12</th>\n",
       "      <td>13</td>\n",
       "      <td>NaN</td>\n",
       "      <td>Accord</td>\n",
       "      <td>2018</td>\n",
       "      <td>2.4L</td>\n",
       "      <td>Petrol</td>\n",
       "      <td>45000.0</td>\n",
       "      <td>19000.0</td>\n",
       "      <td>First</td>\n",
       "    </tr>\n",
       "    <tr>\n",
       "      <th>13</th>\n",
       "      <td>14</td>\n",
       "      <td>Toyota</td>\n",
       "      <td>Camry</td>\n",
       "      <td>2015</td>\n",
       "      <td>2.5L</td>\n",
       "      <td>Petrol</td>\n",
       "      <td>NaN</td>\n",
       "      <td>14000.0</td>\n",
       "      <td>Second</td>\n",
       "    </tr>\n",
       "    <tr>\n",
       "      <th>14</th>\n",
       "      <td>15</td>\n",
       "      <td>BMW</td>\n",
       "      <td>3 series</td>\n",
       "      <td>2016</td>\n",
       "      <td>2.0L</td>\n",
       "      <td>Diesel</td>\n",
       "      <td>70000.0</td>\n",
       "      <td>20000.0</td>\n",
       "      <td>third</td>\n",
       "    </tr>\n",
       "  </tbody>\n",
       "</table>\n",
       "<p>15 rows × 9 columns</p>\n",
       "</div>"
      ],
      "text/plain": [
       "    Car    Brand     Model  Year Engine Size Fuel Type  Mileage (km)  \\\n",
       "0     1   Toyota   Corolla  2018        1.8L    Petrol       42000.0   \n",
       "1     2    Honda     Civic  2020        2.0L    petrol       25000.0   \n",
       "2     3     Ford     Focus  2017        1.5L    Diesel       60000.0   \n",
       "3     4  Hyundai   Elantra  2019         NaN    Petrol       35000.0   \n",
       "4     5      BMW  3 Series  2016        2.0L    diesel       70000.0   \n",
       "..  ...      ...       ...   ...         ...       ...           ...   \n",
       "10   11    Honda     Civic  2020        2.0L    Petrol       25000.0   \n",
       "11   12     Ford     Focus  2017        1.5L    Diesel       60000.0   \n",
       "12   13      NaN    Accord  2018        2.4L    Petrol       45000.0   \n",
       "13   14   Toyota     Camry  2015        2.5L    Petrol           NaN   \n",
       "14   15      BMW  3 series  2016        2.0L    Diesel       70000.0   \n",
       "\n",
       "    Price (USD) Owner Type  \n",
       "0       14500.0      First  \n",
       "1       18000.0      First  \n",
       "2       12500.0     Second  \n",
       "3       16000.0      first  \n",
       "4           NaN      Third  \n",
       "..          ...        ...  \n",
       "10      18000.0      First  \n",
       "11      12500.0     Second  \n",
       "12      19000.0      First  \n",
       "13      14000.0     Second  \n",
       "14      20000.0      third  \n",
       "\n",
       "[15 rows x 9 columns]"
      ]
     },
     "metadata": {},
     "output_type": "display_data"
    }
   ],
   "source": [
    "# pd.options.display.max_rows = 8 # uses pretty print thats why divides in even number of rows\n",
    "pd.set_option(\"display.max_rows\", 10) \n",
    "print(pd.options.display.max_rows)\n",
    "\n",
    "df = pd.read_csv('cars_advanced.csv') # df has 15 rows\n",
    "display(df)"
   ]
  },
  {
   "cell_type": "code",
   "execution_count": null,
   "id": "4b91ddf2",
   "metadata": {},
   "outputs": [],
   "source": []
  },
  {
   "cell_type": "markdown",
   "id": "4adb30cd",
   "metadata": {},
   "source": [
    "### 5 Pandas - Analyzing DataFrames\n",
    "\n",
    "#### 5.1 Viewing the Data\n",
    "- One of the most used method for getting a quick overview of the DataFrame, is the **head()** method.\n",
    "\n",
    "- The **head()** method returns the headers and a specified number of rows, starting from the top.\n"
   ]
  },
  {
   "cell_type": "code",
   "execution_count": 17,
   "id": "a9b393d7",
   "metadata": {},
   "outputs": [
    {
     "name": "stdout",
     "output_type": "stream",
     "text": [
      "   Car          Brand     Model  Year Engine Size Fuel Type  Mileage (km)  \\\n",
      "0    1         Toyota   Corolla  2018        1.8L    Petrol       42000.0   \n",
      "1    2          Honda     Civic  2020        2.0L    petrol       25000.0   \n",
      "2    3           Ford     Focus  2017        1.5L    Diesel       60000.0   \n",
      "3    4        Hyundai   Elantra  2019         NaN    Petrol       35000.0   \n",
      "4    5            BMW  3 Series  2016        2.0L    diesel       70000.0   \n",
      "5    6  Mercedes-Benz   C Class  2018        2.0L    Petrol       40000.0   \n",
      "6    7          Tesla   Model 3  2021    Electric  electric       15000.0   \n",
      "\n",
      "   Price (USD) Owner Type  \n",
      "0      14500.0      First  \n",
      "1      18000.0      First  \n",
      "2      12500.0     Second  \n",
      "3      16000.0      first  \n",
      "4          NaN      Third  \n",
      "5      28000.0      First  \n",
      "6      35000.0      First  \n"
     ]
    },
    {
     "data": {
      "text/html": [
       "<div>\n",
       "<style scoped>\n",
       "    .dataframe tbody tr th:only-of-type {\n",
       "        vertical-align: middle;\n",
       "    }\n",
       "\n",
       "    .dataframe tbody tr th {\n",
       "        vertical-align: top;\n",
       "    }\n",
       "\n",
       "    .dataframe thead th {\n",
       "        text-align: right;\n",
       "    }\n",
       "</style>\n",
       "<table border=\"1\" class=\"dataframe\">\n",
       "  <thead>\n",
       "    <tr style=\"text-align: right;\">\n",
       "      <th></th>\n",
       "      <th>Car</th>\n",
       "      <th>Brand</th>\n",
       "      <th>Model</th>\n",
       "      <th>Year</th>\n",
       "      <th>Engine Size</th>\n",
       "      <th>Fuel Type</th>\n",
       "      <th>Mileage (km)</th>\n",
       "      <th>Price (USD)</th>\n",
       "      <th>Owner Type</th>\n",
       "    </tr>\n",
       "  </thead>\n",
       "  <tbody>\n",
       "    <tr>\n",
       "      <th>0</th>\n",
       "      <td>1</td>\n",
       "      <td>Toyota</td>\n",
       "      <td>Corolla</td>\n",
       "      <td>2018</td>\n",
       "      <td>1.8L</td>\n",
       "      <td>Petrol</td>\n",
       "      <td>42000.0</td>\n",
       "      <td>14500.0</td>\n",
       "      <td>First</td>\n",
       "    </tr>\n",
       "    <tr>\n",
       "      <th>1</th>\n",
       "      <td>2</td>\n",
       "      <td>Honda</td>\n",
       "      <td>Civic</td>\n",
       "      <td>2020</td>\n",
       "      <td>2.0L</td>\n",
       "      <td>petrol</td>\n",
       "      <td>25000.0</td>\n",
       "      <td>18000.0</td>\n",
       "      <td>First</td>\n",
       "    </tr>\n",
       "    <tr>\n",
       "      <th>2</th>\n",
       "      <td>3</td>\n",
       "      <td>Ford</td>\n",
       "      <td>Focus</td>\n",
       "      <td>2017</td>\n",
       "      <td>1.5L</td>\n",
       "      <td>Diesel</td>\n",
       "      <td>60000.0</td>\n",
       "      <td>12500.0</td>\n",
       "      <td>Second</td>\n",
       "    </tr>\n",
       "    <tr>\n",
       "      <th>3</th>\n",
       "      <td>4</td>\n",
       "      <td>Hyundai</td>\n",
       "      <td>Elantra</td>\n",
       "      <td>2019</td>\n",
       "      <td>NaN</td>\n",
       "      <td>Petrol</td>\n",
       "      <td>35000.0</td>\n",
       "      <td>16000.0</td>\n",
       "      <td>first</td>\n",
       "    </tr>\n",
       "    <tr>\n",
       "      <th>4</th>\n",
       "      <td>5</td>\n",
       "      <td>BMW</td>\n",
       "      <td>3 Series</td>\n",
       "      <td>2016</td>\n",
       "      <td>2.0L</td>\n",
       "      <td>diesel</td>\n",
       "      <td>70000.0</td>\n",
       "      <td>NaN</td>\n",
       "      <td>Third</td>\n",
       "    </tr>\n",
       "  </tbody>\n",
       "</table>\n",
       "</div>"
      ],
      "text/plain": [
       "   Car    Brand     Model  Year Engine Size Fuel Type  Mileage (km)  \\\n",
       "0    1   Toyota   Corolla  2018        1.8L    Petrol       42000.0   \n",
       "1    2    Honda     Civic  2020        2.0L    petrol       25000.0   \n",
       "2    3     Ford     Focus  2017        1.5L    Diesel       60000.0   \n",
       "3    4  Hyundai   Elantra  2019         NaN    Petrol       35000.0   \n",
       "4    5      BMW  3 Series  2016        2.0L    diesel       70000.0   \n",
       "\n",
       "   Price (USD) Owner Type  \n",
       "0      14500.0      First  \n",
       "1      18000.0      First  \n",
       "2      12500.0     Second  \n",
       "3      16000.0      first  \n",
       "4          NaN      Third  "
      ]
     },
     "metadata": {},
     "output_type": "display_data"
    }
   ],
   "source": [
    "df = pd.read_csv('cars_advanced.csv')\n",
    "print(df.head(7))\n",
    "display(df.head())\n",
    " #if the number of rows is not specified, it will return the top 5 rows."
   ]
  },
  {
   "cell_type": "markdown",
   "id": "90bc51a5",
   "metadata": {},
   "source": [
    "- There is also a **tail()** method for viewing the last rows of the DataFrame.\n",
    "\n",
    "- The **tail()** method returns the headers and a specified number of rows, starting from the bottom."
   ]
  },
  {
   "cell_type": "code",
   "execution_count": 18,
   "id": "c2d653b8",
   "metadata": {},
   "outputs": [
    {
     "name": "stdout",
     "output_type": "stream",
     "text": [
      "    Car   Brand     Model  Year Engine Size Fuel Type  Mileage (km)  \\\n",
      "10   11   Honda     Civic  2020        2.0L    Petrol       25000.0   \n",
      "11   12    Ford     Focus  2017        1.5L    Diesel       60000.0   \n",
      "12   13     NaN    Accord  2018        2.4L    Petrol       45000.0   \n",
      "13   14  Toyota     Camry  2015        2.5L    Petrol           NaN   \n",
      "14   15     BMW  3 series  2016        2.0L    Diesel       70000.0   \n",
      "\n",
      "    Price (USD) Owner Type  \n",
      "10      18000.0      First  \n",
      "11      12500.0     Second  \n",
      "12      19000.0      First  \n",
      "13      14000.0     Second  \n",
      "14      20000.0      third  \n"
     ]
    }
   ],
   "source": [
    "print(df.tail())"
   ]
  },
  {
   "cell_type": "markdown",
   "id": "95f7e415",
   "metadata": {},
   "source": [
    "\n",
    "- We can also get random rows using **sample()**"
   ]
  },
  {
   "cell_type": "code",
   "execution_count": 19,
   "id": "a166cc51",
   "metadata": {},
   "outputs": [
    {
     "data": {
      "text/html": [
       "<div>\n",
       "<style scoped>\n",
       "    .dataframe tbody tr th:only-of-type {\n",
       "        vertical-align: middle;\n",
       "    }\n",
       "\n",
       "    .dataframe tbody tr th {\n",
       "        vertical-align: top;\n",
       "    }\n",
       "\n",
       "    .dataframe thead th {\n",
       "        text-align: right;\n",
       "    }\n",
       "</style>\n",
       "<table border=\"1\" class=\"dataframe\">\n",
       "  <thead>\n",
       "    <tr style=\"text-align: right;\">\n",
       "      <th></th>\n",
       "      <th>Car</th>\n",
       "      <th>Brand</th>\n",
       "      <th>Model</th>\n",
       "      <th>Year</th>\n",
       "      <th>Engine Size</th>\n",
       "      <th>Fuel Type</th>\n",
       "      <th>Mileage (km)</th>\n",
       "      <th>Price (USD)</th>\n",
       "      <th>Owner Type</th>\n",
       "    </tr>\n",
       "  </thead>\n",
       "  <tbody>\n",
       "    <tr>\n",
       "      <th>4</th>\n",
       "      <td>5</td>\n",
       "      <td>BMW</td>\n",
       "      <td>3 Series</td>\n",
       "      <td>2016</td>\n",
       "      <td>2.0L</td>\n",
       "      <td>diesel</td>\n",
       "      <td>70000.0</td>\n",
       "      <td>NaN</td>\n",
       "      <td>Third</td>\n",
       "    </tr>\n",
       "    <tr>\n",
       "      <th>8</th>\n",
       "      <td>9</td>\n",
       "      <td>Audi</td>\n",
       "      <td>A4</td>\n",
       "      <td>2019</td>\n",
       "      <td>2.0L</td>\n",
       "      <td>Diesel</td>\n",
       "      <td>30000.0</td>\n",
       "      <td>27000.0</td>\n",
       "      <td>Second</td>\n",
       "    </tr>\n",
       "    <tr>\n",
       "      <th>2</th>\n",
       "      <td>3</td>\n",
       "      <td>Ford</td>\n",
       "      <td>Focus</td>\n",
       "      <td>2017</td>\n",
       "      <td>1.5L</td>\n",
       "      <td>Diesel</td>\n",
       "      <td>60000.0</td>\n",
       "      <td>12500.0</td>\n",
       "      <td>Second</td>\n",
       "    </tr>\n",
       "    <tr>\n",
       "      <th>0</th>\n",
       "      <td>1</td>\n",
       "      <td>Toyota</td>\n",
       "      <td>Corolla</td>\n",
       "      <td>2018</td>\n",
       "      <td>1.8L</td>\n",
       "      <td>Petrol</td>\n",
       "      <td>42000.0</td>\n",
       "      <td>14500.0</td>\n",
       "      <td>First</td>\n",
       "    </tr>\n",
       "    <tr>\n",
       "      <th>9</th>\n",
       "      <td>10</td>\n",
       "      <td>Chevrolet</td>\n",
       "      <td>Malibu</td>\n",
       "      <td>2016</td>\n",
       "      <td>1.5L</td>\n",
       "      <td>Petrol</td>\n",
       "      <td>-500.0</td>\n",
       "      <td>11000.0</td>\n",
       "      <td>third</td>\n",
       "    </tr>\n",
       "  </tbody>\n",
       "</table>\n",
       "</div>"
      ],
      "text/plain": [
       "   Car      Brand     Model  Year Engine Size Fuel Type  Mileage (km)  \\\n",
       "4    5        BMW  3 Series  2016        2.0L    diesel       70000.0   \n",
       "8    9       Audi        A4  2019        2.0L    Diesel       30000.0   \n",
       "2    3       Ford     Focus  2017        1.5L    Diesel       60000.0   \n",
       "0    1     Toyota   Corolla  2018        1.8L    Petrol       42000.0   \n",
       "9   10  Chevrolet    Malibu  2016        1.5L    Petrol        -500.0   \n",
       "\n",
       "   Price (USD) Owner Type  \n",
       "4          NaN      Third  \n",
       "8      27000.0     Second  \n",
       "2      12500.0     Second  \n",
       "0      14500.0      First  \n",
       "9      11000.0      third  "
      ]
     },
     "execution_count": 19,
     "metadata": {},
     "output_type": "execute_result"
    }
   ],
   "source": [
    "df.sample(5) # each time we run it we will get different combination of rows "
   ]
  },
  {
   "cell_type": "code",
   "execution_count": 20,
   "id": "ed6ef393",
   "metadata": {},
   "outputs": [
    {
     "data": {
      "text/html": [
       "<div>\n",
       "<style scoped>\n",
       "    .dataframe tbody tr th:only-of-type {\n",
       "        vertical-align: middle;\n",
       "    }\n",
       "\n",
       "    .dataframe tbody tr th {\n",
       "        vertical-align: top;\n",
       "    }\n",
       "\n",
       "    .dataframe thead th {\n",
       "        text-align: right;\n",
       "    }\n",
       "</style>\n",
       "<table border=\"1\" class=\"dataframe\">\n",
       "  <thead>\n",
       "    <tr style=\"text-align: right;\">\n",
       "      <th></th>\n",
       "      <th>Car</th>\n",
       "      <th>Brand</th>\n",
       "      <th>Model</th>\n",
       "      <th>Year</th>\n",
       "      <th>Engine Size</th>\n",
       "      <th>Fuel Type</th>\n",
       "      <th>Mileage (km)</th>\n",
       "      <th>Price (USD)</th>\n",
       "      <th>Owner Type</th>\n",
       "    </tr>\n",
       "  </thead>\n",
       "  <tbody>\n",
       "    <tr>\n",
       "      <th>3</th>\n",
       "      <td>4</td>\n",
       "      <td>Hyundai</td>\n",
       "      <td>Elantra</td>\n",
       "      <td>2019</td>\n",
       "      <td>NaN</td>\n",
       "      <td>Petrol</td>\n",
       "      <td>35000.0</td>\n",
       "      <td>16000.0</td>\n",
       "      <td>first</td>\n",
       "    </tr>\n",
       "    <tr>\n",
       "      <th>7</th>\n",
       "      <td>8</td>\n",
       "      <td>Kia</td>\n",
       "      <td>Optima</td>\n",
       "      <td>2017</td>\n",
       "      <td>2.4L</td>\n",
       "      <td>Petrol</td>\n",
       "      <td>50000.0</td>\n",
       "      <td>13000.0</td>\n",
       "      <td>Second</td>\n",
       "    </tr>\n",
       "    <tr>\n",
       "      <th>6</th>\n",
       "      <td>7</td>\n",
       "      <td>Tesla</td>\n",
       "      <td>Model 3</td>\n",
       "      <td>2021</td>\n",
       "      <td>Electric</td>\n",
       "      <td>electric</td>\n",
       "      <td>15000.0</td>\n",
       "      <td>35000.0</td>\n",
       "      <td>First</td>\n",
       "    </tr>\n",
       "    <tr>\n",
       "      <th>2</th>\n",
       "      <td>3</td>\n",
       "      <td>Ford</td>\n",
       "      <td>Focus</td>\n",
       "      <td>2017</td>\n",
       "      <td>1.5L</td>\n",
       "      <td>Diesel</td>\n",
       "      <td>60000.0</td>\n",
       "      <td>12500.0</td>\n",
       "      <td>Second</td>\n",
       "    </tr>\n",
       "    <tr>\n",
       "      <th>10</th>\n",
       "      <td>11</td>\n",
       "      <td>Honda</td>\n",
       "      <td>Civic</td>\n",
       "      <td>2020</td>\n",
       "      <td>2.0L</td>\n",
       "      <td>Petrol</td>\n",
       "      <td>25000.0</td>\n",
       "      <td>18000.0</td>\n",
       "      <td>First</td>\n",
       "    </tr>\n",
       "  </tbody>\n",
       "</table>\n",
       "</div>"
      ],
      "text/plain": [
       "    Car    Brand    Model  Year Engine Size Fuel Type  Mileage (km)  \\\n",
       "3     4  Hyundai  Elantra  2019         NaN    Petrol       35000.0   \n",
       "7     8      Kia   Optima  2017        2.4L    Petrol       50000.0   \n",
       "6     7    Tesla  Model 3  2021    Electric  electric       15000.0   \n",
       "2     3     Ford    Focus  2017        1.5L    Diesel       60000.0   \n",
       "10   11    Honda    Civic  2020        2.0L    Petrol       25000.0   \n",
       "\n",
       "    Price (USD) Owner Type  \n",
       "3       16000.0      first  \n",
       "7       13000.0     Second  \n",
       "6       35000.0      First  \n",
       "2       12500.0     Second  \n",
       "10      18000.0      First  "
      ]
     },
     "execution_count": 20,
     "metadata": {},
     "output_type": "execute_result"
    }
   ],
   "source": [
    "df.sample(5, random_state=1) # this will give same combination every time\n",
    "# can put any interger in 'random_state'"
   ]
  },
  {
   "cell_type": "markdown",
   "id": "788658dd",
   "metadata": {},
   "source": [
    "#### 5.2 Info About the Data\n",
    "- The DataFrames object has a method called **info()**, that gives us more information about the data set.\n",
    "\n",
    "- The **info()** method also tells us how many Non-Null values there are present in each column"
   ]
  },
  {
   "cell_type": "code",
   "execution_count": 21,
   "id": "b1f124eb",
   "metadata": {},
   "outputs": [
    {
     "name": "stdout",
     "output_type": "stream",
     "text": [
      "<class 'pandas.core.frame.DataFrame'>\n",
      "RangeIndex: 15 entries, 0 to 14\n",
      "Data columns (total 9 columns):\n",
      " #   Column        Non-Null Count  Dtype  \n",
      "---  ------        --------------  -----  \n",
      " 0   Car           15 non-null     int64  \n",
      " 1   Brand         14 non-null     object \n",
      " 2   Model         15 non-null     object \n",
      " 3   Year          15 non-null     int64  \n",
      " 4   Engine Size   14 non-null     object \n",
      " 5   Fuel Type     15 non-null     object \n",
      " 6   Mileage (km)  14 non-null     float64\n",
      " 7   Price (USD)   14 non-null     float64\n",
      " 8   Owner Type    15 non-null     object \n",
      "dtypes: float64(2), int64(2), object(5)\n",
      "memory usage: 1.2+ KB\n",
      "None\n"
     ]
    }
   ],
   "source": [
    "print(df.info())"
   ]
  },
  {
   "cell_type": "markdown",
   "id": "9b555c72",
   "metadata": {},
   "source": [
    "- We can see all the columns and rows by using **tolist()** method"
   ]
  },
  {
   "cell_type": "code",
   "execution_count": 22,
   "id": "7d5c9a18",
   "metadata": {},
   "outputs": [
    {
     "name": "stdout",
     "output_type": "stream",
     "text": [
      "['Car', 'Brand', 'Model', 'Year', 'Engine Size', 'Fuel Type', 'Mileage (km)', 'Price (USD)', 'Owner Type']\n",
      "[0, 1, 2, 3, 4, 5, 6, 7, 8, 9, 10, 11, 12, 13, 14]\n"
     ]
    }
   ],
   "source": [
    "print(df.columns.tolist())\n",
    "\n",
    "print(df.index.tolist())"
   ]
  },
  {
   "cell_type": "markdown",
   "id": "b220830d",
   "metadata": {},
   "source": [
    "- We can also see the stats of the Data"
   ]
  },
  {
   "cell_type": "code",
   "execution_count": 23,
   "id": "c1ca50dd",
   "metadata": {},
   "outputs": [
    {
     "name": "stdout",
     "output_type": "stream",
     "text": [
      "             Car         Year  Mileage (km)   Price (USD)\n",
      "count  15.000000    15.000000     14.000000     14.000000\n",
      "mean    8.000000  2017.800000  40464.285714  18464.285714\n",
      "std     4.472136     1.740279  20692.310246   7009.510807\n",
      "min     1.000000  2015.000000   -500.000000  11000.000000\n",
      "25%     4.500000  2016.500000  26250.000000  13250.000000\n",
      "50%     8.000000  2018.000000  41000.000000  17000.000000\n",
      "75%    11.500000  2019.000000  57500.000000  19750.000000\n",
      "max    15.000000  2021.000000  70000.000000  35000.000000\n"
     ]
    }
   ],
   "source": [
    "print(df.describe())"
   ]
  },
  {
   "cell_type": "markdown",
   "id": "97d4e181",
   "metadata": {},
   "source": [
    "### 6. Pandas - Cleaning Empty cells\n",
    "- Empty cells can potentially give us a wrong result when we analyze data."
   ]
  },
  {
   "cell_type": "markdown",
   "id": "c35c2db0",
   "metadata": {},
   "source": [
    "#### 6.1 Remove Rows\n",
    "- One way to deal with empty cells is to remove rows that contain empty cells.\n",
    "\n",
    "- This is usually OK, since data sets can be very big, and removing a few rows will not have a big impact on the result.\n",
    "\n",
    "- By default, the **dropna()** method returns a new DataFrame, and will not change the original.\n",
    "\n",
    "- If we want to change the original DataFrame, we can use the **inplace = True argument**"
   ]
  },
  {
   "cell_type": "code",
   "execution_count": 24,
   "id": "0aefb2c4",
   "metadata": {},
   "outputs": [
    {
     "name": "stdout",
     "output_type": "stream",
     "text": [
      "    Car          Brand     Model  Year Engine Size Fuel Type  Mileage (km)  Price (USD) Owner Type\n",
      "0     1         Toyota   Corolla  2018        1.8L    Petrol       42000.0      14500.0      First\n",
      "1     2          Honda     Civic  2020        2.0L    petrol       25000.0      18000.0      First\n",
      "2     3           Ford     Focus  2017        1.5L    Diesel       60000.0      12500.0     Second\n",
      "5     6  Mercedes-Benz   C Class  2018        2.0L    Petrol       40000.0      28000.0      First\n",
      "6     7          Tesla   Model 3  2021    Electric  electric       15000.0      35000.0      First\n",
      "7     8            Kia    Optima  2017        2.4L    Petrol       50000.0      13000.0     Second\n",
      "8     9           Audi        A4  2019        2.0L    Diesel       30000.0      27000.0     Second\n",
      "9    10      Chevrolet    Malibu  2016        1.5L    Petrol        -500.0      11000.0      third\n",
      "10   11          Honda     Civic  2020        2.0L    Petrol       25000.0      18000.0      First\n",
      "11   12           Ford     Focus  2017        1.5L    Diesel       60000.0      12500.0     Second\n",
      "14   15            BMW  3 series  2016        2.0L    Diesel       70000.0      20000.0      third\n"
     ]
    }
   ],
   "source": [
    "df = pd.read_csv('cars_advanced.csv')\n",
    "new_df = df.dropna()\n",
    "\n",
    "print(new_df.to_string())"
   ]
  },
  {
   "cell_type": "markdown",
   "id": "e44e7ae9",
   "metadata": {},
   "source": [
    "#### 6.2 Replace Empty Values\n",
    "- Another way of dealing with empty cells is to insert a new value instead.\n",
    "\n",
    "- This way we do not have to delete entire rows just because of some empty cells.\n",
    "\n",
    "- The **fillna()** method allows us to replace empty cells with a value\n",
    "\n",
    "##### 6.2.1 Replacing by a Static value"
   ]
  },
  {
   "cell_type": "code",
   "execution_count": 25,
   "id": "9a05d11e",
   "metadata": {},
   "outputs": [
    {
     "name": "stdout",
     "output_type": "stream",
     "text": [
      "    Car          Brand     Model  Year Engine Size Fuel Type  Mileage (km)  Price (USD) Owner Type\n",
      "0     1         Toyota   Corolla  2018        1.8L    Petrol       42000.0      14500.0      First\n",
      "1     2          Honda     Civic  2020        2.0L    petrol       25000.0      18000.0      First\n",
      "2     3           Ford     Focus  2017        1.5L    Diesel       60000.0      12500.0     Second\n",
      "3     4        Hyundai   Elantra  2019        1.5l    Petrol       35000.0      16000.0      first\n",
      "4     5            BMW  3 Series  2016        2.0L    diesel       70000.0      16000.0      Third\n",
      "5     6  Mercedes-Benz   C Class  2018        2.0L    Petrol       40000.0      28000.0      First\n",
      "6     7          Tesla   Model 3  2021    Electric  electric       15000.0      35000.0      First\n",
      "7     8            Kia    Optima  2017        2.4L    Petrol       50000.0      13000.0     Second\n",
      "8     9           Audi        A4  2019        2.0L    Diesel       30000.0      27000.0     Second\n",
      "9    10      Chevrolet    Malibu  2016        1.5L    Petrol        -500.0      11000.0      third\n",
      "10   11          Honda     Civic  2020        2.0L    Petrol       25000.0      18000.0      First\n",
      "11   12           Ford     Focus  2017        1.5L    Diesel       60000.0      12500.0     Second\n",
      "12   13          Honda    Accord  2018        2.4L    Petrol       45000.0      19000.0      First\n",
      "13   14         Toyota     Camry  2015        2.5L    Petrol       70000.0      14000.0     Second\n",
      "14   15            BMW  3 series  2016        2.0L    Diesel       70000.0      20000.0      third\n"
     ]
    }
   ],
   "source": [
    "df.fillna({'Engine Size' : '1.5l'}, inplace=True)\n",
    "df.fillna({'Price (USD)' : 16000.0}, inplace=True)\n",
    "df.fillna({'Brand' : 'Honda'}, inplace=True)\n",
    "df.fillna({'Mileage (km)' : 70000.0 }, inplace=True)\n",
    "\n",
    "print(df.to_string())"
   ]
  },
  {
   "cell_type": "markdown",
   "id": "5e2750da",
   "metadata": {},
   "source": [
    "##### 6.2.2 Replace Using Mean, Median, or Mode\n",
    "\n",
    "- A common way to replace empty cells, is to calculate the mean, median or mode value of the column.\n",
    "\n",
    "- Pandas uses the mean() median() and mode() methods to calculate the respective values for a specified column"
   ]
  },
  {
   "cell_type": "code",
   "execution_count": 26,
   "id": "bfaa9bb1",
   "metadata": {},
   "outputs": [
    {
     "name": "stdout",
     "output_type": "stream",
     "text": [
      "    Car          Brand     Model  Year Engine Size Fuel Type  Mileage (km)  Price (USD) Owner Type\n",
      "0     1         Toyota   Corolla  2018        1.8L    Petrol  42000.000000      14500.0      First\n",
      "1     2          Honda     Civic  2020        2.0L    petrol  25000.000000      18000.0      First\n",
      "2     3           Ford     Focus  2017        1.5L    Diesel  60000.000000      12500.0     Second\n",
      "3     4        Hyundai   Elantra  2019        2.0L    Petrol  35000.000000      16000.0      first\n",
      "4     5            BMW  3 Series  2016        2.0L    diesel  70000.000000      17000.0      Third\n",
      "5     6  Mercedes-Benz   C Class  2018        2.0L    Petrol  40000.000000      28000.0      First\n",
      "6     7          Tesla   Model 3  2021    Electric  electric  15000.000000      35000.0      First\n",
      "7     8            Kia    Optima  2017        2.4L    Petrol  50000.000000      13000.0     Second\n",
      "8     9           Audi        A4  2019        2.0L    Diesel  30000.000000      27000.0     Second\n",
      "9    10      Chevrolet    Malibu  2016        1.5L    Petrol   -500.000000      11000.0      third\n",
      "10   11          Honda     Civic  2020        2.0L    Petrol  25000.000000      18000.0      First\n",
      "11   12           Ford     Focus  2017        1.5L    Diesel  60000.000000      12500.0     Second\n",
      "12   13            BMW    Accord  2018        2.4L    Petrol  45000.000000      19000.0      First\n",
      "13   14         Toyota     Camry  2015        2.5L    Petrol  40464.285714      14000.0     Second\n",
      "14   15            BMW  3 series  2016        2.0L    Diesel  70000.000000      20000.0      third\n"
     ]
    }
   ],
   "source": [
    "df = pd.read_csv('cars_advanced.csv')\n",
    "\n",
    "x = df[\"Brand\"].mode()[0]\n",
    "y = df[\"Engine Size\"].mode()[0]\n",
    "z = df[\"Mileage (km)\"].mean()\n",
    "w = df[\"Price (USD)\"].median()\n",
    "\n",
    "df.fillna({\"Brand\": x}, inplace=True)\n",
    "df.fillna({\"Engine Size\": y}, inplace=True)\n",
    "df.fillna({\"Mileage (km)\": z}, inplace=True)\n",
    "df.fillna({\"Price (USD)\": w}, inplace=True)\n",
    "# df[\"Brand\"].fillna(x, inplace = True)\n",
    "\n",
    "\n",
    "print(df.to_string())"
   ]
  },
  {
   "cell_type": "markdown",
   "id": "4e0589a7",
   "metadata": {},
   "source": [
    "### 7. Pandas - Cleaning Data of Wrong Data\n",
    "\n",
    "- Cells with data of wrong format can make it difficult, or even impossible, to analyze data.\n",
    "\n",
    "- To fix it, you have two options: remove the rows, or convert all cells in the columns into the same format."
   ]
  },
  {
   "cell_type": "code",
   "execution_count": null,
   "id": "c37da9c5",
   "metadata": {},
   "outputs": [
    {
     "name": "stdout",
     "output_type": "stream",
     "text": [
      "    Car          Brand     Model  Year Engine Size Fuel Type  Mileage (km)  Price (USD) Owner Type\n",
      "0     1         Toyota   Corolla  2018        1.8L    Petrol  42000.000000      14500.0      First\n",
      "1     2          Honda     Civic  2020        2.0L    petrol  25000.000000      18000.0      First\n",
      "2     3           Ford     Focus  2017        1.5L    Diesel  60000.000000      12500.0     Second\n",
      "3     4        Hyundai   Elantra  2019        2.0L    Petrol  35000.000000      16000.0      first\n",
      "4     5            BMW  3 Series  2016        2.0L    diesel  70000.000000      17000.0      Third\n",
      "5     6  Mercedes-Benz   C Class  2018        2.0L    Petrol  40000.000000      28000.0      First\n",
      "6     7          Tesla   Model 3  2021    Electric  electric  15000.000000      35000.0      First\n",
      "7     8            Kia    Optima  2017        2.4L    Petrol  50000.000000      13000.0     Second\n",
      "8     9           Audi        A4  2019        2.0L    Diesel  30000.000000      27000.0     Second\n",
      "9    10      Chevrolet    Malibu  2016        1.5L    Petrol   -500.000000      11000.0      third\n",
      "10   11          Honda     Civic  2020        2.0L    Petrol  25000.000000      18000.0      First\n",
      "11   12           Ford     Focus  2017        1.5L    Diesel  60000.000000      12500.0     Second\n",
      "12   13            BMW    Accord  2018        2.4L    Petrol  45000.000000      19000.0      First\n",
      "13   14         Toyota     Camry  2015        2.5L    Petrol  40464.285714      14000.0     Second\n",
      "14   15            BMW  3 series  2016        2.0L    Diesel  70000.000000      20000.0      third\n"
     ]
    }
   ],
   "source": [
    "print(df.to_string())"
   ]
  },
  {
   "cell_type": "code",
   "execution_count": 28,
   "id": "249b6b8b",
   "metadata": {},
   "outputs": [
    {
     "data": {
      "text/html": [
       "<div>\n",
       "<style scoped>\n",
       "    .dataframe tbody tr th:only-of-type {\n",
       "        vertical-align: middle;\n",
       "    }\n",
       "\n",
       "    .dataframe tbody tr th {\n",
       "        vertical-align: top;\n",
       "    }\n",
       "\n",
       "    .dataframe thead th {\n",
       "        text-align: right;\n",
       "    }\n",
       "</style>\n",
       "<table border=\"1\" class=\"dataframe\">\n",
       "  <thead>\n",
       "    <tr style=\"text-align: right;\">\n",
       "      <th></th>\n",
       "      <th>Car</th>\n",
       "      <th>Brand</th>\n",
       "      <th>Model</th>\n",
       "      <th>Year</th>\n",
       "      <th>Engine Size</th>\n",
       "      <th>Fuel Type</th>\n",
       "      <th>Mileage (km)</th>\n",
       "      <th>Price (USD)</th>\n",
       "      <th>Owner Type</th>\n",
       "    </tr>\n",
       "  </thead>\n",
       "  <tbody>\n",
       "    <tr>\n",
       "      <th>0</th>\n",
       "      <td>1</td>\n",
       "      <td>Toyota</td>\n",
       "      <td>Corolla</td>\n",
       "      <td>2018</td>\n",
       "      <td>1.8L</td>\n",
       "      <td>Petrol</td>\n",
       "      <td>42000.0</td>\n",
       "      <td>14500.0</td>\n",
       "      <td>First</td>\n",
       "    </tr>\n",
       "    <tr>\n",
       "      <th>1</th>\n",
       "      <td>2</td>\n",
       "      <td>Honda</td>\n",
       "      <td>Civic</td>\n",
       "      <td>2020</td>\n",
       "      <td>2.0L</td>\n",
       "      <td>petrol</td>\n",
       "      <td>25000.0</td>\n",
       "      <td>18000.0</td>\n",
       "      <td>First</td>\n",
       "    </tr>\n",
       "    <tr>\n",
       "      <th>2</th>\n",
       "      <td>3</td>\n",
       "      <td>Ford</td>\n",
       "      <td>Focus</td>\n",
       "      <td>2017</td>\n",
       "      <td>1.5L</td>\n",
       "      <td>Diesel</td>\n",
       "      <td>60000.0</td>\n",
       "      <td>12500.0</td>\n",
       "      <td>Second</td>\n",
       "    </tr>\n",
       "    <tr>\n",
       "      <th>3</th>\n",
       "      <td>4</td>\n",
       "      <td>Hyundai</td>\n",
       "      <td>Elantra</td>\n",
       "      <td>2019</td>\n",
       "      <td>2.0L</td>\n",
       "      <td>Petrol</td>\n",
       "      <td>35000.0</td>\n",
       "      <td>16000.0</td>\n",
       "      <td>first</td>\n",
       "    </tr>\n",
       "    <tr>\n",
       "      <th>4</th>\n",
       "      <td>5</td>\n",
       "      <td>BMW</td>\n",
       "      <td>3 Series</td>\n",
       "      <td>2016</td>\n",
       "      <td>2.0L</td>\n",
       "      <td>diesel</td>\n",
       "      <td>70000.0</td>\n",
       "      <td>17000.0</td>\n",
       "      <td>Third</td>\n",
       "    </tr>\n",
       "    <tr>\n",
       "      <th>5</th>\n",
       "      <td>6</td>\n",
       "      <td>Mercedes-Benz</td>\n",
       "      <td>C Class</td>\n",
       "      <td>2018</td>\n",
       "      <td>2.0L</td>\n",
       "      <td>Petrol</td>\n",
       "      <td>40000.0</td>\n",
       "      <td>28000.0</td>\n",
       "      <td>First</td>\n",
       "    </tr>\n",
       "    <tr>\n",
       "      <th>6</th>\n",
       "      <td>7</td>\n",
       "      <td>Tesla</td>\n",
       "      <td>Model 3</td>\n",
       "      <td>2021</td>\n",
       "      <td>Electric</td>\n",
       "      <td>electric</td>\n",
       "      <td>15000.0</td>\n",
       "      <td>35000.0</td>\n",
       "      <td>First</td>\n",
       "    </tr>\n",
       "  </tbody>\n",
       "</table>\n",
       "</div>"
      ],
      "text/plain": [
       "   Car          Brand     Model  Year Engine Size Fuel Type  Mileage (km)  \\\n",
       "0    1         Toyota   Corolla  2018        1.8L    Petrol       42000.0   \n",
       "1    2          Honda     Civic  2020        2.0L    petrol       25000.0   \n",
       "2    3           Ford     Focus  2017        1.5L    Diesel       60000.0   \n",
       "3    4        Hyundai   Elantra  2019        2.0L    Petrol       35000.0   \n",
       "4    5            BMW  3 Series  2016        2.0L    diesel       70000.0   \n",
       "5    6  Mercedes-Benz   C Class  2018        2.0L    Petrol       40000.0   \n",
       "6    7          Tesla   Model 3  2021    Electric  electric       15000.0   \n",
       "\n",
       "   Price (USD) Owner Type  \n",
       "0      14500.0      First  \n",
       "1      18000.0      First  \n",
       "2      12500.0     Second  \n",
       "3      16000.0      first  \n",
       "4      17000.0      Third  \n",
       "5      28000.0      First  \n",
       "6      35000.0      First  "
      ]
     },
     "metadata": {},
     "output_type": "display_data"
    },
    {
     "name": "stdout",
     "output_type": "stream",
     "text": [
      "    Car          Brand     Model  Year Engine Size Fuel Type  Mileage (km)  Price (USD) Owner Type\n",
      "0     1         Toyota   Corolla  2018        1.8L    Petrol  42000.000000      14500.0      First\n",
      "1     2          Honda     Civic  2020        2.0L    petrol  25000.000000      18000.0      First\n",
      "2     3           Ford     Focus  2017        1.5L    Diesel  60000.000000      12500.0     Second\n",
      "3     4        Hyundai   Elantra  2019        2.0L    Petrol  35000.000000      16000.0      first\n",
      "4     5            BMW  3 Series  2016        2.0L    diesel  70000.000000      17000.0      Third\n",
      "5     6  Mercedes-Benz   C Class  2018        2.0L    Petrol  40000.000000      28000.0      First\n",
      "6     7          Tesla   Model 3  2021    Electric  electric  15000.000000      35000.0      First\n",
      "7     8            Kia    Optima  2017        2.4L    Petrol  50000.000000      13000.0     Second\n",
      "8     9           Audi        A4  2019        2.0L    Diesel  30000.000000      27000.0     Second\n",
      "9    10      Chevrolet    Malibu  2016        1.5L    Petrol   -500.000000      11000.0      third\n",
      "10   11          Honda     Civic  2020        2.0L    Petrol  25000.000000      18000.0      First\n",
      "11   12           Ford     Focus  2017        1.5L    Diesel  60000.000000      12500.0     Second\n",
      "12   13            BMW    Accord  2018        2.4L    Petrol  45000.000000      19000.0      First\n",
      "13   14         Toyota     Camry  2015        2.5L    Petrol  40464.285714      14000.0     Second\n",
      "14   15            BMW  3 series  2016        2.0L    Diesel  70000.000000      20000.0      third\n"
     ]
    }
   ],
   "source": [
    "# If we run this it will update \"Random Error\" at 6th index of 'Year' column\n",
    "\n",
    "# df.at[6, 'Year'] = 'Random Error' \n",
    "\n",
    "display(df.head(7))\n",
    "df['Year'] = pd.to_numeric(df['Year'], errors='coerce', downcast='integer' )\n",
    "# above line would change the cell that does not match the downcast to NAN (Empty Cell)\n",
    "print(df.to_string())"
   ]
  },
  {
   "cell_type": "code",
   "execution_count": null,
   "id": "a07a552d",
   "metadata": {},
   "outputs": [],
   "source": [
    "# If we run this it will drop the row if there is Empty cell\n",
    "\n",
    "# df.dropna(subset=['Year'], inplace = True)\n",
    "# print(df.to_string())"
   ]
  },
  {
   "cell_type": "markdown",
   "id": "f10da49c",
   "metadata": {},
   "source": [
    "#### 7.1 Fixing the Wrong Data\n",
    "\n",
    "- \"Wrong data\" does not have to be \"empty cells\" or \"wrong format\", it can just be wrong, like if someone registered \"-500\" instead of \"500\".\n",
    "\n",
    "- Sometimes we can spot wrong data by looking at the data set, because we have an expectation of what it should be.\n",
    "\n",
    "- Like if we look at 10th row in Mileage it \"-500' it's clearly an mistake"
   ]
  },
  {
   "cell_type": "code",
   "execution_count": null,
   "id": "5ddc00d3",
   "metadata": {},
   "outputs": [
    {
     "name": "stdout",
     "output_type": "stream",
     "text": [
      "    Car          Brand     Model  Year Engine Size Fuel Type  Mileage (km)  Price (USD) Owner Type\n",
      "0     1         Toyota   Corolla  2018        1.8L    Petrol  42000.000000      14500.0      First\n",
      "1     2          Honda     Civic  2020        2.0L    petrol  25000.000000      18000.0      First\n",
      "2     3           Ford     Focus  2017        1.5L    Diesel  60000.000000      12500.0     Second\n",
      "3     4        Hyundai   Elantra  2019        2.0L    Petrol  35000.000000      16000.0      first\n",
      "4     5            BMW  3 Series  2016        2.0L    diesel  70000.000000      17000.0      Third\n",
      "5     6  Mercedes-Benz   C Class  2018        2.0L    Petrol  40000.000000      28000.0      First\n",
      "6     7          Tesla   Model 3  2021    Electric  electric  15000.000000      35000.0      First\n",
      "7     8            Kia    Optima  2017        2.4L    Petrol  50000.000000      13000.0     Second\n",
      "8     9           Audi        A4  2019        2.0L    Diesel  30000.000000      27000.0     Second\n",
      "9    10      Chevrolet    Malibu  2016        1.5L    Petrol  40464.285714      11000.0      third\n",
      "10   11          Honda     Civic  2020        2.0L    Petrol  25000.000000      18000.0      First\n",
      "11   12           Ford     Focus  2017        1.5L    Diesel  60000.000000      12500.0     Second\n",
      "12   13            BMW    Accord  2018        2.4L    Petrol  45000.000000      19000.0      First\n",
      "13   14         Toyota     Camry  2015        2.5L    Petrol  40464.285714      14000.0     Second\n",
      "14   15            BMW  3 series  2016        2.0L    Diesel  70000.000000      20000.0      third\n"
     ]
    }
   ],
   "source": [
    "# df.loc[9, 'Mileage (km)'] = df[\"Mileage (km)\"].mean()\n",
    "\n",
    "for x in df.index :\n",
    "    if df.loc[x, \"Mileage (km)\"] < 0 :\n",
    "        df.loc[x, 'Mileage (km)'] = df[\"Mileage (km)\"].mean()\n",
    "        # df.drop(x, inplace = True) # if you want to drop the row\n",
    " \n",
    "print(df.to_string())"
   ]
  },
  {
   "cell_type": "markdown",
   "id": "0811ab00",
   "metadata": {},
   "source": [
    "#### 7.2 Dealing with Duplicate\n",
    "\n",
    "- To discover duplicates, we can use the **duplicated()** method.\n",
    "\n",
    "- To remove duplicates, use the **drop_duplicates()** method."
   ]
  },
  {
   "cell_type": "code",
   "execution_count": null,
   "id": "8bb51865",
   "metadata": {},
   "outputs": [
    {
     "name": "stdout",
     "output_type": "stream",
     "text": [
      "0     False\n",
      "1     False\n",
      "2     False\n",
      "3     False\n",
      "4     False\n",
      "      ...  \n",
      "10    False\n",
      "11    False\n",
      "12    False\n",
      "13    False\n",
      "14    False\n",
      "Length: 15, dtype: bool\n"
     ]
    }
   ],
   "source": [
    "print(df.duplicated()) \n",
    "df.drop_duplicates(inplace = True) # to drop duplicate if any present"
   ]
  },
  {
   "cell_type": "markdown",
   "id": "376975e3",
   "metadata": {},
   "source": [
    "### 8. Pandas - Data Correlations\n",
    "\n",
    "- The corr() method calculates the relationship between each column in your data set.\n",
    "\n",
    "\n",
    "#### **corr()** Result Explained\n",
    "\n",
    "- The Result of the corr() method is a table with a lot of numbers that represents how well the relationship is between two columns.\n",
    "\n",
    "- The number varies from -1 to 1.\n",
    "\n",
    "1. Perfect Correlation \n",
    "    - 1 means that there is a 1 to 1 relationship.\n",
    "    - And for this data set, each time a value went up in the first column, the other one went up as well.\n",
    "\n",
    "2. Good Correlation \n",
    "    - 0.9 is also a good relationship.\n",
    "    - And if you increase one value, the other will probably increase as well.\n",
    "    - -0.9 would be just as good relationship as 0.9, but if you increase one value, the other will probably go down.\n",
    "\n",
    "3. Bad Correlation\n",
    "    - 0.2 means NOT a good relationship.\n",
    "    - meaning that if one value goes up does not mean that the other will."
   ]
  },
  {
   "cell_type": "code",
   "execution_count": null,
   "id": "0a730579",
   "metadata": {},
   "outputs": [
    {
     "data": {
      "text/html": [
       "<div>\n",
       "<style scoped>\n",
       "    .dataframe tbody tr th:only-of-type {\n",
       "        vertical-align: middle;\n",
       "    }\n",
       "\n",
       "    .dataframe tbody tr th {\n",
       "        vertical-align: top;\n",
       "    }\n",
       "\n",
       "    .dataframe thead th {\n",
       "        text-align: right;\n",
       "    }\n",
       "</style>\n",
       "<table border=\"1\" class=\"dataframe\">\n",
       "  <thead>\n",
       "    <tr style=\"text-align: right;\">\n",
       "      <th></th>\n",
       "      <th>Car</th>\n",
       "      <th>Year</th>\n",
       "      <th>Mileage (km)</th>\n",
       "      <th>Price (USD)</th>\n",
       "    </tr>\n",
       "  </thead>\n",
       "  <tbody>\n",
       "    <tr>\n",
       "      <th>Car</th>\n",
       "      <td>1.000000</td>\n",
       "      <td>-0.376289</td>\n",
       "      <td>0.189359</td>\n",
       "      <td>-0.014166</td>\n",
       "    </tr>\n",
       "    <tr>\n",
       "      <th>Year</th>\n",
       "      <td>-0.376289</td>\n",
       "      <td>1.000000</td>\n",
       "      <td>-0.781559</td>\n",
       "      <td>0.601246</td>\n",
       "    </tr>\n",
       "    <tr>\n",
       "      <th>Mileage (km)</th>\n",
       "      <td>0.189359</td>\n",
       "      <td>-0.781559</td>\n",
       "      <td>1.000000</td>\n",
       "      <td>-0.494811</td>\n",
       "    </tr>\n",
       "    <tr>\n",
       "      <th>Price (USD)</th>\n",
       "      <td>-0.014166</td>\n",
       "      <td>0.601246</td>\n",
       "      <td>-0.494811</td>\n",
       "      <td>1.000000</td>\n",
       "    </tr>\n",
       "  </tbody>\n",
       "</table>\n",
       "</div>"
      ],
      "text/plain": [
       "                   Car      Year  Mileage (km)  Price (USD)\n",
       "Car           1.000000 -0.376289      0.189359    -0.014166\n",
       "Year         -0.376289  1.000000     -0.781559     0.601246\n",
       "Mileage (km)  0.189359 -0.781559      1.000000    -0.494811\n",
       "Price (USD)  -0.014166  0.601246     -0.494811     1.000000"
      ]
     },
     "execution_count": 32,
     "metadata": {},
     "output_type": "execute_result"
    }
   ],
   "source": [
    "df.corr(numeric_only=True)"
   ]
  },
  {
   "cell_type": "markdown",
   "id": "3119b034",
   "metadata": {},
   "source": [
    "### 9. Padas - Plotting\n",
    "\n",
    "- Pandas uses the plot() method to create diagrams.\n",
    "\n",
    "- We can use Pyplot, a submodule of the Matplotlib library to visualize the diagram on the screen."
   ]
  },
  {
   "cell_type": "code",
   "execution_count": null,
   "id": "2a9bb802",
   "metadata": {},
   "outputs": [
    {
     "data": {
      "image/png": "[encoded data removed]",
      "text/plain": [
       "<Figure size 640x480 with 1 Axes>"
      ]
     },
     "metadata": {},
     "output_type": "display_data"
    }
   ],
   "source": [
    "import pandas as pd\n",
    "import matplotlib.pyplot as plt\n",
    "\n",
    "\n",
    "df.plot()\n",
    "plt.show()"
   ]
  },
  {
   "cell_type": "markdown",
   "id": "0a4edf33",
   "metadata": {},
   "source": [
    "#### 9.1 Scatter Plot\n",
    "- Specify that you want a scatter plot with the kind argument:\n",
    "\n",
    "- kind = 'scatter'\n",
    "\n",
    "- A scatter plot needs an x- and a y-axis."
   ]
  },
  {
   "cell_type": "code",
   "execution_count": null,
   "id": "c20bca92",
   "metadata": {},
   "outputs": [
    {
     "data": {
      "image/png": "[encoded data removed]",
      "text/plain": [
       "<Figure size 640x480 with 1 Axes>"
      ]
     },
     "metadata": {},
     "output_type": "display_data"
    }
   ],
   "source": [
    "df.plot(kind = 'scatter', x = 'Car', y = 'Year' )\n",
    "plt.show()"
   ]
  },
  {
   "cell_type": "code",
   "execution_count": null,
   "id": "0ae7ce28",
   "metadata": {},
   "outputs": [
    {
     "data": {
      "image/png": "[encoded data removed]",
      "text/plain": [
       "<Figure size 640x480 with 1 Axes>"
      ]
     },
     "metadata": {},
     "output_type": "display_data"
    }
   ],
   "source": [
    "df.plot(kind = 'scatter', x = 'Year', y = 'Mileage (km)' )\n",
    "plt.show()"
   ]
  },
  {
   "cell_type": "code",
   "execution_count": null,
   "id": "388ffcd1",
   "metadata": {},
   "outputs": [
    {
     "data": {
      "image/png": "[encoded data removed]",
      "text/plain": [
       "<Figure size 640x480 with 1 Axes>"
      ]
     },
     "metadata": {},
     "output_type": "display_data"
    }
   ],
   "source": [
    "df.plot(kind = 'scatter', x = 'Mileage (km)', y = 'Price (USD)' )\n",
    "plt.show()"
   ]
  },
  {
   "cell_type": "markdown",
   "id": "c68502cb",
   "metadata": {},
   "source": [
    "#### 9.2 Histogrm\n",
    "\n",
    "- Use the kind argument to specify that you want a histogram:\n",
    "\n",
    "- kind = 'hist'\n",
    "\n",
    "- A histogram needs only one column."
   ]
  },
  {
   "cell_type": "code",
   "execution_count": null,
   "id": "39cdab92",
   "metadata": {},
   "outputs": [
    {
     "data": {
      "image/png": "[encoded data removed]",
      "text/plain": [
       "<Figure size 640x480 with 1 Axes>"
      ]
     },
     "metadata": {},
     "output_type": "display_data"
    }
   ],
   "source": [
    "# df.plot(kind = 'hist', x = 'Car')\n",
    "df[\"Year\"].plot(kind = 'hist')\n",
    "plt.show()"
   ]
  },
  {
   "cell_type": "code",
   "execution_count": null,
   "id": "01c903da",
   "metadata": {},
   "outputs": [
    {
     "data": {
      "image/png": "[encoded data removed]",
      "text/plain": [
       "<Figure size 640x480 with 1 Axes>"
      ]
     },
     "metadata": {},
     "output_type": "display_data"
    }
   ],
   "source": [
    "df[\"Price (USD)\"].plot(kind = 'hist')\n",
    "plt.show()"
   ]
  },
  {
   "cell_type": "code",
   "execution_count": null,
   "id": "f3583ca0",
   "metadata": {},
   "outputs": [],
   "source": []
  }
 ],
 "metadata": {
  "kernelspec": {
   "display_name": "Python 3",
   "language": "python",
   "name": "python3"
  },
  "language_info": {
   "codemirror_mode": {
    "name": "ipython",
    "version": 3
   },
   "file_extension": ".py",
   "mimetype": "text/x-python",
   "name": "python",
   "nbconvert_exporter": "python",
   "pygments_lexer": "ipython3",
   "version": "3.13.4"
  }
 },
 "nbformat": 4,
 "nbformat_minor": 5
}
