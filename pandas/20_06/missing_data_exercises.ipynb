{
 "cells": [
  {
   "cell_type": "code",
   "execution_count": 1,
   "id": "a501c27a",
   "metadata": {},
   "outputs": [],
   "source": [
    "import pandas as pd\n",
    "import numpy as np"
   ]
  },
  {
   "cell_type": "code",
   "execution_count": 2,
   "id": "89956574",
   "metadata": {},
   "outputs": [
    {
     "data": {
      "text/html": [
       "<div>\n",
       "<style scoped>\n",
       "    .dataframe tbody tr th:only-of-type {\n",
       "        vertical-align: middle;\n",
       "    }\n",
       "\n",
       "    .dataframe tbody tr th {\n",
       "        vertical-align: top;\n",
       "    }\n",
       "\n",
       "    .dataframe thead th {\n",
       "        text-align: right;\n",
       "    }\n",
       "</style>\n",
       "<table border=\"1\" class=\"dataframe\">\n",
       "  <thead>\n",
       "    <tr style=\"text-align: right;\">\n",
       "      <th></th>\n",
       "      <th>Make</th>\n",
       "      <th>Colour</th>\n",
       "      <th>Odometer (KM)</th>\n",
       "      <th>Doors</th>\n",
       "      <th>Price</th>\n",
       "    </tr>\n",
       "  </thead>\n",
       "  <tbody>\n",
       "    <tr>\n",
       "      <th>0</th>\n",
       "      <td>Honda</td>\n",
       "      <td>White</td>\n",
       "      <td>35431.0</td>\n",
       "      <td>4.0</td>\n",
       "      <td>15323.0</td>\n",
       "    </tr>\n",
       "    <tr>\n",
       "      <th>1</th>\n",
       "      <td>BMW</td>\n",
       "      <td>Blue</td>\n",
       "      <td>192714.0</td>\n",
       "      <td>5.0</td>\n",
       "      <td>19943.0</td>\n",
       "    </tr>\n",
       "    <tr>\n",
       "      <th>2</th>\n",
       "      <td>Honda</td>\n",
       "      <td>White</td>\n",
       "      <td>84714.0</td>\n",
       "      <td>4.0</td>\n",
       "      <td>28343.0</td>\n",
       "    </tr>\n",
       "    <tr>\n",
       "      <th>3</th>\n",
       "      <td>Toyota</td>\n",
       "      <td>White</td>\n",
       "      <td>154365.0</td>\n",
       "      <td>4.0</td>\n",
       "      <td>13434.0</td>\n",
       "    </tr>\n",
       "    <tr>\n",
       "      <th>4</th>\n",
       "      <td>Nissan</td>\n",
       "      <td>Blue</td>\n",
       "      <td>181577.0</td>\n",
       "      <td>3.0</td>\n",
       "      <td>14043.0</td>\n",
       "    </tr>\n",
       "    <tr>\n",
       "      <th>...</th>\n",
       "      <td>...</td>\n",
       "      <td>...</td>\n",
       "      <td>...</td>\n",
       "      <td>...</td>\n",
       "      <td>...</td>\n",
       "    </tr>\n",
       "    <tr>\n",
       "      <th>995</th>\n",
       "      <td>Toyota</td>\n",
       "      <td>Black</td>\n",
       "      <td>35820.0</td>\n",
       "      <td>4.0</td>\n",
       "      <td>32042.0</td>\n",
       "    </tr>\n",
       "    <tr>\n",
       "      <th>996</th>\n",
       "      <td>NaN</td>\n",
       "      <td>White</td>\n",
       "      <td>155144.0</td>\n",
       "      <td>3.0</td>\n",
       "      <td>5716.0</td>\n",
       "    </tr>\n",
       "    <tr>\n",
       "      <th>997</th>\n",
       "      <td>Nissan</td>\n",
       "      <td>Blue</td>\n",
       "      <td>66604.0</td>\n",
       "      <td>4.0</td>\n",
       "      <td>31570.0</td>\n",
       "    </tr>\n",
       "    <tr>\n",
       "      <th>998</th>\n",
       "      <td>Honda</td>\n",
       "      <td>White</td>\n",
       "      <td>215883.0</td>\n",
       "      <td>4.0</td>\n",
       "      <td>4001.0</td>\n",
       "    </tr>\n",
       "    <tr>\n",
       "      <th>999</th>\n",
       "      <td>Toyota</td>\n",
       "      <td>Blue</td>\n",
       "      <td>248360.0</td>\n",
       "      <td>4.0</td>\n",
       "      <td>12732.0</td>\n",
       "    </tr>\n",
       "  </tbody>\n",
       "</table>\n",
       "<p>1000 rows × 5 columns</p>\n",
       "</div>"
      ],
      "text/plain": [
       "       Make Colour  Odometer (KM)  Doors    Price\n",
       "0     Honda  White        35431.0    4.0  15323.0\n",
       "1       BMW   Blue       192714.0    5.0  19943.0\n",
       "2     Honda  White        84714.0    4.0  28343.0\n",
       "3    Toyota  White       154365.0    4.0  13434.0\n",
       "4    Nissan   Blue       181577.0    3.0  14043.0\n",
       "..      ...    ...            ...    ...      ...\n",
       "995  Toyota  Black        35820.0    4.0  32042.0\n",
       "996     NaN  White       155144.0    3.0   5716.0\n",
       "997  Nissan   Blue        66604.0    4.0  31570.0\n",
       "998   Honda  White       215883.0    4.0   4001.0\n",
       "999  Toyota   Blue       248360.0    4.0  12732.0\n",
       "\n",
       "[1000 rows x 5 columns]"
      ]
     },
     "execution_count": 2,
     "metadata": {},
     "output_type": "execute_result"
    }
   ],
   "source": [
    "df = pd.read_csv('C:/Users/User 1/Desktop/Ai_Ml_QB/pandas/17_06_18_06/car-sales-extended-missing-data.csv')\n",
    "df"
   ]
  },
  {
   "cell_type": "code",
   "execution_count": 3,
   "id": "f307c736",
   "metadata": {},
   "outputs": [
    {
     "name": "stdout",
     "output_type": "stream",
     "text": [
      "<class 'pandas.core.frame.DataFrame'>\n",
      "RangeIndex: 1000 entries, 0 to 999\n",
      "Data columns (total 5 columns):\n",
      " #   Column         Non-Null Count  Dtype  \n",
      "---  ------         --------------  -----  \n",
      " 0   Make           951 non-null    object \n",
      " 1   Colour         950 non-null    object \n",
      " 2   Odometer (KM)  950 non-null    float64\n",
      " 3   Doors          950 non-null    float64\n",
      " 4   Price          950 non-null    float64\n",
      "dtypes: float64(3), object(2)\n",
      "memory usage: 39.2+ KB\n",
      "None\n"
     ]
    }
   ],
   "source": [
    "print(df.info())\n",
    "# print(df.describe())"
   ]
  },
  {
   "cell_type": "code",
   "execution_count": 4,
   "id": "88a72c69",
   "metadata": {},
   "outputs": [
    {
     "data": {
      "text/html": [
       "<div>\n",
       "<style scoped>\n",
       "    .dataframe tbody tr th:only-of-type {\n",
       "        vertical-align: middle;\n",
       "    }\n",
       "\n",
       "    .dataframe tbody tr th {\n",
       "        vertical-align: top;\n",
       "    }\n",
       "\n",
       "    .dataframe thead th {\n",
       "        text-align: right;\n",
       "    }\n",
       "</style>\n",
       "<table border=\"1\" class=\"dataframe\">\n",
       "  <thead>\n",
       "    <tr style=\"text-align: right;\">\n",
       "      <th></th>\n",
       "      <th>Make</th>\n",
       "      <th>Colour</th>\n",
       "      <th>Odometer</th>\n",
       "      <th>Doors</th>\n",
       "      <th>Price</th>\n",
       "    </tr>\n",
       "  </thead>\n",
       "  <tbody>\n",
       "    <tr>\n",
       "      <th>0</th>\n",
       "      <td>Honda</td>\n",
       "      <td>White</td>\n",
       "      <td>35431.0</td>\n",
       "      <td>4.0</td>\n",
       "      <td>15323.0</td>\n",
       "    </tr>\n",
       "    <tr>\n",
       "      <th>1</th>\n",
       "      <td>BMW</td>\n",
       "      <td>Blue</td>\n",
       "      <td>192714.0</td>\n",
       "      <td>5.0</td>\n",
       "      <td>19943.0</td>\n",
       "    </tr>\n",
       "    <tr>\n",
       "      <th>2</th>\n",
       "      <td>Honda</td>\n",
       "      <td>White</td>\n",
       "      <td>84714.0</td>\n",
       "      <td>4.0</td>\n",
       "      <td>28343.0</td>\n",
       "    </tr>\n",
       "    <tr>\n",
       "      <th>3</th>\n",
       "      <td>Toyota</td>\n",
       "      <td>White</td>\n",
       "      <td>154365.0</td>\n",
       "      <td>4.0</td>\n",
       "      <td>13434.0</td>\n",
       "    </tr>\n",
       "    <tr>\n",
       "      <th>4</th>\n",
       "      <td>Nissan</td>\n",
       "      <td>Blue</td>\n",
       "      <td>181577.0</td>\n",
       "      <td>3.0</td>\n",
       "      <td>14043.0</td>\n",
       "    </tr>\n",
       "    <tr>\n",
       "      <th>...</th>\n",
       "      <td>...</td>\n",
       "      <td>...</td>\n",
       "      <td>...</td>\n",
       "      <td>...</td>\n",
       "      <td>...</td>\n",
       "    </tr>\n",
       "    <tr>\n",
       "      <th>995</th>\n",
       "      <td>Toyota</td>\n",
       "      <td>Black</td>\n",
       "      <td>35820.0</td>\n",
       "      <td>4.0</td>\n",
       "      <td>32042.0</td>\n",
       "    </tr>\n",
       "    <tr>\n",
       "      <th>996</th>\n",
       "      <td>NaN</td>\n",
       "      <td>White</td>\n",
       "      <td>155144.0</td>\n",
       "      <td>3.0</td>\n",
       "      <td>5716.0</td>\n",
       "    </tr>\n",
       "    <tr>\n",
       "      <th>997</th>\n",
       "      <td>Nissan</td>\n",
       "      <td>Blue</td>\n",
       "      <td>66604.0</td>\n",
       "      <td>4.0</td>\n",
       "      <td>31570.0</td>\n",
       "    </tr>\n",
       "    <tr>\n",
       "      <th>998</th>\n",
       "      <td>Honda</td>\n",
       "      <td>White</td>\n",
       "      <td>215883.0</td>\n",
       "      <td>4.0</td>\n",
       "      <td>4001.0</td>\n",
       "    </tr>\n",
       "    <tr>\n",
       "      <th>999</th>\n",
       "      <td>Toyota</td>\n",
       "      <td>Blue</td>\n",
       "      <td>248360.0</td>\n",
       "      <td>4.0</td>\n",
       "      <td>12732.0</td>\n",
       "    </tr>\n",
       "  </tbody>\n",
       "</table>\n",
       "<p>1000 rows × 5 columns</p>\n",
       "</div>"
      ],
      "text/plain": [
       "       Make Colour  Odometer  Doors    Price\n",
       "0     Honda  White   35431.0    4.0  15323.0\n",
       "1       BMW   Blue  192714.0    5.0  19943.0\n",
       "2     Honda  White   84714.0    4.0  28343.0\n",
       "3    Toyota  White  154365.0    4.0  13434.0\n",
       "4    Nissan   Blue  181577.0    3.0  14043.0\n",
       "..      ...    ...       ...    ...      ...\n",
       "995  Toyota  Black   35820.0    4.0  32042.0\n",
       "996     NaN  White  155144.0    3.0   5716.0\n",
       "997  Nissan   Blue   66604.0    4.0  31570.0\n",
       "998   Honda  White  215883.0    4.0   4001.0\n",
       "999  Toyota   Blue  248360.0    4.0  12732.0\n",
       "\n",
       "[1000 rows x 5 columns]"
      ]
     },
     "execution_count": 4,
     "metadata": {},
     "output_type": "execute_result"
    }
   ],
   "source": [
    "df.rename(columns={'Odometer (KM)': 'Odometer'}, inplace=True)\n",
    "df"
   ]
  },
  {
   "cell_type": "code",
   "execution_count": 5,
   "id": "721ba70e",
   "metadata": {},
   "outputs": [
    {
     "name": "stdout",
     "output_type": "stream",
     "text": [
      "49\n",
      "50\n",
      "50\n",
      "50\n",
      "50\n"
     ]
    }
   ],
   "source": [
    "print(pd.isnull(df.Make).sum())\n",
    "print(pd.isnull(df.Colour).sum())\n",
    "print(pd.isnull(df.Odometer).sum())\n",
    "print(pd.isnull(df.Doors).sum())\n",
    "print(pd.isnull(df.Price).sum())"
   ]
  },
  {
   "cell_type": "code",
   "execution_count": 6,
   "id": "d519ca9a",
   "metadata": {},
   "outputs": [
    {
     "name": "stdout",
     "output_type": "stream",
     "text": [
      "951\n",
      "950\n",
      "950\n",
      "950\n",
      "950\n"
     ]
    }
   ],
   "source": [
    "print(pd.notnull(df[\"Make\"]).sum())\n",
    "print(pd.notnull(df[\"Colour\"]).sum())\n",
    "print(pd.notnull(df[\"Odometer\"]).sum())\n",
    "print(pd.notnull(df[\"Doors\"]).sum())\n",
    "print(pd.notnull(df[\"Price\"]).sum())"
   ]
  },
  {
   "cell_type": "code",
   "execution_count": 7,
   "id": "a3578cce",
   "metadata": {},
   "outputs": [
    {
     "data": {
      "text/plain": [
       "1000"
      ]
     },
     "execution_count": 7,
     "metadata": {},
     "output_type": "execute_result"
    }
   ],
   "source": [
    "# len(df)\n",
    "df.shape[0]"
   ]
  },
  {
   "cell_type": "markdown",
   "id": "6153b572",
   "metadata": {},
   "source": [
    "Filling Missing Values in Pandas"
   ]
  },
  {
   "cell_type": "code",
   "execution_count": 8,
   "id": "7c55d5a8",
   "metadata": {},
   "outputs": [
    {
     "name": "stderr",
     "output_type": "stream",
     "text": [
      "C:\\Users\\User 1\\AppData\\Local\\Temp\\ipykernel_6828\\3758177545.py:6: FutureWarning: Setting an item of incompatible dtype is deprecated and will raise an error in a future version of pandas. Value 'whyyyyyyy' has dtype incompatible with float64, please explicitly cast to a compatible dtype first.\n",
      "  df.fillna('whyyyyyyy', limit=2,inplace=True)\n"
     ]
    }
   ],
   "source": [
    "#Using fillna()\n",
    "\n",
    "# df.fillna(0, inplace=True)\n",
    "# df.fillna(method='ffill') #df.ffill()\n",
    "# df.fillna(method='bfill') #df.bdill()\n",
    "df.fillna('whyyyyyyy', limit=2,inplace=True) \n",
    "# print(df.to_string())"
   ]
  },
  {
   "cell_type": "code",
   "execution_count": 9,
   "id": "a9dc9b9e",
   "metadata": {},
   "outputs": [],
   "source": [
    "#using replace()\n",
    "\n",
    "# df.replace(to_replace=np.nan, value=df[\"Price\"].mean(), inplace=True)\n",
    "# print(df.to_string())"
   ]
  },
  {
   "cell_type": "markdown",
   "id": "008853fc",
   "metadata": {},
   "source": [
    "interpolate() method in pandas is used to fill in missing values (NaN) using interpolation—which means estimating values based on other data in the same column.\n",
    "\n",
    "By default, it uses linear interpolation along the index (meaning, it assumes values change in a straight line between known points), but you can customize how it works."
   ]
  },
  {
   "cell_type": "code",
   "execution_count": 10,
   "id": "a4681fda",
   "metadata": {},
   "outputs": [
    {
     "name": "stdout",
     "output_type": "stream",
     "text": [
      "Original DataFrame:\n",
      "     A     B\n",
      "0  1.0   NaN\n",
      "1  2.0  10.0\n",
      "2  NaN   NaN\n",
      "3  4.0  40.0\n",
      "4  5.0  50.0\n",
      "\n",
      "Linear Interpolation:\n",
      "     A     B\n",
      "0  1.0   NaN\n",
      "1  2.0  10.0\n",
      "2  3.0  25.0\n",
      "3  4.0  40.0\n",
      "4  5.0  50.0\n",
      "\n",
      "Polynomial Interpolation (order=2):\n",
      "     A          B\n",
      "0  1.0        NaN\n",
      "1  2.0  10.000000\n",
      "2  3.0  26.666667\n",
      "3  4.0  40.000000\n",
      "4  5.0  50.000000\n",
      "\n",
      "Spline Interpolation (order=2):\n",
      "     A          B\n",
      "0  1.0        NaN\n",
      "1  2.0  10.000000\n",
      "2  3.0  26.666667\n",
      "3  4.0  40.000000\n",
      "4  5.0  50.000000\n",
      "\n",
      "Forward Fill Interpolation:\n",
      "     A     B\n",
      "0  1.0   NaN\n",
      "1  2.0  10.0\n",
      "2  3.0  25.0\n",
      "3  4.0  40.0\n",
      "4  5.0  50.0\n",
      "\n",
      "Backward Fill Interpolation:\n",
      "     A     B\n",
      "0  1.0  10.0\n",
      "1  2.0  10.0\n",
      "2  3.0  25.0\n",
      "3  4.0  40.0\n",
      "4  5.0  50.0\n",
      "\n",
      "Row-wise Interpolation (axis=1):\n",
      "     A     B\n",
      "0  1.0   1.0\n",
      "1  2.0  10.0\n",
      "2  NaN   NaN\n",
      "3  4.0  40.0\n",
      "4  5.0  50.0\n",
      "\n",
      "Interpolation with limit=1:\n",
      "     A     B\n",
      "0  1.0   NaN\n",
      "1  2.0  10.0\n",
      "2  3.0  25.0\n",
      "3  4.0  40.0\n",
      "4  5.0  50.0\n"
     ]
    }
   ],
   "source": [
    "# using interpolate()\n",
    "import pandas as pd\n",
    "import numpy as np\n",
    "\n",
    "# Create a sample DataFrame\n",
    "df = pd.DataFrame({\n",
    "    'A': [1, 2, np.nan, 4, 5],\n",
    "    'B': [np.nan, 10, np.nan, 40, 50]\n",
    "})\n",
    "\n",
    "print(\"Original DataFrame:\")\n",
    "print(df)\n",
    "\n",
    "# 1. Linear interpolation (default)\n",
    "linear_interp = df.interpolate()\n",
    "print(\"\\nLinear Interpolation:\")\n",
    "print(linear_interp)\n",
    "\n",
    "# 2. Polynomial interpolation (order 2)\n",
    "poly_interp = df.interpolate(method='polynomial', order=2)\n",
    "print(\"\\nPolynomial Interpolation (order=2):\")\n",
    "print(poly_interp)\n",
    "\n",
    "# 3. Spline interpolation (order 2)\n",
    "spline_interp = df.interpolate(method='spline', order=2)\n",
    "print(\"\\nSpline Interpolation (order=2):\")\n",
    "print(spline_interp)\n",
    "\n",
    "# 4. Limit direction: forward\n",
    "forward_limit = df.interpolate(limit_direction='forward')\n",
    "print(\"\\nForward Fill Interpolation:\")\n",
    "print(forward_limit)\n",
    "\n",
    "# 5. Limit direction: backward\n",
    "backward_limit = df.interpolate(limit_direction='backward')\n",
    "print(\"\\nBackward Fill Interpolation:\")\n",
    "print(backward_limit)\n",
    "\n",
    "# 6. Interpolate along rows instead of columns\n",
    "row_wise = df.interpolate(axis=1)\n",
    "print(\"\\nRow-wise Interpolation (axis=1):\")\n",
    "print(row_wise)\n",
    "\n",
    "# 7. Interpolation with limit (only 1 NaN filled consecutively)\n",
    "limited = df.interpolate(limit=1)\n",
    "print(\"\\nInterpolation with limit=1:\")\n",
    "print(limited)\n"
   ]
  },
  {
   "cell_type": "code",
   "execution_count": 11,
   "id": "83614e2f",
   "metadata": {},
   "outputs": [
    {
     "ename": "ModuleNotFoundError",
     "evalue": "No module named 'matplotlib'",
     "output_type": "error",
     "traceback": [
      "\u001b[31m---------------------------------------------------------------------------\u001b[39m",
      "\u001b[31mModuleNotFoundError\u001b[39m                       Traceback (most recent call last)",
      "\u001b[36mCell\u001b[39m\u001b[36m \u001b[39m\u001b[32mIn[11]\u001b[39m\u001b[32m, line 3\u001b[39m\n\u001b[32m      1\u001b[39m \u001b[38;5;28;01mimport\u001b[39;00m\u001b[38;5;250m \u001b[39m\u001b[34;01mpandas\u001b[39;00m\u001b[38;5;250m \u001b[39m\u001b[38;5;28;01mas\u001b[39;00m\u001b[38;5;250m \u001b[39m\u001b[34;01mpd\u001b[39;00m\n\u001b[32m      2\u001b[39m \u001b[38;5;28;01mimport\u001b[39;00m\u001b[38;5;250m \u001b[39m\u001b[34;01mnumpy\u001b[39;00m\u001b[38;5;250m \u001b[39m\u001b[38;5;28;01mas\u001b[39;00m\u001b[38;5;250m \u001b[39m\u001b[34;01mnp\u001b[39;00m\n\u001b[32m----> \u001b[39m\u001b[32m3\u001b[39m \u001b[38;5;28;01mimport\u001b[39;00m\u001b[38;5;250m \u001b[39m\u001b[34;01mmatplotlib\u001b[39;00m\u001b[34;01m.\u001b[39;00m\u001b[34;01mpyplot\u001b[39;00m\u001b[38;5;250m \u001b[39m\u001b[38;5;28;01mas\u001b[39;00m\u001b[38;5;250m \u001b[39m\u001b[34;01mplt\u001b[39;00m\n\u001b[32m      5\u001b[39m \u001b[38;5;66;03m# Sample data\u001b[39;00m\n\u001b[32m      6\u001b[39m df = pd.DataFrame({\n\u001b[32m      7\u001b[39m     \u001b[33m'\u001b[39m\u001b[33mx\u001b[39m\u001b[33m'\u001b[39m: \u001b[38;5;28mrange\u001b[39m(\u001b[32m7\u001b[39m),\n\u001b[32m      8\u001b[39m     \u001b[33m'\u001b[39m\u001b[33my\u001b[39m\u001b[33m'\u001b[39m: [\u001b[32m2\u001b[39m, np.nan, np.nan, \u001b[32m8\u001b[39m, np.nan, \u001b[32m18\u001b[39m, \u001b[32m20\u001b[39m]\n\u001b[32m      9\u001b[39m })\n",
      "\u001b[31mModuleNotFoundError\u001b[39m: No module named 'matplotlib'"
     ]
    }
   ],
   "source": [
    "import pandas as pd\n",
    "import numpy as np\n",
    "import matplotlib.pyplot as plt\n",
    "\n",
    "# Sample data\n",
    "df = pd.DataFrame({\n",
    "    'x': range(7),\n",
    "    'y': [2, np.nan, np.nan, 8, np.nan, 18, 20]\n",
    "})\n",
    "\n",
    "print(\"Original DataFrame:\")\n",
    "print(df)\n",
    "\n",
    "# Apply polynomial interpolation of order 2\n",
    "df_poly = df.copy()\n",
    "df_poly['y'] = df_poly['y'].interpolate(method='polynomial', order=2)\n",
    "\n",
    "print(\"\\nPolynomial Interpolation (order=2):\")\n",
    "print(df_poly)\n",
    "\n",
    "# Optional plot\n",
    "plt.plot(df['x'], df['y'], 'o-', alpha = 0.9,label='Original with NaNs')\n",
    "plt.plot(df_poly['x'], df_poly['y'], 's--', alpha=0.3,label='Polynomial Interpolated')\n",
    "plt.legend()\n",
    "plt.title(\"Polynomial Interpolation\")\n",
    "plt.show()\n"
   ]
  },
  {
   "cell_type": "markdown",
   "id": "8c277d6d",
   "metadata": {},
   "source": [
    "### Dropping Missing Values in Pandas"
   ]
  },
  {
   "cell_type": "markdown",
   "id": "0ee37980",
   "metadata": {},
   "source": [
    "Dropping Rows with All Null Values"
   ]
  },
  {
   "cell_type": "code",
   "execution_count": null,
   "id": "78c2bff5",
   "metadata": {},
   "outputs": [
    {
     "data": {
      "text/html": [
       "<div>\n",
       "<style scoped>\n",
       "    .dataframe tbody tr th:only-of-type {\n",
       "        vertical-align: middle;\n",
       "    }\n",
       "\n",
       "    .dataframe tbody tr th {\n",
       "        vertical-align: top;\n",
       "    }\n",
       "\n",
       "    .dataframe thead th {\n",
       "        text-align: right;\n",
       "    }\n",
       "</style>\n",
       "<table border=\"1\" class=\"dataframe\">\n",
       "  <thead>\n",
       "    <tr style=\"text-align: right;\">\n",
       "      <th></th>\n",
       "      <th>First Score</th>\n",
       "      <th>Second Score</th>\n",
       "      <th>Third Score</th>\n",
       "      <th>Fourth Score</th>\n",
       "    </tr>\n",
       "  </thead>\n",
       "  <tbody>\n",
       "    <tr>\n",
       "      <th>0</th>\n",
       "      <td>100.0</td>\n",
       "      <td>30.0</td>\n",
       "      <td>52.0</td>\n",
       "      <td>NaN</td>\n",
       "    </tr>\n",
       "    <tr>\n",
       "      <th>1</th>\n",
       "      <td>NaN</td>\n",
       "      <td>NaN</td>\n",
       "      <td>NaN</td>\n",
       "      <td>NaN</td>\n",
       "    </tr>\n",
       "    <tr>\n",
       "      <th>2</th>\n",
       "      <td>NaN</td>\n",
       "      <td>45.0</td>\n",
       "      <td>80.0</td>\n",
       "      <td>NaN</td>\n",
       "    </tr>\n",
       "    <tr>\n",
       "      <th>3</th>\n",
       "      <td>95.0</td>\n",
       "      <td>56.0</td>\n",
       "      <td>98.0</td>\n",
       "      <td>65.0</td>\n",
       "    </tr>\n",
       "  </tbody>\n",
       "</table>\n",
       "</div>"
      ],
      "text/plain": [
       "   First Score  Second Score  Third Score  Fourth Score\n",
       "0        100.0          30.0         52.0           NaN\n",
       "1          NaN           NaN          NaN           NaN\n",
       "2          NaN          45.0         80.0           NaN\n",
       "3         95.0          56.0         98.0          65.0"
      ]
     },
     "metadata": {},
     "output_type": "display_data"
    },
    {
     "data": {
      "text/html": [
       "<div>\n",
       "<style scoped>\n",
       "    .dataframe tbody tr th:only-of-type {\n",
       "        vertical-align: middle;\n",
       "    }\n",
       "\n",
       "    .dataframe tbody tr th {\n",
       "        vertical-align: top;\n",
       "    }\n",
       "\n",
       "    .dataframe thead th {\n",
       "        text-align: right;\n",
       "    }\n",
       "</style>\n",
       "<table border=\"1\" class=\"dataframe\">\n",
       "  <thead>\n",
       "    <tr style=\"text-align: right;\">\n",
       "      <th></th>\n",
       "      <th>First Score</th>\n",
       "      <th>Second Score</th>\n",
       "      <th>Third Score</th>\n",
       "      <th>Fourth Score</th>\n",
       "    </tr>\n",
       "  </thead>\n",
       "  <tbody>\n",
       "    <tr>\n",
       "      <th>0</th>\n",
       "      <td>100.0</td>\n",
       "      <td>30.0</td>\n",
       "      <td>52.0</td>\n",
       "      <td>NaN</td>\n",
       "    </tr>\n",
       "    <tr>\n",
       "      <th>2</th>\n",
       "      <td>NaN</td>\n",
       "      <td>45.0</td>\n",
       "      <td>80.0</td>\n",
       "      <td>NaN</td>\n",
       "    </tr>\n",
       "    <tr>\n",
       "      <th>3</th>\n",
       "      <td>95.0</td>\n",
       "      <td>56.0</td>\n",
       "      <td>98.0</td>\n",
       "      <td>65.0</td>\n",
       "    </tr>\n",
       "  </tbody>\n",
       "</table>\n",
       "</div>"
      ],
      "text/plain": [
       "   First Score  Second Score  Third Score  Fourth Score\n",
       "0        100.0          30.0         52.0           NaN\n",
       "2          NaN          45.0         80.0           NaN\n",
       "3         95.0          56.0         98.0          65.0"
      ]
     },
     "execution_count": 12,
     "metadata": {},
     "output_type": "execute_result"
    }
   ],
   "source": [
    "dict = {'First Score': [100, np.nan, np.nan, 95],\n",
    "        'Second Score': [30, np.nan, 45, 56],\n",
    "        'Third Score': [52, np.nan, 80, 98],\n",
    "        'Fourth Score': [np.nan, np.nan, np.nan, 65]}\n",
    "df = pd.DataFrame(dict)\n",
    "display(df)\n",
    "df.dropna(how='all')"
   ]
  },
  {
   "cell_type": "code",
   "execution_count": null,
   "id": "c39686f8",
   "metadata": {},
   "outputs": [],
   "source": [
    "df.loc[3, \"Fourth Score\"] = np.nan"
   ]
  },
  {
   "cell_type": "code",
   "execution_count": null,
   "id": "91e1dd34",
   "metadata": {},
   "outputs": [
    {
     "data": {
      "text/html": [
       "<div>\n",
       "<style scoped>\n",
       "    .dataframe tbody tr th:only-of-type {\n",
       "        vertical-align: middle;\n",
       "    }\n",
       "\n",
       "    .dataframe tbody tr th {\n",
       "        vertical-align: top;\n",
       "    }\n",
       "\n",
       "    .dataframe thead th {\n",
       "        text-align: right;\n",
       "    }\n",
       "</style>\n",
       "<table border=\"1\" class=\"dataframe\">\n",
       "  <thead>\n",
       "    <tr style=\"text-align: right;\">\n",
       "      <th></th>\n",
       "      <th>First Score</th>\n",
       "      <th>Second Score</th>\n",
       "      <th>Third Score</th>\n",
       "      <th>Fourth Score</th>\n",
       "    </tr>\n",
       "  </thead>\n",
       "  <tbody>\n",
       "    <tr>\n",
       "      <th>0</th>\n",
       "      <td>100.0</td>\n",
       "      <td>30.0</td>\n",
       "      <td>52.0</td>\n",
       "      <td>NaN</td>\n",
       "    </tr>\n",
       "    <tr>\n",
       "      <th>1</th>\n",
       "      <td>NaN</td>\n",
       "      <td>NaN</td>\n",
       "      <td>NaN</td>\n",
       "      <td>NaN</td>\n",
       "    </tr>\n",
       "    <tr>\n",
       "      <th>2</th>\n",
       "      <td>NaN</td>\n",
       "      <td>45.0</td>\n",
       "      <td>80.0</td>\n",
       "      <td>NaN</td>\n",
       "    </tr>\n",
       "    <tr>\n",
       "      <th>3</th>\n",
       "      <td>95.0</td>\n",
       "      <td>56.0</td>\n",
       "      <td>98.0</td>\n",
       "      <td>NaN</td>\n",
       "    </tr>\n",
       "  </tbody>\n",
       "</table>\n",
       "</div>"
      ],
      "text/plain": [
       "   First Score  Second Score  Third Score  Fourth Score\n",
       "0        100.0          30.0         52.0           NaN\n",
       "1          NaN           NaN          NaN           NaN\n",
       "2          NaN          45.0         80.0           NaN\n",
       "3         95.0          56.0         98.0           NaN"
      ]
     },
     "execution_count": 14,
     "metadata": {},
     "output_type": "execute_result"
    }
   ],
   "source": [
    "df"
   ]
  },
  {
   "cell_type": "code",
   "execution_count": null,
   "id": "6a563e74",
   "metadata": {},
   "outputs": [
    {
     "data": {
      "text/html": [
       "<div>\n",
       "<style scoped>\n",
       "    .dataframe tbody tr th:only-of-type {\n",
       "        vertical-align: middle;\n",
       "    }\n",
       "\n",
       "    .dataframe tbody tr th {\n",
       "        vertical-align: top;\n",
       "    }\n",
       "\n",
       "    .dataframe thead th {\n",
       "        text-align: right;\n",
       "    }\n",
       "</style>\n",
       "<table border=\"1\" class=\"dataframe\">\n",
       "  <thead>\n",
       "    <tr style=\"text-align: right;\">\n",
       "      <th></th>\n",
       "      <th>First Score</th>\n",
       "      <th>Second Score</th>\n",
       "      <th>Third Score</th>\n",
       "    </tr>\n",
       "  </thead>\n",
       "  <tbody>\n",
       "    <tr>\n",
       "      <th>0</th>\n",
       "      <td>100.0</td>\n",
       "      <td>30.0</td>\n",
       "      <td>52.0</td>\n",
       "    </tr>\n",
       "    <tr>\n",
       "      <th>1</th>\n",
       "      <td>NaN</td>\n",
       "      <td>NaN</td>\n",
       "      <td>NaN</td>\n",
       "    </tr>\n",
       "    <tr>\n",
       "      <th>2</th>\n",
       "      <td>NaN</td>\n",
       "      <td>45.0</td>\n",
       "      <td>80.0</td>\n",
       "    </tr>\n",
       "    <tr>\n",
       "      <th>3</th>\n",
       "      <td>95.0</td>\n",
       "      <td>56.0</td>\n",
       "      <td>98.0</td>\n",
       "    </tr>\n",
       "  </tbody>\n",
       "</table>\n",
       "</div>"
      ],
      "text/plain": [
       "   First Score  Second Score  Third Score\n",
       "0        100.0          30.0         52.0\n",
       "1          NaN           NaN          NaN\n",
       "2          NaN          45.0         80.0\n",
       "3         95.0          56.0         98.0"
      ]
     },
     "execution_count": 15,
     "metadata": {},
     "output_type": "execute_result"
    }
   ],
   "source": [
    "df = df.dropna(how='all', axis=1)\n",
    "df"
   ]
  },
  {
   "cell_type": "code",
   "execution_count": null,
   "id": "a8d954f6",
   "metadata": {},
   "outputs": [
    {
     "data": {
      "text/html": [
       "<div>\n",
       "<style scoped>\n",
       "    .dataframe tbody tr th:only-of-type {\n",
       "        vertical-align: middle;\n",
       "    }\n",
       "\n",
       "    .dataframe tbody tr th {\n",
       "        vertical-align: top;\n",
       "    }\n",
       "\n",
       "    .dataframe thead th {\n",
       "        text-align: right;\n",
       "    }\n",
       "</style>\n",
       "<table border=\"1\" class=\"dataframe\">\n",
       "  <thead>\n",
       "    <tr style=\"text-align: right;\">\n",
       "      <th></th>\n",
       "      <th>First Score</th>\n",
       "      <th>Second Score</th>\n",
       "      <th>Third Score</th>\n",
       "    </tr>\n",
       "  </thead>\n",
       "  <tbody>\n",
       "    <tr>\n",
       "      <th>0</th>\n",
       "      <td>100.0</td>\n",
       "      <td>30.0</td>\n",
       "      <td>52.0</td>\n",
       "    </tr>\n",
       "    <tr>\n",
       "      <th>3</th>\n",
       "      <td>95.0</td>\n",
       "      <td>56.0</td>\n",
       "      <td>98.0</td>\n",
       "    </tr>\n",
       "  </tbody>\n",
       "</table>\n",
       "</div>"
      ],
      "text/plain": [
       "   First Score  Second Score  Third Score\n",
       "0        100.0          30.0         52.0\n",
       "3         95.0          56.0         98.0"
      ]
     },
     "metadata": {},
     "output_type": "display_data"
    }
   ],
   "source": [
    "df1 = df.dropna()\n",
    "display(df1)"
   ]
  },
  {
   "cell_type": "code",
   "execution_count": null,
   "id": "74c012e9",
   "metadata": {},
   "outputs": [
    {
     "name": "stdout",
     "output_type": "stream",
     "text": [
      "Original:\n",
      "        A     B     C     D\n",
      "0  100.0  30.0  52.0   NaN\n",
      "1    NaN   NaN   NaN   NaN\n",
      "2    NaN  45.0  80.0   NaN\n",
      "3   95.0  56.0  98.0  65.0\n",
      "\n",
      "Drop rows with at least 1 NaN:\n",
      "       A     B     C     D\n",
      "3  95.0  56.0  98.0  65.0\n",
      "\n",
      "Drop rows where all values are NaN:\n",
      "        A     B     C     D\n",
      "0  100.0  30.0  52.0   NaN\n",
      "2    NaN  45.0  80.0   NaN\n",
      "3   95.0  56.0  98.0  65.0\n",
      "\n",
      "Drop columns with at least 1 NaN:\n",
      " Empty DataFrame\n",
      "Columns: []\n",
      "Index: [0, 1, 2, 3]\n"
     ]
    }
   ],
   "source": [
    "import pandas as pd\n",
    "import numpy as np\n",
    "\n",
    "df = pd.DataFrame({\n",
    "    'A': [100, np.nan, np.nan, 95],\n",
    "    'B': [30, np.nan, 45, 56],\n",
    "    'C': [52, np.nan, 80, 98],\n",
    "    'D': [np.nan, np.nan, np.nan, 65]\n",
    "})\n",
    "print(\"Original:\\n\", df)\n",
    "\n",
    "print(\"\\nDrop rows with at least 1 NaN:\\n\",df.dropna())\n",
    "\n",
    "print(\"\\nDrop rows where all values are NaN:\\n\",df.dropna(how='all'))\n",
    "\n",
    "print(\"\\nDrop columns with at least 1 NaN:\\n\",df.dropna(axis=1))"
   ]
  },
  {
   "cell_type": "code",
   "execution_count": null,
   "id": "28873bab",
   "metadata": {},
   "outputs": [
    {
     "name": "stdout",
     "output_type": "stream",
     "text": [
      "Original DataFrame:\n",
      "  Customer                Email     Phone\n",
      "0    Alice    alice@example.com       NaN\n",
      "1      Bob                  NaN  555-1234\n",
      "2  Charlie  charlie@example.com  555-9876\n",
      "3    David                  NaN       NaN\n",
      "\n",
      "Customers with no contact info:\n",
      "  Customer Email Phone\n",
      "3    David   NaN   NaN\n",
      "\n",
      "Updated DataFrame with missing emails filled:\n",
      "  Customer                Email     Phone\n",
      "0    Alice    alice@example.com       NaN\n",
      "1      Bob  missing@example.com  555-1234\n",
      "2  Charlie  charlie@example.com  555-9876\n",
      "3    David  missing@example.com       NaN\n"
     ]
    }
   ],
   "source": [
    "import pandas as pd\n",
    "import numpy as np\n",
    "\n",
    "df = pd.DataFrame({\n",
    "    'Customer': ['Alice', 'Bob', 'Charlie', 'David'],\n",
    "    'Email': ['alice@example.com', np.nan, 'charlie@example.com', np.nan],\n",
    "    'Phone': [np.nan, '555-1234', '555-9876', np.nan]\n",
    "})\n",
    "\n",
    "print(\"Original DataFrame:\")\n",
    "print(df)\n",
    "\n",
    "mask = df[['Email', 'Phone']].isna().all(axis=1)\n",
    "\n",
    "print(\"\\nCustomers with no contact info:\")\n",
    "print(df[mask])\n",
    "\n",
    "df.loc[df['Email'].isna(), 'Email'] = 'missing@example.com'\n",
    "\n",
    "print(\"\\nUpdated DataFrame with missing emails filled:\")\n",
    "print(df)\n"
   ]
  },
  {
   "cell_type": "markdown",
   "id": "78612daa",
   "metadata": {},
   "source": [
    "query() function enables filtering rows based on logical conditions. Since NaN is not equal to itself (NaN != NaN), we can use expressions like \"A == A and B == B\" to drop rows containing NaNs."
   ]
  },
  {
   "cell_type": "code",
   "execution_count": null,
   "id": "e6018d11",
   "metadata": {},
   "outputs": [
    {
     "name": "stdout",
     "output_type": "stream",
     "text": [
      "         A                    B         C\n",
      "1      Bob  missing@example.com  555-1234\n",
      "2  Charlie  charlie@example.com  555-9876\n"
     ]
    }
   ],
   "source": [
    "df.rename(columns={\n",
    "    \"Customer\" : \"A\",\n",
    "    'Email':'B',\n",
    "    'Phone': 'C'\n",
    "}, inplace=True)\n",
    "df\n",
    "print(df.query(\"A == A and B ==B and C == C\"))"
   ]
  },
  {
   "cell_type": "markdown",
   "id": "01b79aa9",
   "metadata": {},
   "source": [
    "### outliers detections\n",
    "- Box ploy\n",
    "- scatter plot\n",
    "- z -score(threshold typically - 2 or 3)\n",
    "- interquartie range(IQR)"
   ]
  },
  {
   "cell_type": "code",
   "execution_count": 15,
   "id": "1f1c6618",
   "metadata": {},
   "outputs": [
    {
     "data": {
      "image/png": "[encoded data removed]",
      "text/plain": [
       "<Figure size 640x480 with 1 Axes>"
      ]
     },
     "metadata": {},
     "output_type": "display_data"
    }
   ],
   "source": [
    "# box plot\n",
    "import sklearn\n",
    "from sklearn.datasets import load_diabetes\n",
    "import pandas as pd\n",
    "import seaborn as sns\n",
    "import matplotlib.pyplot as plt\n",
    "\n",
    "diabetes = load_diabetes()\n",
    "\n",
    "column_name = diabetes.feature_names\n",
    "df_diabetics = pd.DataFrame(diabetes.data, columns=column_name)\n",
    "\n",
    "sns.boxplot(df_diabetics['bmi'])\n",
    "plt.title('Boxplot of BMI')\n",
    "plt.show()"
   ]
  },
  {
   "cell_type": "code",
   "execution_count": 16,
   "id": "4941708f",
   "metadata": {},
   "outputs": [
    {
     "data": {
      "image/png": "[encoded data removed]",
      "text/plain": [
       "<Figure size 640x480 with 1 Axes>"
      ]
     },
     "metadata": {},
     "output_type": "display_data"
    }
   ],
   "source": [
    "def removal_box_plot(df, column, threshold):\n",
    "    removed_outliers = df[df[column] <= threshold]\n",
    "\n",
    "    sns.boxplot(removed_outliers[column])\n",
    "    plt.title(f'Box Plot without Outliers of {column}')\n",
    "    plt.show()\n",
    "    return removed_outliers\n",
    "\n",
    "\n",
    "threshold_value = 0.12\n",
    "\n",
    "no_outliers = removal_box_plot(df_diabetics, 'bmi', threshold_value)"
   ]
  },
  {
   "cell_type": "markdown",
   "id": "d595f99b",
   "metadata": {},
   "source": [
    "Scatter plots help visualize relationships between two variables. It is used when we have paired numerical data and when our dependent variable has multiple values for each reading independent variable. Outliers appear as points far from the main cluster of data."
   ]
  },
  {
   "cell_type": "code",
   "execution_count": 17,
   "id": "872e49df",
   "metadata": {},
   "outputs": [
    {
     "data": {
      "image/png": "[encoded data removed]",
      "text/plain": [
       "<Figure size 600x400 with 1 Axes>"
      ]
     },
     "metadata": {},
     "output_type": "display_data"
    }
   ],
   "source": [
    "fig, ax = plt.subplots(figsize=(6, 4))\n",
    "ax.scatter(df_diabetics['bmi'], df_diabetics['bp'])\n",
    "ax.set_xlabel('BMI')\n",
    "ax.set_ylabel('Blood Pressure')\n",
    "plt.title('Scatter Plot of BMI vs Blood Pressure')\n",
    "plt.show()"
   ]
  },
  {
   "cell_type": "markdown",
   "id": "d9756ad9",
   "metadata": {},
   "source": [
    "we can remove the outliers identified visually from the scatter plot.\n",
    "\n",
    "- np.where(): Used to find the positions (indices) where the condition is true in the DataFrame.\n",
    "- (df_diabetics['bmi'] > 0.12) & (df_diabetics['bp'] < 0.8): Checks for outliers where 'bmi' is greater than 0.12 and 'bp' is less than 0.8."
   ]
  },
  {
   "cell_type": "code",
   "execution_count": 26,
   "id": "a6790920",
   "metadata": {},
   "outputs": [
    {
     "data": {
      "image/png": "[encoded data removed]",
      "text/plain": [
       "<Figure size 600x400 with 1 Axes>"
      ]
     },
     "metadata": {},
     "output_type": "display_data"
    }
   ],
   "source": [
    "outlier_indices = np.where((df_diabetics['bmi'] > 0.12) & (df_diabetics['bp'] < 0.8))\n",
    "\n",
    "no_outliers = df_diabetics.drop(outlier_indices[0])\n",
    "\n",
    "fig, ax_no_outliers = plt.subplots(figsize=(6, 4))\n",
    "ax_no_outliers.scatter(no_outliers['bmi'], no_outliers['bp'])\n",
    "ax_no_outliers.set_xlabel('(body mass index of people)')\n",
    "ax_no_outliers.set_ylabel('(bp of the people )')\n",
    "plt.show()"
   ]
  },
  {
   "cell_type": "markdown",
   "id": "f20da5a6",
   "metadata": {},
   "source": [
    "Z- Score is also called a standard score. This score measures how far a data point is from the mean, in terms of standard deviations. If the Z-score exceeds a given threshold (commonly 3 ot typically 2 or 3) the data point is considered an outlier.\n",
    "\n",
    "Z-score = x - μ / σ\n",
    "\n",
    "- x = data point\n",
    "- μ = mean\n",
    "- σ = standard deviation"
   ]
  },
  {
   "cell_type": "code",
   "execution_count": 19,
   "id": "79cc818e",
   "metadata": {},
   "outputs": [
    {
     "name": "stdout",
     "output_type": "stream",
     "text": [
      "[0.80050009 0.03956713 1.79330681 1.87244107 0.11317236 1.94881082\n",
      " 0.9560041  1.33508832 0.87686984 1.49059233 2.02518057 0.57139085\n",
      " 0.34228161 0.11317236 0.95323959 1.1087436  0.11593688 1.48782782\n",
      " 0.80326461 0.57415536 1.03237385 1.79607132 1.79607132 0.95323959\n",
      " 1.33785284 1.41422259 2.25428981 0.49778562 1.10597908 1.41145807\n",
      " 1.26148309 0.49778562 0.72413034 0.6477606  0.34228161 1.02960933\n",
      " 0.26591186 0.19230663 0.03956713 0.03956713 0.11317236 2.10155031\n",
      " 1.26148309 0.41865135 0.95323959 0.57139085 1.18511334 1.64333183\n",
      " 1.41145807 0.87963435 0.72413034 1.25871858 1.1087436  0.19230663\n",
      " 1.03237385 0.87963435 0.87963435 0.57415536 0.87686984 1.33508832\n",
      " 1.49059233 0.87963435 0.57415536 0.72689486 1.41145807 0.9560041\n",
      " 0.19230663 0.87686984 0.80050009 0.34228161 0.03956713 0.03956713\n",
      " 1.33508832 0.26591186 0.26591186 0.19230663 0.65052511 2.02518057\n",
      " 0.11317236 2.17792006 1.48782782 0.26591186 0.34504612 0.80326461\n",
      " 0.03680262 0.95323959 1.49059233 0.95323959 1.1087436  0.9560041\n",
      " 0.26591186 0.95323959 0.42141587 1.03237385 1.64333183 1.49059233\n",
      " 1.18234883 0.57415536 0.03680262 0.03956713 0.34228161 0.34228161\n",
      " 1.94881082 1.25871858 0.57415536 0.4950211  2.02518057 0.57139085\n",
      " 0.41865135 0.80050009 0.87686984 0.41865135 1.79607132 0.41865135\n",
      " 0.4950211  0.65052511 1.02960933 1.25871858 1.18511334 0.34228161\n",
      " 1.03237385 1.33508832 1.02960933 0.11317236 0.11593688 0.11593688\n",
      " 1.87244107 0.72413034 1.1087436  0.18954211 1.33785284 2.02518057\n",
      " 0.34228161 0.87963435 1.56696208 0.11593688 1.94881082 0.11317236\n",
      " 0.72413034 0.4950211  0.87686984 0.57415536 0.87686984 0.65052511\n",
      " 0.6477606  0.87963435 0.65052511 1.18511334 1.26148309 1.03237385\n",
      " 0.4950211  0.03680262 0.72689486 0.87686984 1.41145807 0.57415536\n",
      " 0.34504612 0.03956713 0.26867637 0.11593688 0.19230663 0.9560041\n",
      " 1.1087436  0.34228161 0.95323959 0.87963435 1.18511334 1.48782782\n",
      " 0.03680262 0.03956713 0.4950211  0.42141587 0.87686984 1.33785284\n",
      " 0.34228161 1.41145807 0.95323959 1.02960933 0.87686984 0.49778562\n",
      " 0.80326461 1.02960933 0.95323959 0.95323959 0.34228161 1.56696208\n",
      " 1.71970158 1.41422259 0.11317236 0.03956713 0.18954211 0.11593688\n",
      " 1.18234883 0.18954211 1.41422259 0.57139085 0.49778562 1.02960933\n",
      " 1.1087436  0.87686984 1.18234883 0.72689486 1.71693706 0.03956713\n",
      " 2.32789504 0.65052511 0.03680262 0.18954211 0.6477606  0.80050009\n",
      " 0.18954211 1.9460463  1.41145807 0.03680262 0.6477606  0.57139085\n",
      " 0.26591186 1.56419757 0.87963435 1.87244107 0.4950211  0.9560041\n",
      " 0.49778562 2.10155031 0.57415536 0.6477606  2.17792006 1.41145807\n",
      " 1.1087436  0.57415536 0.80326461 0.18954211 0.26591186 1.41145807\n",
      " 0.95323959 1.41145807 0.57139085 1.18234883 0.72413034 0.4950211\n",
      " 1.02960933 0.6477606  2.17792006 0.34228161 1.26148309 0.57415536\n",
      " 0.87686984 1.71970158 0.87963435 0.26867637 1.41145807 1.1087436\n",
      " 0.11317236 1.71693706 0.6477606  0.03680262 1.03237385 0.57415536\n",
      " 1.64056731 0.26591186 0.87686984 1.02960933 0.34504612 1.56696208\n",
      " 0.72413034 0.72689486 1.1087436  1.25871858 1.33508832 0.18954211\n",
      " 0.11317236 0.80050009 0.26591186 1.56419757 0.34228161 0.11593688\n",
      " 0.26591186 0.72689486 1.41145807 0.80050009 0.18954211 1.94881082\n",
      " 1.48782782 0.34504612 0.87686984 0.26591186 0.80326461 0.95323959\n",
      " 1.48782782 1.56696208 1.25871858 1.56419757 0.18954211 1.49059233\n",
      " 0.4950211  1.1087436  1.41145807 0.03680262 0.4950211  0.80050009\n",
      " 0.34228161 0.03956713 0.26591186 1.56419757 0.87686984 0.19230663\n",
      " 0.18954211 1.41145807 0.03680262 0.19230663 0.11593688 2.02241605\n",
      " 1.56696208 1.25871858 0.49778562 0.18954211 0.34228161 0.41865135\n",
      " 1.86967656 0.41865135 0.49778562 2.02241605 0.4950211  1.48782782\n",
      " 0.6477606  0.03956713 0.95323959 1.56419757 0.80326461 0.26867637\n",
      " 0.18954211 1.71693706 0.6477606  0.57139085 1.26148309 0.11317236\n",
      " 0.42141587 0.41865135 1.33785284 0.57139085 0.34504612 0.6477606\n",
      " 1.18234883 0.42141587 2.25428981 1.71693706 0.11317236 0.80050009\n",
      " 0.6477606  0.03680262 0.57415536 1.79607132 0.26591186 1.1087436\n",
      " 0.49778562 1.56696208 0.11593688 1.26148309 0.42141587 0.80050009\n",
      " 0.34228161 0.87686984 0.41865135 1.03237385 0.03680262 0.72413034\n",
      " 0.9560041  0.19230663 0.34504612 0.19230663 0.41865135 1.10597908\n",
      " 0.57415536 1.56696208 2.25428981 0.95323959 0.03956713 0.41865135\n",
      " 0.34228161 0.03956713 0.34228161 1.49059233 1.02960933 0.11317236\n",
      " 0.72413034 0.4950211  0.41865135 0.9560041  1.10597908 0.11593688\n",
      " 0.18954211 0.49778562 0.87963435 1.56696208 0.72413034 1.26148309\n",
      " 1.79607132 1.10597908 0.26591186 1.25871858 0.49778562 0.34228161\n",
      " 2.32789504 0.42141587 0.34504612 1.02960933 1.18511334 0.57139085\n",
      " 1.33508832 1.1087436  0.19230663 0.11317236 1.56419757 1.1087436\n",
      " 1.71693706 0.11593688 0.57415536 1.1087436  0.18954211 0.42141587\n",
      " 0.4950211  0.80050009 1.64333183 0.18954211 0.03680262 1.64333183\n",
      " 0.6477606  0.72689486 1.02960933 0.87963435 0.19230663 1.48782782\n",
      " 0.18954211 0.57415536 0.34228161 0.26867637 1.18511334 0.87686984\n",
      " 0.11593688 0.87686984 0.9560041  0.9560041 ]\n"
     ]
    }
   ],
   "source": [
    "from scipy import stats\n",
    "import numpy as np\n",
    "z = np.abs(stats.zscore(df_diabetics['age']))\n",
    "print(z)"
   ]
  },
  {
   "cell_type": "markdown",
   "id": "45f02e81",
   "metadata": {},
   "source": [
    " to define an outlier threshold value is chosen which is generally 3.0. As 99.7% of the data points lie between ±3 standard deviation using Gaussian Distribution approach.\n",
    "\n",
    " - np.where() : Used to find the positions (indices) in the Z-score array where the condition is true.\n",
    "- z > threshold : Checks for outliers in the 'age' column where the absolute Z-score exceeds the defined threshold (typically 2 or 3).\n",
    "- threshold = 2 : A cutoff value used to identify outliers, data points with a Z-score greater than 2 are considered outliers."
   ]
  },
  {
   "cell_type": "code",
   "execution_count": 20,
   "id": "fd21b11a",
   "metadata": {},
   "outputs": [
    {
     "name": "stdout",
     "output_type": "stream",
     "text": [
      "Original DataFrame Shape: (442, 10)\n",
      "DataFrame Shape after Removing Outliers: (426, 10)\n"
     ]
    }
   ],
   "source": [
    "import numpy as np\n",
    "\n",
    "threshold_z = 2\n",
    "\n",
    "outlier_indices = np.where(z > threshold_z)[0]\n",
    "no_outliers = df_diabetics.drop(outlier_indices)\n",
    "print(\"Original DataFrame Shape:\", df_diabetics.shape)\n",
    "print(\"DataFrame Shape after Removing Outliers:\", no_outliers.shape)"
   ]
  },
  {
   "cell_type": "markdown",
   "id": "f9482280",
   "metadata": {},
   "source": [
    " Interquartile Range (IQR) Method\n",
    " \n",
    "IQR (Inter Quartile Range) method is a widely used and reliable technique for detecting outliers. It is robust to skewed data and helps identify extreme values based on quartiles and it most trusted approach used in the research field. The IQR is calculated as the difference between the third quartile (Q3) and the first quartile (Q1):\n",
    "\n",
    "IQR=Q3−Q1\n",
    "\n",
    "Syntax : numpy.percentile(arr, n, axis=None, out=None)\n",
    "\n",
    "Parameters:\n",
    "\n",
    "arr: Input array.\n",
    "n: Percentile value."
   ]
  },
  {
   "cell_type": "code",
   "execution_count": 21,
   "id": "3dd95d3f",
   "metadata": {},
   "outputs": [
    {
     "name": "stdout",
     "output_type": "stream",
     "text": [
      "0.06520763046978838\n"
     ]
    }
   ],
   "source": [
    "Q1 = np.percentile(df_diabetics['bmi'], 25, method='midpoint')\n",
    "Q3 = np.percentile(df_diabetics['bmi'], 75, method='midpoint')\n",
    "IQR = Q3 - Q1\n",
    "print(IQR)"
   ]
  },
  {
   "cell_type": "markdown",
   "id": "e4a78674",
   "metadata": {},
   "source": [
    "To define the outlier base value is defined above and below dataset's normal range namely Upper and Lower bounds define the upper and the lower bound (1.5*IQR value is considered i.e:\n",
    "\n",
    "upper=Q3+1.5∗IQR\n",
    "\n",
    "lower=Q1−1.5∗IQR\n",
    "\n",
    "In the above formula the 0.5 scale-up of IQR (new_IQR = IQR + 0.5*IQR) is taken to consider all the data between 2.7 standard deviations in the Gaussian Distribution."
   ]
  },
  {
   "cell_type": "code",
   "execution_count": 22,
   "id": "44c23570",
   "metadata": {},
   "outputs": [
    {
     "name": "stdout",
     "output_type": "stream",
     "text": [
      "Upper Bound: 0.12879000811776306\n",
      "3\n",
      "Lower Bound: -0.13204051376139045\n",
      "0\n"
     ]
    }
   ],
   "source": [
    "upper = Q3+1.5*IQR\n",
    "upper_array = np.array(df_diabetics['bmi'] >= upper)\n",
    "print(\"Upper Bound:\", upper)\n",
    "print(upper_array.sum())\n",
    "\n",
    "lower = Q1-1.5*IQR\n",
    "lower_array = np.array(df_diabetics['bmi'] <= lower)\n",
    "print(\"Lower Bound:\", lower)\n",
    "print(lower_array.sum())"
   ]
  },
  {
   "cell_type": "code",
   "execution_count": 23,
   "id": "acf99317",
   "metadata": {},
   "outputs": [
    {
     "name": "stdout",
     "output_type": "stream",
     "text": [
      "Old Shape:  (442, 10)\n",
      "New Shape:  (439, 10)\n"
     ]
    }
   ],
   "source": [
    "import sklearn\n",
    "from sklearn.datasets import load_diabetes\n",
    "import pandas as pd\n",
    "diabetes = load_diabetes()\n",
    "\n",
    "column_name = diabetes.feature_names\n",
    "df_diabetes = pd.DataFrame(diabetes.data)\n",
    "df_diabetes .columns = column_name\n",
    "df_diabetes .head()\n",
    "print(\"Old Shape: \", df_diabetes.shape)\n",
    "\n",
    "\n",
    "Q1 = df_diabetes['bmi'].quantile(0.25)\n",
    "Q3 = df_diabetes['bmi'].quantile(0.75)\n",
    "IQR = Q3 - Q1\n",
    "lower = Q1 - 1.5*IQR\n",
    "upper = Q3 + 1.5*IQR\n",
    "\n",
    "upper_array = np.where(df_diabetes['bmi'] >= upper)[0]\n",
    "lower_array = np.where(df_diabetes['bmi'] <= lower)[0]\n",
    "\n",
    "df_diabetes.drop(index=upper_array, inplace=True)\n",
    "df_diabetes.drop(index=lower_array, inplace=True)\n",
    "\n",
    "print(\"New Shape: \", df_diabetes.shape)"
   ]
  },
  {
   "cell_type": "code",
   "execution_count": null,
   "id": "6d8a4806",
   "metadata": {},
   "outputs": [],
   "source": []
  }
 ],
 "metadata": {
  "kernelspec": {
   "display_name": "venv",
   "language": "python",
   "name": "python3"
  },
  "language_info": {
   "codemirror_mode": {
    "name": "ipython",
    "version": 3
   },
   "file_extension": ".py",
   "mimetype": "text/x-python",
   "name": "python",
   "nbconvert_exporter": "python",
   "pygments_lexer": "ipython3",
   "version": "3.13.4"
  }
 },
 "nbformat": 4,
 "nbformat_minor": 5
}
